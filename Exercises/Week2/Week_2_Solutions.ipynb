{
  "cells": [
    {
      "cell_type": "markdown",
      "id": "3275ace2",
      "metadata": {
        "id": "3275ace2"
      },
      "source": [
        "# 📚  Exercise Session - Week 2\n",
        "\n",
        "Welcome to Week 2 exercise's session of CS552-Modern NLP!\n",
        "\n",
        "\n",
        "> **What will be covered:**\n",
        "1. [**TASK A:** N-gram Language Models](#ngram_lm)\n",
        "    - [Unigram Language Model](#unigram_lm)\n",
        "    - [Bi-gram Language Model](#bigram_lm)\n",
        "    - [Tri-gram Language Model](#trigram_lm)\n",
        "     \n",
        "2. [**TASK B:** Neural Language Models](#neural_lm)\n",
        "    - [Fixed-Window Neural Language Model](#fixed_window_lm)\n",
        "    - [RNN-based Language Model](#rnn_lm)\n",
        "\n",
        "> **By the end of the session you will be able to:**\n",
        "> - ✅  Compute and interpret the perplexity of a language model\n",
        "> - ✅  Implement N-gram language models for N=1,2,3\n",
        "> - ✅  Implement, train, and evaluate a fixed window language model\n",
        "> - ✅  Evaluate an RNN language model\n",
        "> - ✅  Understand the advantages and disadvantages of each of the above models"
      ]
    },
    {
      "cell_type": "code",
      "source": [
        "from google.colab import drive\n",
        "drive.mount('/content/drive')"
      ],
      "metadata": {
        "colab": {
          "base_uri": "https://localhost:8080/"
        },
        "id": "WVz4yx-xnX5I",
        "outputId": "7717c132-5305-4c0f-d2e8-a77de1a99bb5"
      },
      "id": "WVz4yx-xnX5I",
      "execution_count": 1,
      "outputs": [
        {
          "output_type": "stream",
          "name": "stdout",
          "text": [
            "Mounted at /content/drive\n"
          ]
        }
      ]
    },
    {
      "cell_type": "code",
      "execution_count": null,
      "id": "98eb6b6c",
      "metadata": {
        "id": "98eb6b6c"
      },
      "outputs": [],
      "source": [
        "# install the libraries if needed using the requirements.txt file\n",
        "%cd PATH_TO_EXERCISE_FOLDER\n",
        "!pip install -r requirements.txt"
      ]
    },
    {
      "cell_type": "markdown",
      "id": "272c0a7c",
      "metadata": {
        "id": "272c0a7c"
      },
      "source": [
        "<a name=\"ngram_lm\"></a>\n",
        "## 1. Task A: N-gram Language Models"
      ]
    },
    {
      "cell_type": "markdown",
      "id": "85c137c6",
      "metadata": {
        "id": "85c137c6"
      },
      "source": [
        "\n",
        "In this exercise, we will better understand the functioning of different types of (non-neural) language modeling, namely,  Unigram LM, Bi-gram LM, and Tri-gram LM."
      ]
    },
    {
      "cell_type": "markdown",
      "id": "066c0427",
      "metadata": {
        "id": "066c0427"
      },
      "source": [
        "### 1.1 Unigram Language Model <a name=\"unigram_lm\"></a>\n",
        "In the simple Unigram language model, we pick/generate next token independent of the previous token. In other words, during the generation, we pick the tokens according to the token probability. Therefore, for an arbitrary sequence $x_1x_2~...x_n$, its respective probability becomes:\n",
        "$$p(x_1x_2~...x_n) = \\Pi_{i=1} ^n p(x_i)$$\n",
        "Let's use an unsupervised dataset (raw corpus) to evaluate this model's perplexity. We use Huggingface's `datasets` library to download needed datasets.\n",
        "\n",
        "\n",
        "Here we use the `Penn Treebank` dataset, featuring a million words of 1989 Wall Street Journal material. The rare words in this version are already replaced with `<unk>` token. The numbers are also replaced with a special token. This token replacement helps us to end up with a more reasonable vocabulary size to work with.\n"
      ]
    },
    {
      "cell_type": "code",
      "execution_count": 3,
      "id": "69afb9de",
      "metadata": {
        "scrolled": true,
        "id": "69afb9de",
        "colab": {
          "base_uri": "https://localhost:8080/",
          "height": 400,
          "referenced_widgets": [
            "2b33cbdcd0cf4b41b650e449cd4a7ec5",
            "1d0ab363318b452892b76b90584944b8",
            "c3dd6b508d244f08bd2eff92a03e5161",
            "db1837cb01ae40baa3cfa1fab2709332",
            "ee7dcbdb74dc484b9b30af4ec2ac7241",
            "fef67b0eccdc46e285f2a58dd2ebb77a",
            "ee5ef8af2e8c4d97ae8113e77ea9d375",
            "aeb87932359248b78dda676d7a172f37",
            "36202d235f304841a5db480354b4faf9",
            "5b3cfc7788164b35ac580ea346779b7f",
            "e93ff50dd6e34a9f8876bd8831620e5c",
            "d4df4d8cc86541e39a8a5ae24265257c",
            "9f4461551551408485bd28dbf6cc5cc5",
            "834f3643cb794e349fb6deb0994f7956",
            "d549a386452748209823f4f33b52ac86",
            "d16027e1cb4a4a99b62ba7be10fc0ac1",
            "3c4b0b27a5b74a03876991b3f00f353f",
            "769803770203490594344215da43b5ef",
            "1cceb263b3ce4fe195176030a9e21200",
            "6527b2173e0d45ee92e534ac260dd319",
            "813eed3f79df42dea416e957a2aba9a9",
            "87e04ecc17bb4bf79ecaefc1ce8f2c73",
            "956d7dc152b94913aacc4a22000a3ee6",
            "fbae38dce7be4e7db26c531eedafb895",
            "fa4a7c44e8eb4784b2e17cce4e242d4b",
            "e95399ae0a254adcb600001531a1a927",
            "67d02baa606d4d5d9b61a18f469a43ad",
            "36ca8683775d4b318d600364997214d3",
            "72096e72a1c34e5ca0ce5d1931a1a9dd",
            "3a71b5e8890348a8aafff18ee0d7883f",
            "67227fced6e14e668611bc2a43767e38",
            "f1ce99a3a0494170bcfa239412d285f3",
            "eae89ca655e2486caf5589c9ca69f898",
            "b49b82d09eea4969b53fbb844c23e6f6",
            "2c4d1ad64af247a0b3c9aa503835f81a",
            "6581a56abc6b43ec9495c41e72509903",
            "cc1e14c75a0b4b60a8af6c257c8800c6",
            "10a207abf7a94737b7516755ec469707",
            "41e97895da2447168ee50669d5356945",
            "eac571c203e84721babe5a3ea5654c3b",
            "13435edf37fa407fb458e0377f3dd4f4",
            "05bea92e4932488ab94722c63cc570f0",
            "a1dab59793924639ad7aff30a3d4e977",
            "98ac8d7973da4e0abd70446bb0f8eb74",
            "d104ae1fbd5b482a8836d5ab47c5228e",
            "cbc48c9f09b34226962a21661fde79a0",
            "6d393a1c3cfa41e69a72b8255a350176",
            "efaefafcea054867a764403c3f769edb",
            "39e87fbb09af44169ed6a731b1c43c89",
            "b17efe0d1e3944858c92dd7f94ef391c",
            "6644b3a8b1bd48b39f5fb8969cc60678",
            "4be11f791b9a404db6ef3c48b48fbb14",
            "fa223d0ead12400c8818717b214a4652",
            "79d8a855c8a744d79e389c7b673f4c67",
            "6bae99dfa75348399041536b37ccc251",
            "4710b87da9004a0ca3cb1b3fb0ffb20a",
            "0897cac30d3346c9a7ff30fcd598c811",
            "cd64c6a2b6ca49b79098d7dfbe8c7204",
            "21fbe6b4385b447caa0295f1e19c92c9",
            "ef7915e41be148f0b2d7bfe32ed378fc",
            "af945fbb35b248d9b5187a021349578c",
            "65bc19a4da244fc4bdd8a0f76321724f",
            "fc9dbfa3e1bc4d82bbab3338904c9f31",
            "da3fedefabbe4d2cb9733ab3e571836c",
            "b217b60911214da6bb4317f2b191585b",
            "9590a7064a784b5299f174b28edaafa1",
            "70b613a755d14b5496f754273e183659",
            "ce352459467b407aa28cc7b3580e21d3",
            "c32e9ab836064d389972dcea4e3db5f8",
            "f98f70d3f892489c8fb6e912df88dcf0",
            "083e54c580d3496493e8a8f891188b59",
            "5bf0e37372ba4a7ca0074e3f28127bda",
            "3851440f90d649c39ed0ae6fb570e8d8",
            "6db3f2bff4d74d0e9dc1f77ea1c884c1",
            "63953818c4f0447182b5fbf2954984ed",
            "8cac36da9abc431c96859b188217d366",
            "928f541572d5473a9d006a19ac932931",
            "dd84beede55f4e30b23bd88242ecbda2",
            "3e3542a5514f48e3b362ddb3e50287b7",
            "e26cb7157d40430d9d93dbf9bb8db56a",
            "2b5c410bb8a746159d8c0dbd7cdff977",
            "4674bf281180494189c14588d1e4ab5d",
            "c14a43c461744753ac16ecf13707950c",
            "10d99f8e63de4adab8a46f60cb4d5286",
            "e551928b58de4731aefa8520236a9308",
            "3b334cf7df2741e2afd18e445c69000e",
            "4b09cf30a0974f33b777203cd3b9d31f",
            "bfdd1cff0ef1431bb9c33121c2a6976e"
          ]
        },
        "outputId": "6b2c7238-c213-4618-d07f-1b41d83be560"
      },
      "outputs": [
        {
          "output_type": "stream",
          "name": "stderr",
          "text": [
            "/usr/local/lib/python3.11/dist-packages/huggingface_hub/utils/_auth.py:94: UserWarning: \n",
            "The secret `HF_TOKEN` does not exist in your Colab secrets.\n",
            "To authenticate with the Hugging Face Hub, create a token in your settings tab (https://huggingface.co/settings/tokens), set it as secret in your Google Colab and restart your session.\n",
            "You will be able to reuse this secret in all of your notebooks.\n",
            "Please note that authentication is recommended but still optional to access public models or datasets.\n",
            "  warnings.warn(\n"
          ]
        },
        {
          "output_type": "display_data",
          "data": {
            "text/plain": [
              "README.md:   0%|          | 0.00/4.21k [00:00<?, ?B/s]"
            ],
            "application/vnd.jupyter.widget-view+json": {
              "version_major": 2,
              "version_minor": 0,
              "model_id": "2b33cbdcd0cf4b41b650e449cd4a7ec5"
            }
          },
          "metadata": {}
        },
        {
          "output_type": "display_data",
          "data": {
            "text/plain": [
              "ptb_text_only.py:   0%|          | 0.00/6.50k [00:00<?, ?B/s]"
            ],
            "application/vnd.jupyter.widget-view+json": {
              "version_major": 2,
              "version_minor": 0,
              "model_id": "d4df4d8cc86541e39a8a5ae24265257c"
            }
          },
          "metadata": {}
        },
        {
          "output_type": "display_data",
          "data": {
            "text/plain": [
              "Downloading data:   0%|          | 0.00/5.10M [00:00<?, ?B/s]"
            ],
            "application/vnd.jupyter.widget-view+json": {
              "version_major": 2,
              "version_minor": 0,
              "model_id": "956d7dc152b94913aacc4a22000a3ee6"
            }
          },
          "metadata": {}
        },
        {
          "output_type": "display_data",
          "data": {
            "text/plain": [
              "Downloading data:   0%|          | 0.00/400k [00:00<?, ?B/s]"
            ],
            "application/vnd.jupyter.widget-view+json": {
              "version_major": 2,
              "version_minor": 0,
              "model_id": "b49b82d09eea4969b53fbb844c23e6f6"
            }
          },
          "metadata": {}
        },
        {
          "output_type": "display_data",
          "data": {
            "text/plain": [
              "Downloading data:   0%|          | 0.00/450k [00:00<?, ?B/s]"
            ],
            "application/vnd.jupyter.widget-view+json": {
              "version_major": 2,
              "version_minor": 0,
              "model_id": "d104ae1fbd5b482a8836d5ab47c5228e"
            }
          },
          "metadata": {}
        },
        {
          "output_type": "display_data",
          "data": {
            "text/plain": [
              "Generating train split:   0%|          | 0/42068 [00:00<?, ? examples/s]"
            ],
            "application/vnd.jupyter.widget-view+json": {
              "version_major": 2,
              "version_minor": 0,
              "model_id": "4710b87da9004a0ca3cb1b3fb0ffb20a"
            }
          },
          "metadata": {}
        },
        {
          "output_type": "display_data",
          "data": {
            "text/plain": [
              "Generating test split:   0%|          | 0/3761 [00:00<?, ? examples/s]"
            ],
            "application/vnd.jupyter.widget-view+json": {
              "version_major": 2,
              "version_minor": 0,
              "model_id": "70b613a755d14b5496f754273e183659"
            }
          },
          "metadata": {}
        },
        {
          "output_type": "display_data",
          "data": {
            "text/plain": [
              "Generating validation split:   0%|          | 0/3370 [00:00<?, ? examples/s]"
            ],
            "application/vnd.jupyter.widget-view+json": {
              "version_major": 2,
              "version_minor": 0,
              "model_id": "dd84beede55f4e30b23bd88242ecbda2"
            }
          },
          "metadata": {}
        }
      ],
      "source": [
        "import torch\n",
        "import datasets\n",
        "import numpy as np\n",
        "from datasets import load_dataset\n",
        "\n",
        "ptb_dataset = load_dataset(\"ptb_text_only\", split=\"train\", trust_remote_code=True)\n",
        "\n",
        "# splitting dataset in train/test (to be later used for language model evaluation)\n",
        "ptb_dataset = ptb_dataset.train_test_split(test_size=0.2, seed=1)\n",
        "ptb_train, ptb_test = ptb_dataset['train'], ptb_dataset['test']"
      ]
    },
    {
      "cell_type": "markdown",
      "id": "20589cd0",
      "metadata": {
        "id": "20589cd0"
      },
      "source": [
        "#### Let's have a look at a few samples of the training dataset (and also the structure of the dataset)"
      ]
    },
    {
      "cell_type": "code",
      "execution_count": 4,
      "id": "b6ceb684",
      "metadata": {
        "colab": {
          "base_uri": "https://localhost:8080/"
        },
        "id": "b6ceb684",
        "outputId": "d6fc2552-dabe-4b83-b8ab-316c39382db0"
      },
      "outputs": [
        {
          "output_type": "stream",
          "name": "stdout",
          "text": [
            "{'sentence': \"a former executive agreed that the departures do n't reflect major problems adding if you see any company that grows as fast as reebok did it is going to have people coming and going\"}\n",
            "\n",
            "{'sentence': 'with talk today of a second economic <unk> in west germany east germany no longer can content itself with being the economic star in a loser league'}\n",
            "\n",
            "{'sentence': 'transportation secretary sam skinner who earlier fueled the anti-takeover fires with his <unk> attacks on foreign investment in u.s. carriers now says the bill would further <unk> the jittery capital markets'}\n"
          ]
        }
      ],
      "source": [
        "print(f\"{ptb_train[0]}\\n\\n{ptb_train[1]}\\n\\n{ptb_train[2]}\")"
      ]
    },
    {
      "cell_type": "markdown",
      "id": "07207b13",
      "metadata": {
        "id": "07207b13"
      },
      "source": [
        "During generation with a given language model, we often need to have a `<stop>` token in our vocabulary to terminate the generation of a given sentence/paragraph. In this dataset, every sample is a sentence, and the `<stop>` token should be added to the end of every sample (i.e., end of sentence).\n",
        "\n",
        "#### Create a new train/test dataset starting from `ptb_train` and `ptb_test` that has a `<stop>` at the end of each sentence. (Note: do not change the structure of the datasets objects, and just change the respective sentences as discussed).\n",
        "Hint: use the `.map()` functionality of the `datasets` package (read more [here](https://huggingface.co/docs/datasets/process#map]))."
      ]
    },
    {
      "cell_type": "code",
      "execution_count": 5,
      "id": "aa1b7b70",
      "metadata": {
        "id": "aa1b7b70",
        "colab": {
          "base_uri": "https://localhost:8080/",
          "height": 81,
          "referenced_widgets": [
            "1efefd567e934e9894d9524712918cff",
            "2064c2bd32de49adb6d718e25ce2f100",
            "807b5948c5784b82889db8ec86eed5bf",
            "7974292311964fceb6b9011f7502b89b",
            "bfbfa2a61d1546c6ab9340802343ea84",
            "4bdf8c6926dc477681f8ce740f338c6d",
            "66386932c4f846f89bd04b3d534c670c",
            "a0d6235aea46476d975c616a80c707a1",
            "a5be315bcfc34ca4b6af450959cc1cf8",
            "49821847c9a44dff883eda428e145e7e",
            "dc680d2d5b0344f9b7710015b6651336",
            "e82b0870c0eb4dba9b538bff28577035",
            "12eb7f4edc874327b536add59b7fe30a",
            "e14abb120e1e48dd8dfc66eb53a866d8",
            "edbe83ea69914103a2891fde089f10b5",
            "4d4875b4d6eb47dd90e3d5588ae688f8",
            "05b4b8a4652e4069a65371765e1c51c3",
            "fc9ba7fbf86e4e489ce8e5596693ab9e",
            "d7653bec0b494550b565f6d6ee443b88",
            "316da35e4ca94b70b192389d894f8f5d",
            "ad1942808f6e46dbb4f54b725e5d452f",
            "1ae29a7006da45b9bf4c849400f9965d"
          ]
        },
        "outputId": "00a7480f-eef4-4fc4-9f8a-e3a1186819ab"
      },
      "outputs": [
        {
          "output_type": "display_data",
          "data": {
            "text/plain": [
              "Map:   0%|          | 0/33654 [00:00<?, ? examples/s]"
            ],
            "application/vnd.jupyter.widget-view+json": {
              "version_major": 2,
              "version_minor": 0,
              "model_id": "1efefd567e934e9894d9524712918cff"
            }
          },
          "metadata": {}
        },
        {
          "output_type": "display_data",
          "data": {
            "text/plain": [
              "Map:   0%|          | 0/8414 [00:00<?, ? examples/s]"
            ],
            "application/vnd.jupyter.widget-view+json": {
              "version_major": 2,
              "version_minor": 0,
              "model_id": "e82b0870c0eb4dba9b538bff28577035"
            }
          },
          "metadata": {}
        }
      ],
      "source": [
        "def add_stop_token(input_sample: dict):\n",
        "    '''\n",
        "    args:\n",
        "        input_sample: a dict representing a sample of the dataset. (look above for the dict struture)\n",
        "    output:\n",
        "        modified_sample: modified dict adding <stop> at the end of each sentence.\n",
        "    '''\n",
        "    # TODO: add `<stop>` token at the end of each sentence\n",
        "    # YOUR CODE HERE\n",
        "\n",
        "    modified_sample = input_sample\n",
        "    modified_sample['sentence'] = f\"{modified_sample['sentence']} <stop>\"\n",
        "    return modified_sample\n",
        "\n",
        "# TODO: apply `add_stop_token` function in-place on ptb_train and ptb_test datasets\n",
        "ptb_train = ptb_train.map(add_stop_token)\n",
        "ptb_test = ptb_test.map(add_stop_token)"
      ]
    },
    {
      "cell_type": "markdown",
      "id": "2d338821",
      "metadata": {
        "id": "2d338821"
      },
      "source": [
        "For both `ptb_train` and `ptb_test` datasets, filter out every sample that has less than 3 tokens. it will help remove very short sentences that are not very helpful for training/evaluating a langugage model.\n",
        "\n",
        "Hint: use `.filter()` functionality of the `datasets` package (read more [here](https://huggingface.co/docs/datasets/process#select-and-filter))."
      ]
    },
    {
      "cell_type": "code",
      "execution_count": 6,
      "id": "9c0222f5",
      "metadata": {
        "colab": {
          "base_uri": "https://localhost:8080/",
          "height": 81,
          "referenced_widgets": [
            "b66cf39fd9364e9097d938b1a7710ea0",
            "6586293fd0314900bacacacd4ec7998b",
            "8a2c3a9a737c4259ae7d45867c4522ff",
            "fd99f15615604fa78748c15017cf2f8c",
            "e1f743621bf14d1984e4df621546e6ae",
            "834bb251755d485ba6e5f832372f2e57",
            "8527c1c9f7174e3e93ceccdf550c3d40",
            "7648249ae0cc4b919f235522ca59f53c",
            "aa94c0e78cd7424aa9aea6a3ad29fd62",
            "355976126b9b408cb945e2b2223b1bd9",
            "df63c943c75742dcbb83a6520b40ac3c",
            "7f938a8d53b4455b8e69d3f34c4cfb02",
            "f12a5bcf477e47d5a5c1e7d6cbde1ee0",
            "4ee29ff14a444d2d9c49ff78365cfcbe",
            "a572055d22f945febefdfec88dcc5579",
            "5ffef09268f743bb9f5b81ca22761410",
            "e179f93e26a94b00b57fdabb68a43d07",
            "42f0f1133e8d444388a9354cc6cd10bd",
            "cd02ae7a561349c5900018fc8f67668c",
            "30e161aca39f4be486d2e4a1c439194a",
            "c8460a18dc6d4894bf04f595328542e9",
            "fba3cfdc42dd4542993425f78e6deadf"
          ]
        },
        "id": "9c0222f5",
        "outputId": "6ef71028-a106-45ca-abb1-d7a7fe4f53bb"
      },
      "outputs": [
        {
          "output_type": "display_data",
          "data": {
            "text/plain": [
              "Filter:   0%|          | 0/33654 [00:00<?, ? examples/s]"
            ],
            "application/vnd.jupyter.widget-view+json": {
              "version_major": 2,
              "version_minor": 0,
              "model_id": "b66cf39fd9364e9097d938b1a7710ea0"
            }
          },
          "metadata": {}
        },
        {
          "output_type": "display_data",
          "data": {
            "text/plain": [
              "Filter:   0%|          | 0/8414 [00:00<?, ? examples/s]"
            ],
            "application/vnd.jupyter.widget-view+json": {
              "version_major": 2,
              "version_minor": 0,
              "model_id": "7f938a8d53b4455b8e69d3f34c4cfb02"
            }
          },
          "metadata": {}
        }
      ],
      "source": [
        "# YOUR CODE HERE\n",
        "# remember to split the sequence when counting the num. of tokens\n",
        "ptb_train = ptb_train.filter(lambda example: len(example[\"sentence\"].split())>=3)\n",
        "ptb_test = ptb_test.filter(lambda example: len(example[\"sentence\"].split())>=3)"
      ]
    },
    {
      "cell_type": "markdown",
      "id": "2733f77b",
      "metadata": {
        "id": "2733f77b"
      },
      "source": [
        "#### Print the 10 most frequent tokens in `ptb_train` dataset.\n",
        "\n",
        "> **Observation**: Can you spot the token used to replace the numbers in this dataset? How are rare tokens replaced in this dataset?"
      ]
    },
    {
      "cell_type": "code",
      "execution_count": 7,
      "id": "28e93fb6",
      "metadata": {
        "colab": {
          "base_uri": "https://localhost:8080/"
        },
        "id": "28e93fb6",
        "outputId": "cf732d81-9d08-4988-81cd-fae6e2b411c6"
      },
      "outputs": [
        {
          "output_type": "execute_result",
          "data": {
            "text/plain": [
              "[('the', 40616),\n",
              " ('<unk>', 35888),\n",
              " ('<stop>', 33539),\n",
              " ('N', 25966),\n",
              " ('of', 19459),\n",
              " ('to', 18896),\n",
              " ('a', 16901),\n",
              " ('in', 14473),\n",
              " ('and', 14013),\n",
              " (\"'s\", 7850)]"
            ]
          },
          "metadata": {},
          "execution_count": 7
        }
      ],
      "source": [
        "# YOUR CODE HERE\n",
        "from collections import Counter\n",
        "Counter(\" \".join([i[\"sentence\"] for i in ptb_train]).split()).most_common(10)"
      ]
    },
    {
      "cell_type": "markdown",
      "id": "a6eaec09",
      "metadata": {
        "id": "a6eaec09"
      },
      "source": [
        "#### Now let's create a dictionary of the word probabilites (in the format of `{word: Prob(word)}`in the following function. We will use these probabilities to estimate sequence probabilities for a given sequence, as mentioned above."
      ]
    },
    {
      "cell_type": "code",
      "execution_count": 8,
      "id": "0e015a74",
      "metadata": {
        "id": "0e015a74"
      },
      "outputs": [],
      "source": [
        "from collections import defaultdict, Counter\n",
        "\n",
        "def get_word_probability_dict(train_dataset: datasets.arrow_dataset.Dataset):\n",
        "    '''\n",
        "    args:\n",
        "        train_dataset: a Dataset object that can be iterated to get all the sentences\n",
        "    output:\n",
        "        word_prob_dict: a dictionary containing the word probabilities (and outputing zero for non-seen tokens)\n",
        "    '''\n",
        "    # TODO: get word probabilities across all available tokens in the train_dataset\n",
        "    # YOUR CODE HERE\n",
        "    all_tokens = \" \".join([i[\"sentence\"] for i in train_dataset]).split()\n",
        "    word_frequency_dict = Counter(all_tokens)\n",
        "    word_prob_dict = defaultdict(float,\n",
        "                                 {word: word_count/len(all_tokens) for word, word_count in word_frequency_dict.items()})\n",
        "\n",
        "    return word_prob_dict\n",
        "\n",
        "word_prob_dict = get_word_probability_dict(ptb_train)"
      ]
    },
    {
      "cell_type": "markdown",
      "id": "766d403e",
      "metadata": {
        "id": "766d403e"
      },
      "source": [
        "Let's also get a sense of how high the top-k probabilities are:"
      ]
    },
    {
      "cell_type": "code",
      "execution_count": 9,
      "id": "37d958f6",
      "metadata": {
        "scrolled": true,
        "colab": {
          "base_uri": "https://localhost:8080/"
        },
        "id": "37d958f6",
        "outputId": "de362303-41ce-4f31-e0cf-f0676b278313"
      },
      "outputs": [
        {
          "output_type": "execute_result",
          "data": {
            "text/plain": [
              "[('the', 0.054680915800329036),\n",
              " ('<unk>', 0.04831565654525823),\n",
              " ('<stop>', 0.045153221268151356),\n",
              " ('N', 0.03495776688180381),\n",
              " ('of', 0.026197457665910053),\n",
              " ('to', 0.025439496379826114),\n",
              " ('a', 0.022753647772832404),\n",
              " ('in', 0.019484855583468637),\n",
              " ('and', 0.01886556217032723),\n",
              " (\"'s\", 0.010568376724260954),\n",
              " ('for', 0.009569429523063295),\n",
              " ('that', 0.009558659202834748),\n",
              " ('$', 0.00801984970018121),\n",
              " ('is', 0.007975422129238458),\n",
              " ('it', 0.006556432439127497),\n",
              " ('said', 0.006516043738270448),\n",
              " ('on', 0.006050227388385825),\n",
              " ('at', 0.005312460452730411),\n",
              " ('by', 0.005303036422530433),\n",
              " ('as', 0.00519667951027354)]"
            ]
          },
          "metadata": {},
          "execution_count": 9
        }
      ],
      "source": [
        "sorted(word_prob_dict.items(), key=lambda item: item[1], reverse=True)[:20]"
      ]
    },
    {
      "cell_type": "markdown",
      "id": "e1b408c2",
      "metadata": {
        "id": "e1b408c2"
      },
      "source": [
        "#### Now let's analyze the Unigram language model for different sequences. We first create a function that can output the probability for a given string."
      ]
    },
    {
      "cell_type": "code",
      "execution_count": 10,
      "id": "fc167228",
      "metadata": {
        "id": "fc167228"
      },
      "outputs": [],
      "source": [
        "def unigram_lm_seq_probability(input_sentence: str,\n",
        "                               word_prob_dict: dict):\n",
        "    '''\n",
        "    args:\n",
        "        input_sentence: The input sequence string. Here we assume\n",
        "        word_prob_dict: A dictionary containing the probability for a given token\n",
        "    output:\n",
        "        probability: The probability of the input_sentence according to the Unigram language model\n",
        "    '''\n",
        "    # TODO: get sequence probability using unigram probabilities\n",
        "    # YOUR CODE HERE\n",
        "    probability = np.prod([word_prob_dict[word] for word in input_sentence.split()])\n",
        "\n",
        "    return probability"
      ]
    },
    {
      "cell_type": "markdown",
      "id": "3427e046",
      "metadata": {
        "id": "3427e046"
      },
      "source": [
        "#### Let's investigate a major issue with Unigram language model. What are the probabilities for the two following sequences?\n",
        "- the the the the \\<stop>\n",
        "- i love computer science \\<stop>\n",
        "\n",
        "DIscussion: How can we avoid having large probability values for sequences like `the the the <stop>`"
      ]
    },
    {
      "cell_type": "code",
      "execution_count": 11,
      "id": "2c753d2d",
      "metadata": {
        "colab": {
          "base_uri": "https://localhost:8080/"
        },
        "id": "2c753d2d",
        "outputId": "087e4727-e912-4518-da5c-63bc4726ceda"
      },
      "outputs": [
        {
          "output_type": "stream",
          "name": "stdout",
          "text": [
            "probability for seq1 is 4.0367500274713214e-07, and for seq2 is 2.3485816949091947e-17\n"
          ]
        }
      ],
      "source": [
        "seq1 = \"the the the the <stop>\"\n",
        "seq2 = \"i love computer science <stop>\"\n",
        "\n",
        "prob_seq1 = unigram_lm_seq_probability(seq1, word_prob_dict)\n",
        "prob_seq2 = unigram_lm_seq_probability(seq2, word_prob_dict)\n",
        "print(f\"probability for seq1 is {prob_seq1}, and for seq2 is {prob_seq2}\")"
      ]
    },
    {
      "cell_type": "markdown",
      "id": "06747969",
      "metadata": {
        "id": "06747969"
      },
      "source": [
        "#### Now let's formally evaluate the Unigram model in terms of perplexity. We first compute the entropy as the average negative log-likelihood:\n",
        "$$H(W_{test}∣M)= \\frac{1}{|W_{test}|} \\sum_{w\\in W_{test}} −log_2P(w∣M)$$\n",
        ", where $W_{test}$ is the input sequence and M is the Unigram language model. (note that the logarithm is in base 2).\n",
        "\n",
        "#### We provide **`get_unigram_lm_entropy`** function to perform the entropy calculation."
      ]
    },
    {
      "cell_type": "code",
      "execution_count": 12,
      "id": "aa48300f",
      "metadata": {
        "id": "aa48300f"
      },
      "outputs": [],
      "source": [
        "def get_unigram_lm_entropy(input_sentence: str,\n",
        "                           word_prob_dict: dict):\n",
        "    '''\n",
        "    args:\n",
        "        input_sentence: the input string that we would like to have its respective entropy value.\n",
        "        word_prob_dict: A dictionary containing the probability for a given token\n",
        "    output:\n",
        "        entropy: entropy value as defined above\n",
        "    '''\n",
        "\n",
        "    # YOUR CODE HERE\n",
        "    # entropy = np.mean([-np.log2(max(word_prob_dict[word], 1e-6)) for word in input_sentence.split()]) # prevent divide-by-zero error\n",
        "    entropy = np.mean([-np.log2(word_prob_dict.get(word, 1e-6)) for word in input_sentence.split()]) # prevent divide-by-zero error\n",
        "    return entropy"
      ]
    },
    {
      "cell_type": "markdown",
      "id": "b07afa63",
      "metadata": {
        "id": "b07afa63"
      },
      "source": [
        "Now compute the average entropy for all the sentences in the `ptb_test` given above function, and then compute the average entropy. Then compute the perplexity as $2^{\\bar{H}}$, where $\\bar{H}$ is the average entropy over the test dataset."
      ]
    },
    {
      "cell_type": "code",
      "execution_count": 13,
      "id": "ac66be2c",
      "metadata": {
        "colab": {
          "base_uri": "https://localhost:8080/"
        },
        "id": "ac66be2c",
        "outputId": "7b619c5a-1c81-4161-cc59-e3eb7dd37b98"
      },
      "outputs": [
        {
          "output_type": "stream",
          "name": "stdout",
          "text": [
            "The perplexity for the Unigram language model is 678.0362033361522\n"
          ]
        }
      ],
      "source": [
        "def get_unigram_lm_perplexity(test_dataset: datasets.arrow_dataset.Dataset,\n",
        "                              word_prob_dict: dict):\n",
        "    '''\n",
        "    args:\n",
        "        test_dataset: the test dataset samples are used to compute the perplexity for the Unigram LM.\n",
        "        word_prob_dict: A dictionary containing the probability for a given token\n",
        "    output:\n",
        "        perplexity: entropy value as defined above\n",
        "    '''\n",
        "    # TODO: Compute perplexity on the test dataset with unigram probabilities\n",
        "    # YOUR CODE HERE\n",
        "    entropy_values = [get_unigram_lm_entropy(i[\"sentence\"], word_prob_dict) for i in test_dataset]\n",
        "    # removing very few test samples that had infinite entropy values (as they're minority)\n",
        "    average_entropy = np.mean([entropy for entropy in entropy_values if ~np.isinf(entropy)])\n",
        "    perplexity = 2**average_entropy\n",
        "    return perplexity\n",
        "\n",
        "\n",
        "unigram_lm_perplexity = get_unigram_lm_perplexity(ptb_test, word_prob_dict)\n",
        "print(f\"The perplexity for the Unigram language model is {unigram_lm_perplexity}\")"
      ]
    },
    {
      "cell_type": "markdown",
      "id": "4a3cec0a",
      "metadata": {
        "id": "4a3cec0a"
      },
      "source": [
        "As discussed in the lectures, the models with lower perplexities are desired; however, we should be careful when comparing language models with different vocabualry sizes.\n",
        "#### In the `ptb_train` dataset, replace every token that is appearing less than 10 times with the `<unk>` token. (Note: the same token replacement should be done for the test dataset). What is the Unigram language model perplexity for the new dataset?\n",
        "Discussion: What would happen to the vocabulary size and perplexity as we increase the rare token threshold to higher values? (instead of 10 here)"
      ]
    },
    {
      "cell_type": "code",
      "execution_count": 14,
      "id": "3a14c853",
      "metadata": {
        "colab": {
          "base_uri": "https://localhost:8080/",
          "height": 81,
          "referenced_widgets": [
            "47703e7d86784b4a8ceb2fe94dd650eb",
            "79d5c1f5fa96439b99f3b1f60d9fc2e6",
            "2b497807fd2545cc837c533015b79ffb",
            "776519e5896d4903ae77ea963d10ea2d",
            "dba9aa22f2fa4a348ff7b1c32e900bc3",
            "8c505413a22c49bfa7263bc05c5be06d",
            "c280d3918ae24fdabd9f299930684da8",
            "03533a4e62cc4d5fa2e2761ee29d049b",
            "0b7a99aae4fb4c1b8d350042a6ecb679",
            "081034b38e3b4cec87aa14b1e9652556",
            "6f9a6ee58b504b11b8795a7270634ee9",
            "273cba2a0fee4685ac1664ede1c1d77d",
            "6a54746ad8614905b50fa1aa263dabe6",
            "61b985508c02415a9ef672c8af099586",
            "5f6054b8328f48b0a32dc4bf65ebdfd4",
            "cd21bf901fed4b58ba1cf8f2f3ef094d",
            "2ccf3664cb064daeb563289948607ed3",
            "f66b08a080bd4c9ab1e6c85fd5b7bd2d",
            "0c5d7e2385a3493192cfe7b83f621680",
            "997a92769990437fb627512299f80432",
            "6e67ca0c84cc40d89a8197e7a559a2ae",
            "d386b058c745407d99a9f1864535a8b4"
          ]
        },
        "id": "3a14c853",
        "outputId": "926ef335-d3b7-4bc5-f224-21161688a39b"
      },
      "outputs": [
        {
          "output_type": "display_data",
          "data": {
            "text/plain": [
              "Map:   0%|          | 0/33539 [00:00<?, ? examples/s]"
            ],
            "application/vnd.jupyter.widget-view+json": {
              "version_major": 2,
              "version_minor": 0,
              "model_id": "47703e7d86784b4a8ceb2fe94dd650eb"
            }
          },
          "metadata": {}
        },
        {
          "output_type": "display_data",
          "data": {
            "text/plain": [
              "Map:   0%|          | 0/8392 [00:00<?, ? examples/s]"
            ],
            "application/vnd.jupyter.widget-view+json": {
              "version_major": 2,
              "version_minor": 0,
              "model_id": "273cba2a0fee4685ac1664ede1c1d77d"
            }
          },
          "metadata": {}
        }
      ],
      "source": [
        "def remove_rare_token(train_dataset: datasets.arrow_dataset.Dataset,\n",
        "                      test_dataset: datasets.arrow_dataset.Dataset,\n",
        "                      rare_token_threshold: int):\n",
        "    '''\n",
        "    Note that the tokens that are considered rare here, are identified based on the train_dataset, so that\n",
        "    we have the same token mapping (to <unk>) for both the train and test datasets.\n",
        "    args:\n",
        "        train_dataset: the input dataset where its rare tokens has to be replaced with <unk> token.\n",
        "        rare_token_threshold: every word that is appearing less than this threshold in the train dataset will\n",
        "                              be replace with the <unk> token\n",
        "    output:\n",
        "        cleaned_train_dataset: the cleaned train dataset where rare tokens are replace with <unk> token.\n",
        "        cleaned_test_dataset: the cleaned test dataset where rare tokens are replace with <unk> token.\n",
        "    '''\n",
        "\n",
        "    # YOUR CODE HERE\n",
        "\n",
        "    all_tokens = \" \".join([i[\"sentence\"] for i in train_dataset]).split()\n",
        "    word_frequency_dict = Counter(all_tokens)\n",
        "    def rare_removal(input_sample):\n",
        "        modified_sample = input_sample\n",
        "        # TODO: replace rare tokens with `<unk>`\n",
        "        # YOUR CODE HERE\n",
        "        modified_sample['sentence'] = \" \".join([(word if word_frequency_dict[word]>=rare_token_threshold\n",
        "                                                 else \"<unk>\")\n",
        "                                                for word in input_sample['sentence'].split()])\n",
        "        return modified_sample\n",
        "\n",
        "    cleaned_train_dataset = train_dataset.map(rare_removal)\n",
        "    cleaned_test_dataset = test_dataset.map(rare_removal)\n",
        "\n",
        "    return cleaned_train_dataset, cleaned_test_dataset\n",
        "\n",
        "cleaned_train_dataset, cleaned_test_dataset = remove_rare_token(train_dataset=ptb_train,\n",
        "                                                                test_dataset=ptb_test,\n",
        "                                                                rare_token_threshold=10)\n"
      ]
    },
    {
      "cell_type": "markdown",
      "id": "6f09a7d3",
      "metadata": {
        "id": "6f09a7d3"
      },
      "source": [
        "#### Compute the test perplexity (`cleaned_test_dataset`) given token probabilities on a train dataset (`cleaned_train_dataset`)"
      ]
    },
    {
      "cell_type": "code",
      "execution_count": 15,
      "id": "d2083f50",
      "metadata": {
        "colab": {
          "base_uri": "https://localhost:8080/"
        },
        "id": "d2083f50",
        "outputId": "c14aba3e-24a0-4fd7-d3e7-eaa874657b2b"
      },
      "outputs": [
        {
          "output_type": "stream",
          "name": "stdout",
          "text": [
            "The perplexity for the Unigram language model after replacing rare tokens is  459.5467339922175\n"
          ]
        }
      ],
      "source": [
        "cleaned_word_prob_dict = get_word_probability_dict(cleaned_train_dataset)\n",
        "cleaned_unigram_lm_perplexity = get_unigram_lm_perplexity(cleaned_test_dataset, cleaned_word_prob_dict)\n",
        "\n",
        "\n",
        "print(\"The perplexity for the Unigram language model after replacing rare tokens is \",\n",
        "      cleaned_unigram_lm_perplexity)"
      ]
    },
    {
      "cell_type": "markdown",
      "id": "4abe9eac",
      "metadata": {
        "id": "4abe9eac"
      },
      "source": [
        "## 1.2 Bi-gram Language Model <a name='bigram_lm'></a>\n",
        "In the Bi-gram language model, we pick/generate next token conditioned only on the previous token. Therefore, for an arbitrary sequence $x_1x_2~...x_n$, its respective probability becomes:\n",
        "$$p(x_1x_2~...x_n) = p(x_1) ~\\Pi_{i=2} ^n p(x_i|x_{i-1})$$\n",
        "Let's use the same dataset (`Penn Treebank`) to evaluate this model's perplexity. (We use the dataset that already has the `<stop>` token at the end).\n",
        "\n",
        "We estimate $p(x_i|x_{i-1})$ as the $\\frac{count(x_{i-1},~x_i)}{count(x_{i-1})}$ according to the training dataset frequencies."
      ]
    },
    {
      "cell_type": "code",
      "execution_count": 16,
      "id": "f96966fc",
      "metadata": {
        "id": "f96966fc"
      },
      "outputs": [],
      "source": [
        "def get_first_order_conditional_probabilities(train_dataset: datasets.arrow_dataset.Dataset):\n",
        "    '''\n",
        "    In this function the conditional probabilities have to be computed based train_dataset. The output of the\n",
        "    function is a dictionary having keys like (x_{i-1}, x_i) as a tuple and the value being p(x_i|x_{i-1}).\n",
        "    args:\n",
        "        train_dataset: a Dataset object that can be iterated to get all the sentences\n",
        "    output:\n",
        "        word_prob_dict:\n",
        "        first_order_condition_prob: a dictionary having containing the first order conditional probabilities\n",
        "                                    as discussed above.\n",
        "        word_prob_dict: a dictionary containing the word probabilities\n",
        "    '''\n",
        "    first_order_condition_prob = defaultdict(float) # in order to get zeroes\n",
        "    # let's first get the word frequencies (later used for computation of conditional probabilities)\n",
        "    word_prob_dict = get_word_probability_dict(train_dataset)\n",
        "\n",
        "\n",
        "    # YOUR CODE HERE\n",
        "    all_tokens = \" \".join([i[\"sentence\"] for i in train_dataset]).split()\n",
        "    word_frequency_dict = Counter(all_tokens)\n",
        "\n",
        "    # now let's create all the bigrams in the train_dataset\n",
        "    all_bigrams = []\n",
        "    for sample in train_dataset:\n",
        "        token_list = sample[\"sentence\"].split()\n",
        "        sample_bigrams = [(s1, s2) for s1, s2 in zip(token_list, token_list[1:])]\n",
        "        all_bigrams += sample_bigrams\n",
        "\n",
        "    bigram_frequency_dict = Counter(all_bigrams)\n",
        "    first_order_condition_prob = defaultdict(float, {(w1,w2): bigram_freq/word_frequency_dict[w1]\n",
        "                                                     for (w1,w2), bigram_freq in bigram_frequency_dict.items()})\n",
        "    return word_prob_dict, first_order_condition_prob\n",
        "\n",
        "word_prob_dict, first_order_condition_prob = get_first_order_conditional_probabilities(ptb_train)"
      ]
    },
    {
      "cell_type": "markdown",
      "id": "c89cb406",
      "metadata": {
        "id": "c89cb406"
      },
      "source": [
        "#### Now let's analyze the Bi-gram language model for different sequences. We first create a function that can output the probability for a given string."
      ]
    },
    {
      "cell_type": "code",
      "execution_count": 17,
      "id": "e459cdc4",
      "metadata": {
        "id": "e459cdc4"
      },
      "outputs": [],
      "source": [
        "def bigram_lm_seq_probability(input_sentence: str,\n",
        "                              word_prob_dict: dict,\n",
        "                              first_order_condition_prob: dict):\n",
        "    '''\n",
        "    args:\n",
        "        input_sentence: The input sequence string. Here we assume\n",
        "        word_prob_dict: a dictionary containing the word probabilities\n",
        "        first_order_condition_prob: a dictionary containing the first order conditional probabilities\n",
        "                                    as discussed in the previous function.\n",
        "    output:\n",
        "        probability: The probability of the input_sentence according to the Bi-gram language model\n",
        "    '''\n",
        "    # YOUR CODE HERE\n",
        "\n",
        "    token_list = input_sentence.split()\n",
        "    bigram_list = [(s1, s2) for s1, s2 in zip(token_list, token_list[1:])]\n",
        "    probability = np.prod([word_prob_dict[token_list[0]]] + [first_order_condition_prob[bigram]\n",
        "                                                             for bigram in bigram_list])\n",
        "    return probability"
      ]
    },
    {
      "cell_type": "markdown",
      "id": "a87509ef",
      "metadata": {
        "id": "a87509ef"
      },
      "source": [
        "Let's investigate a major issue with higher order language models.\n",
        "#### Compute the probabilities for all the sequences in `ptb_test` dataset, and compute the minimum value among these probablities. What would be the perplexity for the dataset given these values?\n",
        "Discussion: How can we avoid this **overfitting** to train dataset?"
      ]
    },
    {
      "cell_type": "code",
      "execution_count": 18,
      "id": "3d9a0460",
      "metadata": {
        "colab": {
          "base_uri": "https://localhost:8080/"
        },
        "id": "3d9a0460",
        "outputId": "f8e4985d-5629-4f87-c2e3-47d8938dfbc0"
      },
      "outputs": [
        {
          "output_type": "stream",
          "name": "stdout",
          "text": [
            "90.84842707340324% of samples in the test set have zero probability!\n"
          ]
        }
      ],
      "source": [
        "# TODO: get bigram probabilities on test dataset\n",
        "# YOUR CODE HERE\n",
        "bigram_test_probabilities = [bigram_lm_seq_probability(input_sentence=sample[\"sentence\"],\n",
        "                                                       word_prob_dict=word_prob_dict,\n",
        "                                                       first_order_condition_prob=first_order_condition_prob)\n",
        "                             for sample in ptb_test]\n",
        "\n",
        "print(f\"{bigram_test_probabilities.count(0)/len(ptb_test)*100}% of samples in the test set have zero probability!\")"
      ]
    },
    {
      "cell_type": "markdown",
      "id": "9ced914f",
      "metadata": {
        "id": "9ced914f"
      },
      "source": [
        "### Smoothing\n",
        "As we saw above, due to having new pair of consecutive words in the test dataset, we might have zero probabilities for some sequences. Therefore, as discussed in the lectures, in order to have a meaningful perplexity for N-gram language models, we need to smooth the probabilities to have non-zero values for non-seen sequences. In this exercise, we use Laplace smoothing as defined below:\n",
        "$$P(x_i|x_{i-1}) = \\frac{count(x_{i-1},~x_i) + \\alpha}{count(x_{i-1}) + \\alpha ~|V|}$$\n",
        ", where $\\alpha$ is the smoothing parameter, and $|V|$ is the (train dataset) vocabulary size.\n",
        "\n",
        "#### Let's recompute the conditional probabilities using Laplace smoothing."
      ]
    },
    {
      "cell_type": "code",
      "execution_count": 19,
      "id": "5d808944",
      "metadata": {
        "id": "5d808944"
      },
      "outputs": [],
      "source": [
        "def get_smoothed_first_order_conditional_probabilities(train_dataset: datasets.arrow_dataset.Dataset,\n",
        "                                                       smoothing_alpha: float):\n",
        "    '''\n",
        "    In this function the conditional probabilities have to be computed based on train_dataset. The output\n",
        "    of the function is a dictionary having keys like (x_{i-1}, x_i) as a tuple and the\n",
        "    value being p(x_i|x_{i-1}).\n",
        "    args:\n",
        "        train_dataset: a Dataset object that can be iterated to get all the sentences\n",
        "        smoothing_alpha: The alpha parameter used in the Laplace smoothing.\n",
        "    output:\n",
        "        word_prob_dict: a dictionary containing the word probabilities\n",
        "        first_order_condition_prob: a dictionary containing the smoothed first order\n",
        "                                    conditional probabilities as discussed above.\n",
        "    '''\n",
        "    first_order_condition_prob = defaultdict(float)  # Note that we shouldn't get zeros for unseen events.\n",
        "    # let's first get the word probabilities (later used for computation of conditional probabilities)\n",
        "    word_prob_dict = get_word_probability_dict(train_dataset)\n",
        "\n",
        "\n",
        "    # YOUR CODE HERE\n",
        "    all_tokens = \" \".join([i[\"sentence\"] for i in train_dataset]).split()\n",
        "    word_frequency_dict = Counter(all_tokens)\n",
        "    vocab_size = len(word_frequency_dict)\n",
        "\n",
        "    # now let's create all the bigrams in the train_dataset\n",
        "    all_bigrams = []\n",
        "    for sample in train_dataset:\n",
        "        token_list = sample[\"sentence\"].split()\n",
        "        sample_bigrams = [(s1, s2) for s1, s2 in zip(token_list, token_list[1:])]\n",
        "        all_bigrams += sample_bigrams\n",
        "    bigram_frequency_dict = Counter(all_bigrams)\n",
        "\n",
        "    first_order_condition_prob = defaultdict(\n",
        "        float, {(w1,w2): (bigram_freq+smoothing_alpha)/(word_frequency_dict[w1] + smoothing_alpha*vocab_size)\n",
        "                for (w1,w2), bigram_freq in bigram_frequency_dict.items()})\n",
        "\n",
        "    return word_prob_dict, first_order_condition_prob"
      ]
    },
    {
      "cell_type": "code",
      "execution_count": 20,
      "id": "3008240c",
      "metadata": {
        "id": "3008240c"
      },
      "outputs": [],
      "source": [
        "def smoothed_bigram_lm_seq_probability(input_sentence: str,\n",
        "                                       word_prob_dict: dict,\n",
        "                                       word_frequency_dict: dict,\n",
        "                                       first_order_condition_prob: dict,\n",
        "                                       smoothing_alpha: float):\n",
        "    '''\n",
        "    args:\n",
        "        input_sentence: The input sequence string. Here we assume\n",
        "        word_prob_dict: a dictionary containing the word probabilities\n",
        "        word_frequency_dict: a dictionary containing the frequency for every word in vocabulary\n",
        "        first_order_condition_prob: a dictionary containing the first order conditional probabilities\n",
        "                                    as discussed in the previous function.\n",
        "        smoothing_alpha: The alpha parameter used in the Laplace smoothing.\n",
        "    output:\n",
        "        probability: The probability of the input_sentence according to the Bi-gram language model\n",
        "    '''\n",
        "    vocab_size = len(word_prob_dict)\n",
        "    token_list = input_sentence.split()\n",
        "    bigram_list = [(s1, s2) for s1, s2 in zip(token_list, token_list[1:])]\n",
        "\n",
        "    # TODO: compute sentence probability\n",
        "    # YOUR CODE HERE\n",
        "    probability = np.prod(\n",
        "        [word_prob_dict[token_list[0]]] + [first_order_condition_prob.get(\n",
        "            bigram, smoothing_alpha/(word_frequency_dict[bigram[0]] + smoothing_alpha*vocab_size))\n",
        "                                           for bigram in bigram_list])\n",
        "\n",
        "    return probability"
      ]
    },
    {
      "cell_type": "markdown",
      "id": "4cd77e6c",
      "metadata": {
        "id": "4cd77e6c"
      },
      "source": [
        "#### Assuming $\\alpha=0.01$ for the smoothing, use the previous function and `bigram_lm_seq_probability` to compute the sequence probabilities for all the sentences in the `ptb_test` dataset."
      ]
    },
    {
      "cell_type": "code",
      "execution_count": 21,
      "id": "e2c76c94",
      "metadata": {
        "colab": {
          "base_uri": "https://localhost:8080/"
        },
        "id": "e2c76c94",
        "outputId": "43903050-e8d7-49da-a207-7b28e27c36b4"
      },
      "outputs": [
        {
          "output_type": "stream",
          "name": "stdout",
          "text": [
            "0.0% of samples in the test set have zero probability!\n"
          ]
        }
      ],
      "source": [
        "smoothed_bigram_test_probabilities = []\n",
        "\n",
        "# YOUR CODE HERE\n",
        "word_frequency_dict = Counter(\" \".join([i[\"sentence\"] for i in ptb_train]).split())\n",
        "(word_prob_dict, smoothed_first_order_condition_prob) = get_smoothed_first_order_conditional_probabilities(ptb_train, 0.01)\n",
        "smoothed_bigram_test_probabilities = [\n",
        "    smoothed_bigram_lm_seq_probability(\n",
        "        input_sentence=sample[\"sentence\"],\n",
        "        word_prob_dict=word_prob_dict,\n",
        "        word_frequency_dict=word_frequency_dict,\n",
        "        first_order_condition_prob=smoothed_first_order_condition_prob,\n",
        "        smoothing_alpha=0.01)\n",
        "    for sample in ptb_test]\n",
        "\n",
        "print(f\"{smoothed_bigram_test_probabilities.count(0)/len(ptb_test)*100}% of samples in the test set have zero probability!\")"
      ]
    },
    {
      "cell_type": "markdown",
      "id": "8f8b38b8",
      "metadata": {
        "id": "8f8b38b8"
      },
      "source": [
        "If the perplexity for a given sequence is computed as below, compute the Bigram language model perplexity over `ptb_test` dataset over all the sentences ($\\alpha=0.01)$:\n",
        "$$Perplexity(x_1x_2...x_n) = p(x_1x_2...x_n)^{-1/n}$$\n",
        ", where $p(x_1x_2...x_n)$ is the probability assigned to $x_1x_2...x_n$ sequence by the language model."
      ]
    },
    {
      "cell_type": "code",
      "execution_count": 22,
      "id": "7e3665f1",
      "metadata": {
        "colab": {
          "base_uri": "https://localhost:8080/"
        },
        "id": "7e3665f1",
        "outputId": "187d263a-c771-450d-f90c-ff1b6cd96b4f"
      },
      "outputs": [
        {
          "output_type": "stream",
          "name": "stdout",
          "text": [
            "Bigram language model perplexity is 304.0188984456335\n"
          ]
        }
      ],
      "source": [
        "bigram_lm_perplexity = -1\n",
        "\n",
        "log_perplex_list = []\n",
        "for idx in range(len(ptb_test)):\n",
        "    # TODO: get bigram perplexities\n",
        "    # YOUR CODE HERE\n",
        "    sentence_prob = smoothed_bigram_test_probabilities[idx]\n",
        "    if sentence_prob==0:\n",
        "        continue\n",
        "    sentence_length = len(ptb_test[idx][\"sentence\"].split())\n",
        "    log_perplex_list.append(-np.log2(sentence_prob)/sentence_length)\n",
        "bigram_lm_perplexity = 2**np.mean(log_perplex_list)\n",
        "\n",
        "\n",
        "print(f\"Bigram language model perplexity is {bigram_lm_perplexity}\")"
      ]
    },
    {
      "cell_type": "markdown",
      "id": "edd753ef",
      "metadata": {
        "id": "edd753ef"
      },
      "source": [
        "Repeat the same steps but for `cleaned_train_dataset` and `cleaned_test_dataset` datasets where rare tokens (with frequency less than 10) are replaced with `<unk>` token. Do we have a better or a worse perplexity compared to the previous computed perplexity?"
      ]
    },
    {
      "cell_type": "code",
      "execution_count": 23,
      "id": "92b98f8b",
      "metadata": {
        "colab": {
          "base_uri": "https://localhost:8080/"
        },
        "id": "92b98f8b",
        "outputId": "3b41f56f-684a-45e2-978f-23ea94572602"
      },
      "outputs": [
        {
          "output_type": "stream",
          "name": "stdout",
          "text": [
            "(cleaned) Bigram language model perplexity is 186.1614783700363\n"
          ]
        }
      ],
      "source": [
        "cleaned_word_frequency_dict = Counter(\" \".join([i[\"sentence\"] for i in cleaned_train_dataset]).split())\n",
        "(cleaned_word_prob_dict,\n",
        "    cleaned_smoothed_first_order_condition_prob) = get_smoothed_first_order_conditional_probabilities(cleaned_train_dataset,\n",
        "                                                                                                      0.01)\n",
        "\n",
        "# TODO: get smoothed bigram probabilities on the test set\n",
        "# YOUR CODE HERE\n",
        "cleaned_smoothed_bigram_test_probabilities = [\n",
        "    smoothed_bigram_lm_seq_probability(\n",
        "        input_sentence=sample[\"sentence\"],\n",
        "        word_prob_dict=cleaned_word_prob_dict,\n",
        "        word_frequency_dict=cleaned_word_frequency_dict,\n",
        "        first_order_condition_prob=cleaned_smoothed_first_order_condition_prob,\n",
        "        smoothing_alpha=0.01)\n",
        "    for sample in cleaned_test_dataset]\n",
        "\n",
        "log_perplex_list = []\n",
        "for idx in range(len(cleaned_test_dataset)):\n",
        "    # TODO: get sentence log perplexities\n",
        "    # YOUR CODE HERE\n",
        "    sentence_prob = cleaned_smoothed_bigram_test_probabilities[idx]\n",
        "    if sentence_prob==0:\n",
        "        continue\n",
        "    sentence_length = len(cleaned_test_dataset[idx][\"sentence\"].split())\n",
        "    log_perplex_list.append(-np.log2(sentence_prob)/sentence_length)\n",
        "cleaned_bigram_lm_perplexity = 2**np.mean(log_perplex_list)\n",
        "\n",
        "print(f\"(cleaned) Bigram language model perplexity is {cleaned_bigram_lm_perplexity}\")\n"
      ]
    },
    {
      "cell_type": "markdown",
      "id": "e2ea844a",
      "metadata": {
        "id": "e2ea844a"
      },
      "source": [
        "## 1.3 Tri-gram Language Model <a name='trigram_lm'></a>\n",
        "In the Tri-gram language model, we pick/generate next token conditioned only on the two previous tokens. Therefore, for an arbitrary sequence $x_1x_2~...x_n$, its respective probability becomes:\n",
        "$$p(x_1x_2~...x_n) = p(x_1) p(x_2|x_1) ~\\Pi_{i=3} ^n p(x_i|x_{i-2}x_{i-1})$$\n",
        "Let's use the same dataset (`Penn Treebank`) to evaluate this model's perplexity. (We use the dataset that already has the `<stop>` token at the end of each sentence).\n",
        "\n",
        "\n",
        "We estimate $p(x_i|x_{i-1}x_{i-2})$ using the Laplace smoothing with $\\alpha=3 \\cdot 10^{-3}$. First let's write a function that computes these conditional probabilities for the Tri-gram language model."
      ]
    },
    {
      "cell_type": "code",
      "execution_count": 24,
      "id": "abdf0b35",
      "metadata": {
        "id": "abdf0b35"
      },
      "outputs": [],
      "source": [
        "def get_smoothed_second_order_conditional_probabilities(train_dataset: datasets.arrow_dataset.Dataset,\n",
        "                                                        smoothing_alpha: float):\n",
        "    '''\n",
        "    In this function the conditional probabilities have to be computed based on train_dataset. The output\n",
        "    of the function is a dictionary having keys like (x_{i-2}, x_{i-1}, x_i) as a tuple and the\n",
        "    value being p(x_i | x_{i-2} x_{i-1}).\n",
        "    args:\n",
        "        train_dataset: a Dataset object that can be iterated to get all the sentences\n",
        "        smoothing_alpha: The alpha parameter used in the Laplace smoothing.\n",
        "    output:\n",
        "        word_prob_dict: a dictionary containing the word probabilities\n",
        "        first_order_condition_prob: a dictionary containing the smoothed first order\n",
        "                                    conditional probabilities.\n",
        "        second_order_condition_prob: a dictionary containing the smoothed second order\n",
        "                                     conditional probabilities.\n",
        "    '''\n",
        "    smoothed_second_order_condition_prob = defaultdict(float)  # Note that we shouldn't get zeros for unseen probabilies.\n",
        "\n",
        "    # let's first get the 0th and 1st order conditional probabilities\n",
        "    (word_prob_dict, first_order_condition_prob) = get_smoothed_first_order_conditional_probabilities(\n",
        "        train_dataset, smoothing_alpha)\n",
        "\n",
        "    # YOUR CODE HERE\n",
        "    all_tokens = \" \".join([i[\"sentence\"] for i in train_dataset]).split()\n",
        "    word_frequency_dict = Counter(all_tokens)\n",
        "    vocab_size = len(word_frequency_dict)\n",
        "    # now let's create all the bigrams in the train_dataset\n",
        "    all_bigrams = []\n",
        "    for sample in train_dataset:\n",
        "        token_list = sample[\"sentence\"].split()\n",
        "        sample_bigrams = [(s1, s2) for s1, s2 in zip(token_list, token_list[1:])]\n",
        "        all_bigrams += sample_bigrams\n",
        "    bigram_frequency_dict = Counter(all_bigrams)\n",
        "\n",
        "    # now let's create all the trigrams in the train_dataset\n",
        "    all_trigrams = []\n",
        "    for sample in train_dataset:\n",
        "        token_list = sample[\"sentence\"].split()\n",
        "        sample_trigrams = [(s1, s2, s3) for s1,s2,s3 in zip(token_list, token_list[1:], token_list[2:])]\n",
        "        all_trigrams += sample_trigrams\n",
        "    trigram_frequency_dict = Counter(all_trigrams)\n",
        "\n",
        "    smoothed_second_order_condition_prob = defaultdict(\n",
        "        float, {(w1,w2,w3): (trigram_freq+smoothing_alpha)/(bigram_frequency_dict[(w1,w2)] +\n",
        "                                                           smoothing_alpha*vocab_size)\n",
        "                for (w1,w2,w3), trigram_freq in trigram_frequency_dict.items()})\n",
        "\n",
        "\n",
        "    return word_prob_dict, first_order_condition_prob, smoothed_second_order_condition_prob\n"
      ]
    },
    {
      "cell_type": "markdown",
      "id": "936a664f",
      "metadata": {
        "id": "936a664f"
      },
      "source": [
        "#### Now let's analyze the Tri-gram language model for different sequences. We first create a function that can output the probability for a given string."
      ]
    },
    {
      "cell_type": "code",
      "execution_count": 25,
      "id": "3f6a692c",
      "metadata": {
        "id": "3f6a692c"
      },
      "outputs": [],
      "source": [
        "def smoothed_trigram_lm_seq_probability(input_sentence: str,\n",
        "                                        word_prob_dict: dict,\n",
        "                                        word_frequency_dict: dict,\n",
        "                                        bigram_frequency_dict: dict,\n",
        "                                        first_order_condition_prob: dict,\n",
        "                                        second_order_condition_prob: dict,\n",
        "                                        smoothing_alpha: float):\n",
        "    '''\n",
        "    args:\n",
        "        input_sentence: The input sequence string. Here we assume\n",
        "        word_prob_dict: a dictionary containing the word probabilities\n",
        "        word_frequency_dict: a dictionary containing the frequency for every word in vocabulary\n",
        "        bigram_frequency_dict: a dictionary containing the frequency for every bigram in vocabulary\n",
        "        first_order_condition_prob: a dictionary containing the first order conditional probabilities\n",
        "                                    as discussed earlier.\n",
        "        second_order_condition_prob: a dictionary containing the second order conditional probabilities\n",
        "                                     as discussed in the previous function.\n",
        "    output:\n",
        "        probability: The probability of the input_sentence according to the Bi-gram language model\n",
        "    '''\n",
        "\n",
        "    # TODO: compute smoothed trigram sequence probabilities\n",
        "    # YOUR CODE HERE\n",
        "    vocab_size = len(word_prob_dict)\n",
        "    token_list = input_sentence.split()\n",
        "    bigram_list = [(s1, s2) for s1, s2 in zip(token_list, token_list[1:])]\n",
        "    trigram_list = [(s1, s2, s3) for s1, s2, s3 in zip(token_list, token_list[1:], token_list[2:])]\n",
        "    probability = np.prod(\n",
        "        [word_prob_dict[token_list[0]]] + [first_order_condition_prob.get(\n",
        "            bigram_list[0], smoothing_alpha / (word_frequency_dict[bigram_list[0][0]] +\n",
        "                                               smoothing_alpha * vocab_size))] + [\n",
        "            second_order_condition_prob.get(trigram,\n",
        "                                            smoothing_alpha / (bigram_frequency_dict[trigram[:2]] +\n",
        "                                                               smoothing_alpha * vocab_size))\n",
        "            for trigram in trigram_list])\n",
        "\n",
        "    return probability"
      ]
    },
    {
      "cell_type": "markdown",
      "id": "16865742",
      "metadata": {
        "id": "16865742"
      },
      "source": [
        "#### Now let's compute the probability for sequences in the test dataset, assuming $\\alpha=3\\cdot10^{-3}$ has been used in the Laplace smoothing."
      ]
    },
    {
      "cell_type": "code",
      "execution_count": 26,
      "id": "36feefd8",
      "metadata": {
        "colab": {
          "base_uri": "https://localhost:8080/"
        },
        "id": "36feefd8",
        "outputId": "d0d046d2-d9d7-4441-ddca-8c9b9a975af7"
      },
      "outputs": [
        {
          "output_type": "stream",
          "name": "stdout",
          "text": [
            "0.0% of samples in the test set have zero probability!\n"
          ]
        }
      ],
      "source": [
        "smoothed_trigram_test_probabilities = []\n",
        "\n",
        "word_frequency_dict = Counter(\" \".join([i[\"sentence\"] for i in ptb_train]).split())\n",
        "\n",
        "all_bigrams = []\n",
        "for sample in ptb_train:\n",
        "    # TODO: get all bigrams\n",
        "    # YOUR CODE HERE\n",
        "    token_list = sample[\"sentence\"].split()\n",
        "    sample_bigrams = [(s1, s2) for s1, s2 in zip(token_list, token_list[1:])]\n",
        "    all_bigrams += sample_bigrams\n",
        "bigram_frequency_dict = Counter(all_bigrams)\n",
        "\n",
        "(word_prob_dict,\n",
        " smoothed_first_order_condition_prob,\n",
        " smoothed_second_order_condition_prob) = get_smoothed_second_order_conditional_probabilities(ptb_train, 3e-3)\n",
        "\n",
        "# TODO: get smoothed trigram probabilities on ptb_test dataset. Set `smoothing_alpha=3e-3`.\n",
        "# YOUR CODE HERE\n",
        "smoothed_trigram_test_probabilities = [\n",
        "    smoothed_trigram_lm_seq_probability(\n",
        "        input_sentence=sample[\"sentence\"],\n",
        "        word_prob_dict=word_prob_dict,\n",
        "        word_frequency_dict=word_frequency_dict,\n",
        "        bigram_frequency_dict=bigram_frequency_dict,\n",
        "        first_order_condition_prob=smoothed_first_order_condition_prob,\n",
        "        second_order_condition_prob=smoothed_second_order_condition_prob,\n",
        "        smoothing_alpha=3e-3)\n",
        "    for sample in ptb_test]\n",
        "\n",
        "\n",
        "print(f\"{smoothed_trigram_test_probabilities.count(0)/len(ptb_test)*100}% of samples in the test set have zero probability!\")"
      ]
    },
    {
      "cell_type": "markdown",
      "id": "26ddd040",
      "metadata": {
        "id": "26ddd040"
      },
      "source": [
        "Now we compute the perplexity on the `ptb_test` dataset for the tri-gram language model."
      ]
    },
    {
      "cell_type": "code",
      "execution_count": 27,
      "id": "25ed3d70",
      "metadata": {
        "colab": {
          "base_uri": "https://localhost:8080/"
        },
        "id": "25ed3d70",
        "outputId": "6d82db8d-b7b4-4cc0-c331-2a00d07af983"
      },
      "outputs": [
        {
          "output_type": "stream",
          "name": "stdout",
          "text": [
            "Trigram language model perplexity is 967.0855127667662\n"
          ]
        }
      ],
      "source": [
        "trigram_lm_perplexity = -1\n",
        "\n",
        "log_perplex_list = []\n",
        "for idx in range(len(ptb_test)):\n",
        "    # TODO: get bigram sentence probabilities\n",
        "    # YOUR CODE HERE\n",
        "    sentence_prob = smoothed_trigram_test_probabilities[idx]\n",
        "    if sentence_prob==0:\n",
        "        continue\n",
        "    sentence_length = len(ptb_test[idx][\"sentence\"].split())\n",
        "    log_perplex_list.append(-np.log2(sentence_prob)/sentence_length)\n",
        "trigram_lm_perplexity = 2**np.mean(log_perplex_list)\n",
        "\n",
        "print(f\"Trigram language model perplexity is {trigram_lm_perplexity}\")"
      ]
    },
    {
      "cell_type": "markdown",
      "id": "e34c59c8",
      "metadata": {
        "id": "e34c59c8"
      },
      "source": [
        "Repeat the same steps but for `cleaned_train_dataset` and `cleaned_test_dataset` datasets where rare tokens (with frequency less than 10) are replaced with `<unk>` token. Do we have a better or a worse perplexity compared to the previous computed perplexity?"
      ]
    },
    {
      "cell_type": "code",
      "execution_count": 28,
      "id": "41b456be",
      "metadata": {
        "colab": {
          "base_uri": "https://localhost:8080/"
        },
        "id": "41b456be",
        "outputId": "73ffba52-292c-472a-d013-ec6ee1bba399"
      },
      "outputs": [
        {
          "output_type": "stream",
          "name": "stdout",
          "text": [
            "(cleaned) Trigram language model perplexity is 511.4526616266122\n"
          ]
        }
      ],
      "source": [
        "cleaned_word_frequency_dict = Counter(\" \".join([i[\"sentence\"] for i in cleaned_train_dataset]).split())\n",
        "\n",
        "all_bigrams = []\n",
        "for sample in cleaned_train_dataset:\n",
        "    # TODO: add all bigrams into `all_bigrams`\n",
        "    # YOUR CODE HERE\n",
        "    token_list = sample[\"sentence\"].split()\n",
        "    sample_bigrams = [(s1, s2) for s1, s2 in zip(token_list, token_list[1:])]\n",
        "    all_bigrams += sample_bigrams\n",
        "cleaned_bigram_frequency_dict = Counter(all_bigrams)\n",
        "\n",
        "(cleaned_word_prob_dict,\n",
        " cleaned_first_order_condition_prob,\n",
        " cleaned_second_order_condition_prob\n",
        ") = get_smoothed_second_order_conditional_probabilities(cleaned_train_dataset, 3e-3)\n",
        "\n",
        "\n",
        "# TODO: get trigram sequence probabilities on `cleaned_test_dataset` using `smoothed_trigram_lm_seq_probability`\n",
        "cleaned_smoothed_trigram_test_probabilities = [\n",
        "    smoothed_trigram_lm_seq_probability(\n",
        "        input_sentence=sample[\"sentence\"],\n",
        "        word_prob_dict=cleaned_word_prob_dict,\n",
        "        word_frequency_dict=cleaned_word_frequency_dict,\n",
        "        bigram_frequency_dict=cleaned_bigram_frequency_dict,\n",
        "        first_order_condition_prob=cleaned_first_order_condition_prob,\n",
        "        second_order_condition_prob=cleaned_second_order_condition_prob,\n",
        "        smoothing_alpha=3e-3)\n",
        "    for sample in cleaned_test_dataset]\n",
        "\n",
        "# compute perplexities\n",
        "log_perplex_list = []\n",
        "for idx in range(len(cleaned_test_dataset)):\n",
        "    sentence_prob = cleaned_smoothed_trigram_test_probabilities[idx]\n",
        "    if sentence_prob==0:\n",
        "        continue\n",
        "    sentence_length = len(cleaned_test_dataset[idx][\"sentence\"].split())\n",
        "    log_perplex_list.append(-np.log2(sentence_prob)/sentence_length)\n",
        "cleaned_Trigram_lm_perplexity = 2**np.mean(log_perplex_list)\n",
        "\n",
        "print(f\"(cleaned) Trigram language model perplexity is {cleaned_Trigram_lm_perplexity}\")\n"
      ]
    },
    {
      "cell_type": "markdown",
      "id": "2d8e69cc",
      "metadata": {
        "id": "2d8e69cc"
      },
      "source": [
        "#### Discussion\n",
        " - How are the three discussed models performance compare to each other?\n",
        " - What is the cost of using N-gram language models for even larger N values?\n",
        " - What is the effect of vocabulary size on models' perplexities? Can we compare models with different vocabulary sizes?\n",
        " - What is the perplexity of a language model (vocabulary size of |V|) that given any context (i.e., $x_1 x_2 ... x_{n-1}$) assigns uniform probabilities (for all the tokens in the vocabulary) for the next token?"
      ]
    },
    {
      "cell_type": "markdown",
      "id": "641578b1",
      "metadata": {
        "id": "641578b1"
      },
      "source": [
        "## 2. Task B: Neural Language Models <a name='neural_lm'></a>\n",
        "\n",
        "In this exercise, we will better understand the functioning of some simple neural language models. We first start with a fixed-window neural language model. In the following subsection, we will investigate an RNN-based language model."
      ]
    },
    {
      "cell_type": "markdown",
      "id": "88cee765",
      "metadata": {
        "id": "88cee765"
      },
      "source": [
        "### 2.1 Fixed-Window Neural Language Model <a name='fixed_window_lm'></a>\n",
        "This language model take as input a constant number of tokens, and then outputs a probability distribution for the next token. In this section, we assume the underlying model is a Multi-layer Perceptron (MLP) with a single hidden layer. This model doesn't have the sparsity issue of N-gram language models, but is always limited to a fixed window of tokens.\n",
        "\n",
        "In this section, we don't include the training of the model but rather we use a pretrained model on the same training dataset. We evaluate the language model over the `ptb_test` dataset, to show the power of neural language models, when compared to N-gram language models.\n",
        "\n",
        "More importantly, we use PyTorch modules in this section, so that you get more familiar with its capabilities. Throughout this exercise, we use a `window_size=3` for this model.\n",
        "\n"
      ]
    },
    {
      "cell_type": "markdown",
      "id": "6808da1e",
      "metadata": {
        "id": "6808da1e"
      },
      "source": [
        "Let's first create a dataset of all consecutive tokens of length `window_size` from the `ptb_train` dataset. you can read more about PyTorch datasets and how to create a custom dataset  [here](https://pytorch.org/tutorials/beginner/basics/data_tutorial.html#creating-a-custom-dataset-for-your-files)."
      ]
    },
    {
      "cell_type": "code",
      "execution_count": 29,
      "id": "70f5c3bf",
      "metadata": {
        "id": "70f5c3bf"
      },
      "outputs": [],
      "source": [
        "from torch.utils.data import Dataset, DataLoader\n",
        "\n",
        "window_size = 3\n",
        "vocabulary_size = 10000\n",
        "word_emb_dim = 100\n",
        "hidden_dim = 100\n",
        "\n",
        "\n",
        "class FixedWindowDataset(Dataset):\n",
        "    # read more about custom datasets at https://pytorch.org/tutorials/beginner/basics/data_tutorial.html\n",
        "    def __init__(self,\n",
        "                 train_dataset: datasets.arrow_dataset.Dataset,\n",
        "                 test_dataset: datasets.arrow_dataset.Dataset,\n",
        "                 window_size: int,\n",
        "                 vocabulary_size: int\n",
        "                ):\n",
        "        self.prepared_train_dataset = self.prepare_fixed_window_lm_dataset(train_dataset, window_size + 1)\n",
        "        self.prepared_test_dataset = self.prepare_fixed_window_lm_dataset(test_dataset, window_size + 1)\n",
        "\n",
        "        dataset_vocab = self.get_dataset_vocabulary(train_dataset)\n",
        "        # defining a dictionary that simply maps tokens to their respective index in the embedding matrix\n",
        "        self.word_to_index = {word: idx for idx,word in enumerate(dataset_vocab)}\n",
        "        self.index_to_word = {idx: word for idx,word in enumerate(dataset_vocab)}\n",
        "\n",
        "        assert vocabulary_size >= len(dataset_vocab) , f\"The dataset vocab size is {len(dataset_vocab)}!\"\n",
        "\n",
        "    def __len__(self):\n",
        "        return len(self.prepared_train_dataset)\n",
        "\n",
        "    def get_encoded_test_samples(self):\n",
        "        all_token_lists = [sample.split() for sample in self.prepared_test_dataset]\n",
        "        all_token_ids = [[self.word_to_index.get(word, self.word_to_index[\"<unk>\"])\n",
        "                          for word in token_list[:-1]]\n",
        "                         for token_list in all_token_lists\n",
        "                        ]\n",
        "        all_next_token_ids = [self.word_to_index.get(token_list[-1], self.word_to_index[\"<unk>\"]) for\n",
        "                              token_list in all_token_lists]\n",
        "        return torch.tensor(all_token_ids), torch.tensor(all_next_token_ids)\n",
        "\n",
        "    def __getitem__(self, idx):\n",
        "        # here we need to transform the data to the format we expect at the model input\n",
        "        token_list = self.prepared_train_dataset[idx].split()\n",
        "        # having a fallback to <unk> token if an unseen word is encoded.\n",
        "        token_ids = [self.word_to_index.get(word, self.word_to_index[\"<unk>\"]) for word in token_list[:-1]]\n",
        "        next_token_id = self.word_to_index.get(token_list[-1], self.word_to_index[\"<unk>\"])\n",
        "        return torch.tensor(token_ids), torch.tensor(next_token_id)\n",
        "\n",
        "    def decode_idx_to_word(self, token_id):\n",
        "        return [self.index_to_word[id_.item()] for id_ in token_id]\n",
        "\n",
        "    def get_dataset_vocabulary(self, train_dataset: datasets.arrow_dataset.Dataset):\n",
        "        vocab = sorted(set(\" \".join([sample[\"sentence\"] for sample in train_dataset]).split()))\n",
        "        # we also add a <start> token to include initial tokens in the sentences in the dataset\n",
        "        vocab += [\"<start>\"]\n",
        "        return vocab\n",
        "\n",
        "    @staticmethod\n",
        "    def prepare_fixed_window_lm_dataset(target_dataset: datasets.arrow_dataset.Dataset,\n",
        "                                        window_size: int):\n",
        "        '''\n",
        "        Please note that for the very first tokens, they will be added like \"<start> <start> Token#1\".\n",
        "        args:\n",
        "            target_dataset: the target dataset where its consecutive tokens of length 'window_size' should be extracted\n",
        "            window_size: the window size for the language model\n",
        "        output:\n",
        "            prepared_dataset: a list of strings each containing 'window_size' tokens.\n",
        "        '''\n",
        "\n",
        "        prepared_dataset = []\n",
        "\n",
        "        # YOUR CODE HERE\n",
        "        # TODO: (1) filter out sequences with length less than `window_size`\n",
        "        #       (2) prepend \"<start>\" tokens at the beginning of sequences\n",
        "        #       (3) add all sub-sequence with length as `window_size` into prepared_dataset\n",
        "        for sample in target_dataset:\n",
        "            temp_token_list = sample[\"sentence\"].split()\n",
        "            if len(temp_token_list) < window_size:\n",
        "                continue\n",
        "            temp_token_list = [\"<start>\"] * (window_size - 1) + temp_token_list\n",
        "            for idx in range(len(temp_token_list)- window_size + 1):\n",
        "                prepared_dataset.append(\" \".join(temp_token_list[idx: idx+window_size]))\n",
        "        return prepared_dataset\n",
        "\n"
      ]
    },
    {
      "cell_type": "code",
      "execution_count": 30,
      "id": "524f4a18",
      "metadata": {
        "id": "524f4a18"
      },
      "outputs": [],
      "source": [
        "fixed_window_dataset = FixedWindowDataset(ptb_train, ptb_test, window_size, vocabulary_size)\n",
        "\n",
        "# let's create a simple dataloader for this dataset\n",
        "train_dataloader =  DataLoader(fixed_window_dataset, batch_size=8, shuffle=True)"
      ]
    },
    {
      "cell_type": "markdown",
      "id": "5b44e90d",
      "metadata": {
        "id": "5b44e90d"
      },
      "source": [
        "Now, let's define the underlying PyTorch model for the language model. You can read more about PyTorch models [here](https://pytorch.org/tutorials/beginner/introyt/modelsyt_tutorial.html).\n",
        "\n",
        "**Note**: Here in the forward pass, we compute the negative log-likelihood after passing through the MLP layers. Here we use `torch.nn.LogSoftmax`, as it's numerically more stable than doing seperately `softmax` followed by taking its logarithm."
      ]
    },
    {
      "cell_type": "code",
      "execution_count": 31,
      "id": "e3ea691f",
      "metadata": {
        "id": "e3ea691f"
      },
      "outputs": [],
      "source": [
        "import torch.optim as optim\n",
        "\n",
        "class Fixed_window_language_model(torch.nn.Module):\n",
        "    def __init__(self, emb_dim, hidden_dim, window_size, vocab_size=10000):\n",
        "        super().__init__()\n",
        "\n",
        "        self.window_size = window_size\n",
        "        self.emb_dim = emb_dim\n",
        "        self.word_embeddings = torch.nn.Embedding(vocab_size, emb_dim) # word embeddings\n",
        "        self.linear1 = torch.nn.Linear(window_size * emb_dim, hidden_dim) # first linear layer\n",
        "        self.activation_func = torch.tanh # the activation function\n",
        "        self.linear2 = torch.nn.Linear(hidden_dim, vocab_size) # second linear layer\n",
        "\n",
        "        self.log_softmax = torch.nn.LogSoftmax(dim=1)\n",
        "        self.criterion = torch.nn.NLLLoss()\n",
        "\n",
        "    def forward(self, input_ids, labels):\n",
        "        inputs_embeds = self.word_embeddings(input_ids)\n",
        "        concat_input_embed = inputs_embeds.reshape(-1, self.emb_dim * self.window_size)\n",
        "        hidden_state = self.activation_func( self.linear1(concat_input_embed) )\n",
        "        logits = self.log_softmax( self.linear2(hidden_state) )\n",
        "        loss = self.criterion(logits, labels)\n",
        "\n",
        "        return loss\n"
      ]
    },
    {
      "cell_type": "markdown",
      "id": "4dae5397",
      "metadata": {
        "id": "4dae5397"
      },
      "source": [
        "Now let's see how easy it is to train a model with PyTorch! (we provide a trained model in the cell after train, so that you can just start using the model without going through the time-consuming training)"
      ]
    },
    {
      "cell_type": "code",
      "execution_count": 32,
      "id": "93779901",
      "metadata": {
        "id": "93779901"
      },
      "outputs": [],
      "source": [
        "# defining the model\n",
        "model_fixed_window = Fixed_window_language_model(emb_dim=word_emb_dim, hidden_dim=hidden_dim,\n",
        "                                                 window_size=window_size, vocab_size=vocabulary_size)\n",
        "\n",
        "# defining the optimizer\n",
        "optimizer = optim.SGD(model_fixed_window.parameters(),\n",
        "                      lr=0.005,\n",
        "                      momentum=0.9)"
      ]
    },
    {
      "cell_type": "code",
      "execution_count": null,
      "id": "77626d29",
      "metadata": {
        "scrolled": true,
        "id": "77626d29",
        "outputId": "9544b91c-dcb4-4f35-997f-ed5e53dc0ca4"
      },
      "outputs": [
        {
          "name": "stdout",
          "output_type": "stream",
          "text": [
            "[1,  5000] loss: 6.817\n",
            "[1, 10000] loss: 6.278\n",
            "[1, 15000] loss: 6.115\n",
            "[1, 20000] loss: 6.041\n",
            "[1, 25000] loss: 5.996\n",
            "[1, 30000] loss: 5.984\n",
            "[1, 35000] loss: 5.910\n",
            "[1, 40000] loss: 5.875\n",
            "[1, 45000] loss: 5.875\n",
            "[1, 50000] loss: 5.833\n",
            "[1, 55000] loss: 5.806\n",
            "[1, 60000] loss: 5.773\n",
            "[1, 65000] loss: 5.765\n",
            "[1, 70000] loss: 5.752\n",
            "[1, 75000] loss: 5.705\n",
            "[1, 80000] loss: 5.727\n",
            "[1, 85000] loss: 5.696\n",
            "[1, 90000] loss: 5.702\n",
            "[2,  5000] loss: 5.574\n",
            "[2, 10000] loss: 5.561\n",
            "[2, 15000] loss: 5.531\n",
            "[2, 20000] loss: 5.533\n",
            "[2, 25000] loss: 5.570\n",
            "[2, 30000] loss: 5.533\n",
            "[2, 35000] loss: 5.547\n",
            "[2, 40000] loss: 5.544\n",
            "[2, 45000] loss: 5.524\n",
            "[2, 50000] loss: 5.546\n",
            "[2, 55000] loss: 5.523\n",
            "[2, 60000] loss: 5.521\n",
            "[2, 65000] loss: 5.513\n",
            "[2, 70000] loss: 5.501\n",
            "[2, 75000] loss: 5.521\n",
            "[2, 80000] loss: 5.505\n",
            "[2, 85000] loss: 5.508\n",
            "[2, 90000] loss: 5.509\n",
            "Finished Training\n"
          ]
        }
      ],
      "source": [
        "for epoch in range(2):  # loop over the dataset multiple times\n",
        "\n",
        "    running_loss = 0.0\n",
        "    for i, data in enumerate(train_dataloader):\n",
        "        # get the inputs; data is a tuple of (context, target)\n",
        "        context, target = data\n",
        "\n",
        "        # zero the parameter gradients\n",
        "        optimizer.zero_grad()\n",
        "\n",
        "        # forward + backward + optimize\n",
        "        loss = model_fixed_window(context, target)\n",
        "        loss.backward()\n",
        "        optimizer.step()\n",
        "\n",
        "        # print statistics\n",
        "        running_loss += loss.item()\n",
        "        if i % 5000 == 4999. :    # print every 5000 mini-batches\n",
        "            print(f'[{epoch + 1}, {i + 1:5d}] loss: {running_loss / 5000:.3f}')\n",
        "            running_loss = 0.0\n",
        "\n",
        "print('Finished Training')\n",
        "\n",
        "# saving the trained model\n",
        "torch.save(model_fixed_window.state_dict(), \"fixed_window_model.pt\")"
      ]
    },
    {
      "cell_type": "markdown",
      "id": "0483dd01",
      "metadata": {
        "id": "0483dd01"
      },
      "source": [
        "We provide a trained model, so that you can start using it right away"
      ]
    },
    {
      "cell_type": "code",
      "execution_count": 33,
      "id": "54ba51b1",
      "metadata": {
        "id": "54ba51b1",
        "outputId": "80170e5f-bab5-45b5-fdc5-169bcb9941e2",
        "colab": {
          "base_uri": "https://localhost:8080/"
        }
      },
      "outputs": [
        {
          "output_type": "stream",
          "name": "stderr",
          "text": [
            "<ipython-input-33-7d97a87a7927>:2: FutureWarning: You are using `torch.load` with `weights_only=False` (the current default value), which uses the default pickle module implicitly. It is possible to construct malicious pickle data which will execute arbitrary code during unpickling (See https://github.com/pytorch/pytorch/blob/main/SECURITY.md#untrusted-models for more details). In a future release, the default value for `weights_only` will be flipped to `True`. This limits the functions that could be executed during unpickling. Arbitrary objects will no longer be allowed to be loaded via this mode unless they are explicitly allowlisted by the user via `torch.serialization.add_safe_globals`. We recommend you start setting `weights_only=True` for any use case where you don't have full control of the loaded file. Please open an issue on GitHub for any issues related to this experimental feature.\n",
            "  model_fixed_window.load_state_dict(torch.load(fixed_window_checkpoint_file))\n"
          ]
        },
        {
          "output_type": "execute_result",
          "data": {
            "text/plain": [
              "<All keys matched successfully>"
            ]
          },
          "metadata": {},
          "execution_count": 33
        }
      ],
      "source": [
        "fixed_window_checkpoint_file = \"fixed_window_model.pt\"\n",
        "model_fixed_window.load_state_dict(torch.load(fixed_window_checkpoint_file))"
      ]
    },
    {
      "cell_type": "code",
      "execution_count": 34,
      "id": "b806f375",
      "metadata": {
        "id": "b806f375"
      },
      "outputs": [],
      "source": [
        "# context and 'target' ids (target is the next word after the context)\n",
        "test_token_ids, test_target_ids = fixed_window_dataset.get_encoded_test_samples()"
      ]
    },
    {
      "cell_type": "markdown",
      "id": "f87e283d",
      "metadata": {
        "id": "f87e283d"
      },
      "source": [
        "We now have the `test_token_ids`, `test_target_ids` tensors for the test dataset. The `test_token_ids` are the context ids and `test_target_ids` are the respective **next token** (a.k.a. target here) for these contexts.\n",
        "#### Using the trained model, implement a function that can output the loss for the discussed test dataset. How can we generally decide if the model is overfitted to the train dataset or not?"
      ]
    },
    {
      "cell_type": "code",
      "execution_count": 35,
      "id": "e352e019",
      "metadata": {
        "id": "e352e019",
        "outputId": "d0453fbf-cc7c-4fd7-e04b-266637e7527c",
        "colab": {
          "base_uri": "https://localhost:8080/"
        }
      },
      "outputs": [
        {
          "output_type": "stream",
          "name": "stdout",
          "text": [
            "Test dataset loss is 5.539917028697696\n"
          ]
        }
      ],
      "source": [
        "def generate_test_dataset_loss(model: torch.nn.Module,\n",
        "                               test_token_ids: torch.Tensor,\n",
        "                               test_target_ids: torch.Tensor):\n",
        "    '''\n",
        "    args:\n",
        "        model: fixed-window language model\n",
        "        test_token_ids: the context ids in a single tensor.\n",
        "        test_target_ids: the target ids (next token after the context) in a single tensor.\n",
        "    output:\n",
        "        avg_test_loss: The average loss of model over test dataset.\n",
        "    '''\n",
        "    batch_size = 4\n",
        "    test_loss = []\n",
        "    model.eval()\n",
        "\n",
        "    # YOUR CODE HERE\n",
        "    with torch.no_grad():\n",
        "        for data_idx in range(0, test_token_ids.shape[0], batch_size):\n",
        "            context_batch = test_token_ids[data_idx: data_idx + batch_size]\n",
        "            target = test_target_ids[data_idx: data_idx + batch_size]\n",
        "            batch_loss = model(context_batch, target)\n",
        "            test_loss.append(batch_loss.item())\n",
        "    avg_test_loss = np.array(test_loss).mean()\n",
        "\n",
        "    return avg_test_loss\n",
        "\n",
        "\n",
        "test_dataset_loss = generate_test_dataset_loss(model_fixed_window, test_token_ids, test_target_ids)\n",
        "print(f\"Test dataset loss is {test_dataset_loss}\")"
      ]
    },
    {
      "cell_type": "markdown",
      "id": "085d7476",
      "metadata": {
        "id": "085d7476"
      },
      "source": [
        "#### Using the trained fixed-window model, implement a function that can output entropy for a given sequence."
      ]
    },
    {
      "cell_type": "code",
      "execution_count": 36,
      "id": "db54e454",
      "metadata": {
        "id": "db54e454"
      },
      "outputs": [],
      "source": [
        "def get_seqeuence_entropy_fixed_window_lm(model: torch.nn.Module,\n",
        "                                              input_sequence: str,\n",
        "                                              window_size: int,\n",
        "                                              word_to_idx: dict):\n",
        "    '''\n",
        "    Note that e.g., in order to get the first token probability, you need to pass a sequence\n",
        "    like \"<start> <start> <start>\" (prefix padding) to the neural model. In a similar fashion, we need to pass\n",
        "    \"<start> <start> TOKEN#1\" for getting the probability of the second token.\n",
        "    args:\n",
        "        model: fixed-window language model\n",
        "        input_sequence: the sequence for which we want to calculate the probability\n",
        "        window_size: the size of window for the language model\n",
        "        word_to_idx: a mapping from words to the embedding indices (to encode tokens before being\n",
        "                     passed to model). You can get this dict from 'fixed_window_dataset.word_to_index'\n",
        "    output:\n",
        "        sequence_entropy: the entropy for the input sequence using the trained model\n",
        "    '''\n",
        "\n",
        "    modified_sentence = \"<start> \" * (window_size) + input_sequence\n",
        "\n",
        "    token_list = modified_sentence.split()\n",
        "    encoded_context = []\n",
        "    encoded_target = []\n",
        "\n",
        "    for idx in range(len(token_list)-window_size):\n",
        "        # TODO: add items into encoded_context and encoded_target.\n",
        "        # YOUR CODE HERE\n",
        "        encoded_context.append([word_to_idx.get(token, word_to_idx[\"<unk>\"])\n",
        "                                for token in token_list[idx: idx+window_size]])\n",
        "        encoded_target.append(word_to_idx.get(token_list[idx+window_size], word_to_idx[\"<unk>\"]))\n",
        "    encoded_context = torch.tensor(encoded_context)\n",
        "    encoded_target = torch.tensor(encoded_target)\n",
        "\n",
        "    # TODO: passing the context (and respective labels) to the fixed-window LM to get average NLL.\n",
        "    # YOUR CODE HERE\n",
        "    with torch.no_grad():\n",
        "        sequence_entropy = model(encoded_context, encoded_target).item()\n",
        "\n",
        "    return sequence_entropy"
      ]
    },
    {
      "cell_type": "markdown",
      "id": "7d055835",
      "metadata": {
        "id": "7d055835"
      },
      "source": [
        "#### Compute the perplexity for the trained fixed-window language model over `ptb_test` dataset using the previous function. How does it perform compared to N-gram language models we discussed earlier?"
      ]
    },
    {
      "cell_type": "code",
      "execution_count": 37,
      "id": "f4289886",
      "metadata": {
        "id": "f4289886",
        "outputId": "6d67e3ca-7d08-4139-8845-4a9117505efd",
        "colab": {
          "base_uri": "https://localhost:8080/"
        }
      },
      "outputs": [
        {
          "output_type": "stream",
          "name": "stdout",
          "text": [
            "The fixed-window model perplexity over test dataset is 252.61245486535864\n"
          ]
        }
      ],
      "source": [
        "perplexity = -1\n",
        "\n",
        "# YOUR CODE HERE\n",
        "fixed_window_test_set_entropy = [get_seqeuence_entropy_fixed_window_lm(model_fixed_window,\n",
        "                                                                           sample[\"sentence\"],\n",
        "                                                                           window_size,\n",
        "                                                                           fixed_window_dataset.word_to_index)\n",
        "                                 for sample in ptb_test]\n",
        "perplexity = np.exp(np.mean(fixed_window_test_set_entropy))\n",
        "\n",
        "\n",
        "print(f\"The fixed-window model perplexity over test dataset is {perplexity}\")"
      ]
    },
    {
      "cell_type": "markdown",
      "id": "240c3d89",
      "metadata": {
        "id": "240c3d89"
      },
      "source": [
        "### 2.2 RNN-based Language Model <a name='rnn_lm'></a>\n",
        "To address the need for a neural architecture that can proceed with any length input (as opposed to the fixed-window model that can only process a fixed number of tokens), we implement the Recurrent Neural Network (RNN). The core idea behind is that we can apply the same weight W repeatedly.\n",
        "\n",
        "An advatange of RNN model compared to fixed-window langauage model is that we can pass a given sentence at once, instead of passing it in many windows of size `window_size`. Moreover, the language model has the ability to look behind further that a fixed number of tokens.\n",
        "\n",
        " As we already did a neural model training exercise for the previous neural model, we only provide a trained LM at this section, so that you can focus only on the analysis part.\n",
        "\n",
        "You can find the dataset structure as well as the RNN architecture in the `rnn_utils.py` file."
      ]
    },
    {
      "cell_type": "code",
      "execution_count": 38,
      "id": "fc631bc1",
      "metadata": {
        "colab": {
          "base_uri": "https://localhost:8080/"
        },
        "id": "fc631bc1",
        "outputId": "ea352899-08ed-4ab7-bf5c-e1b6b087bc98"
      },
      "outputs": [
        {
          "output_type": "execute_result",
          "data": {
            "text/plain": [
              "RNN_language_model(\n",
              "  (criterion): CrossEntropyLoss()\n",
              "  (embedding): Embedding(10000, 200)\n",
              "  (rnn): RNN(200, 200, num_layers=4)\n",
              "  (dropout): Dropout(p=0.001, inplace=False)\n",
              "  (lm_decoder): Linear(in_features=200, out_features=10000, bias=True)\n",
              ")"
            ]
          },
          "metadata": {},
          "execution_count": 38
        }
      ],
      "source": [
        "from rnn_utils import RNNDataset, RNN_language_model\n",
        "\n",
        "vocabulary_size = 10000\n",
        "word_emb_dim = 200\n",
        "hidden_dim = 200\n",
        "\n",
        "rnn_dataset = RNNDataset(ptb_train, ptb_test, vocabulary_size)\n",
        "\n",
        "# if gpu is available, we puts the model on it\n",
        "device = torch.device(\"cuda:0\" if torch.cuda.is_available() else \"cpu\")\n",
        "\n",
        "# Here we need a <pad> token for the RNN model, in order to have a batch of sequences with difference sizes\n",
        "pad_idx = rnn_dataset.pad_idx # the index for <pad> token\n",
        "rnn_model = RNN_language_model(vocab_size=vocabulary_size, emb_dim=word_emb_dim, hidden_dim=hidden_dim,\n",
        "                               pad_idx=pad_idx)\n",
        "rnn_model.to(device)"
      ]
    },
    {
      "cell_type": "markdown",
      "id": "25137a9f",
      "metadata": {
        "id": "25137a9f"
      },
      "source": [
        "load the model weights using the state_dict in `rnn_model.pt` file."
      ]
    },
    {
      "cell_type": "code",
      "execution_count": 39,
      "id": "52adb1f9",
      "metadata": {
        "colab": {
          "base_uri": "https://localhost:8080/"
        },
        "id": "52adb1f9",
        "outputId": "ae42341d-1801-43ec-dd1b-d8be0f54e4b9"
      },
      "outputs": [
        {
          "output_type": "stream",
          "name": "stderr",
          "text": [
            "<ipython-input-39-6644377bd301>:4: FutureWarning: You are using `torch.load` with `weights_only=False` (the current default value), which uses the default pickle module implicitly. It is possible to construct malicious pickle data which will execute arbitrary code during unpickling (See https://github.com/pytorch/pytorch/blob/main/SECURITY.md#untrusted-models for more details). In a future release, the default value for `weights_only` will be flipped to `True`. This limits the functions that could be executed during unpickling. Arbitrary objects will no longer be allowed to be loaded via this mode unless they are explicitly allowlisted by the user via `torch.serialization.add_safe_globals`. We recommend you start setting `weights_only=True` for any use case where you don't have full control of the loaded file. Please open an issue on GitHub for any issues related to this experimental feature.\n",
            "  rnn_model.load_state_dict(torch.load(\"rnn_model.pt\", map_location=torch.device('cpu')))\n"
          ]
        }
      ],
      "source": [
        "\n",
        "if torch.cuda.is_available():\n",
        "    rnn_model.load_state_dict(torch.load(\"rnn_model.pt\"))\n",
        "else: # cpu only\n",
        "    rnn_model.load_state_dict(torch.load(\"rnn_model.pt\", map_location=torch.device('cpu')))"
      ]
    },
    {
      "cell_type": "markdown",
      "id": "f06eb967",
      "metadata": {
        "id": "f06eb967"
      },
      "source": [
        "As the training of an RNN model is time-consuming, we provide a trained language model on this dataset (`rnn_model.pt`), so that you can just analyze the model performance here.\n",
        "As mentioned above, as RNN can get sequences with varying lengths, the input sequences should be padded with a special token like `<pad>`, so that we can create a batch of sentences. The output of the defined RNN model (see the architecture detail `rnn_utils.py`) is the model's entropy over the input data.\n",
        "\n",
        "#### First get the encoded test samples of `ptb_test` dataset, and then pass these (already padded) sentences to the RNN model to get the respective entropy values. Compute the perplexity of the model and compare it with previous approaches.\n",
        "**HINT**: You can use the `get_encoded_test_samples` function of `rnn_dataset` to get encoded test samples.\n"
      ]
    },
    {
      "cell_type": "code",
      "execution_count": 40,
      "id": "09d7b99f",
      "metadata": {
        "colab": {
          "base_uri": "https://localhost:8080/"
        },
        "id": "09d7b99f",
        "outputId": "f58fef89-57d0-4081-c54e-7dff92dd317b"
      },
      "outputs": [
        {
          "output_type": "stream",
          "name": "stdout",
          "text": [
            "The model perplexity is 208.33643016321835\n"
          ]
        }
      ],
      "source": [
        "test_perplexity = -1\n",
        "\n",
        "# YOUR CODE HERE\n",
        "test_token_ids = rnn_dataset.get_encoded_test_samples()\n",
        "\n",
        "rnn_model.eval()\n",
        "test_loss = []\n",
        "\n",
        "eval_batch_size = 8\n",
        "with torch.no_grad():\n",
        "    for data_idx in range(0, test_token_ids.shape[0], eval_batch_size):\n",
        "        # TODO: get one test batch with batch_size = eval_batch_size\n",
        "        context_batch = test_token_ids[data_idx: data_idx + eval_batch_size].to(device)\n",
        "\n",
        "        batch_max_seq_length = (context_batch!=rnn_dataset.pad_idx).sum(dim=1).max().item()\n",
        "        context_batch = context_batch[:, :batch_max_seq_length]\n",
        "\n",
        "        # TODO: get loss on one batch with rnn_model\n",
        "        batch_loss = rnn_model(context_batch)\n",
        "        test_loss.append(batch_loss.item())\n",
        "avg_test_loss = np.array(test_loss).mean()\n",
        "test_perplexity = np.exp(avg_test_loss)\n",
        "\n",
        "print(f\"The model perplexity is {test_perplexity}\")"
      ]
    },
    {
      "cell_type": "code",
      "source": [],
      "metadata": {
        "id": "cqFsdyxcyDgV"
      },
      "id": "cqFsdyxcyDgV",
      "execution_count": null,
      "outputs": []
    }
  ],
  "metadata": {
    "kernelspec": {
      "display_name": "Python 3 (ipykernel)",
      "language": "python",
      "name": "python3"
    },
    "language_info": {
      "codemirror_mode": {
        "name": "ipython",
        "version": 3
      },
      "file_extension": ".py",
      "mimetype": "text/x-python",
      "name": "python",
      "nbconvert_exporter": "python",
      "pygments_lexer": "ipython3",
      "version": "3.9.13"
    },
    "vscode": {
      "interpreter": {
        "hash": "a8ced340a52f9326f5856e1d63a73f97bd9f0a225610b549ff7b502d766a19ce"
      }
    },
    "colab": {
      "provenance": []
    },
    "widgets": {
      "application/vnd.jupyter.widget-state+json": {
        "2b33cbdcd0cf4b41b650e449cd4a7ec5": {
          "model_module": "@jupyter-widgets/controls",
          "model_name": "HBoxModel",
          "model_module_version": "1.5.0",
          "state": {
            "_dom_classes": [],
            "_model_module": "@jupyter-widgets/controls",
            "_model_module_version": "1.5.0",
            "_model_name": "HBoxModel",
            "_view_count": null,
            "_view_module": "@jupyter-widgets/controls",
            "_view_module_version": "1.5.0",
            "_view_name": "HBoxView",
            "box_style": "",
            "children": [
              "IPY_MODEL_1d0ab363318b452892b76b90584944b8",
              "IPY_MODEL_c3dd6b508d244f08bd2eff92a03e5161",
              "IPY_MODEL_db1837cb01ae40baa3cfa1fab2709332"
            ],
            "layout": "IPY_MODEL_ee7dcbdb74dc484b9b30af4ec2ac7241"
          }
        },
        "1d0ab363318b452892b76b90584944b8": {
          "model_module": "@jupyter-widgets/controls",
          "model_name": "HTMLModel",
          "model_module_version": "1.5.0",
          "state": {
            "_dom_classes": [],
            "_model_module": "@jupyter-widgets/controls",
            "_model_module_version": "1.5.0",
            "_model_name": "HTMLModel",
            "_view_count": null,
            "_view_module": "@jupyter-widgets/controls",
            "_view_module_version": "1.5.0",
            "_view_name": "HTMLView",
            "description": "",
            "description_tooltip": null,
            "layout": "IPY_MODEL_fef67b0eccdc46e285f2a58dd2ebb77a",
            "placeholder": "​",
            "style": "IPY_MODEL_ee5ef8af2e8c4d97ae8113e77ea9d375",
            "value": "README.md: 100%"
          }
        },
        "c3dd6b508d244f08bd2eff92a03e5161": {
          "model_module": "@jupyter-widgets/controls",
          "model_name": "FloatProgressModel",
          "model_module_version": "1.5.0",
          "state": {
            "_dom_classes": [],
            "_model_module": "@jupyter-widgets/controls",
            "_model_module_version": "1.5.0",
            "_model_name": "FloatProgressModel",
            "_view_count": null,
            "_view_module": "@jupyter-widgets/controls",
            "_view_module_version": "1.5.0",
            "_view_name": "ProgressView",
            "bar_style": "success",
            "description": "",
            "description_tooltip": null,
            "layout": "IPY_MODEL_aeb87932359248b78dda676d7a172f37",
            "max": 4210,
            "min": 0,
            "orientation": "horizontal",
            "style": "IPY_MODEL_36202d235f304841a5db480354b4faf9",
            "value": 4210
          }
        },
        "db1837cb01ae40baa3cfa1fab2709332": {
          "model_module": "@jupyter-widgets/controls",
          "model_name": "HTMLModel",
          "model_module_version": "1.5.0",
          "state": {
            "_dom_classes": [],
            "_model_module": "@jupyter-widgets/controls",
            "_model_module_version": "1.5.0",
            "_model_name": "HTMLModel",
            "_view_count": null,
            "_view_module": "@jupyter-widgets/controls",
            "_view_module_version": "1.5.0",
            "_view_name": "HTMLView",
            "description": "",
            "description_tooltip": null,
            "layout": "IPY_MODEL_5b3cfc7788164b35ac580ea346779b7f",
            "placeholder": "​",
            "style": "IPY_MODEL_e93ff50dd6e34a9f8876bd8831620e5c",
            "value": " 4.21k/4.21k [00:00&lt;00:00, 282kB/s]"
          }
        },
        "ee7dcbdb74dc484b9b30af4ec2ac7241": {
          "model_module": "@jupyter-widgets/base",
          "model_name": "LayoutModel",
          "model_module_version": "1.2.0",
          "state": {
            "_model_module": "@jupyter-widgets/base",
            "_model_module_version": "1.2.0",
            "_model_name": "LayoutModel",
            "_view_count": null,
            "_view_module": "@jupyter-widgets/base",
            "_view_module_version": "1.2.0",
            "_view_name": "LayoutView",
            "align_content": null,
            "align_items": null,
            "align_self": null,
            "border": null,
            "bottom": null,
            "display": null,
            "flex": null,
            "flex_flow": null,
            "grid_area": null,
            "grid_auto_columns": null,
            "grid_auto_flow": null,
            "grid_auto_rows": null,
            "grid_column": null,
            "grid_gap": null,
            "grid_row": null,
            "grid_template_areas": null,
            "grid_template_columns": null,
            "grid_template_rows": null,
            "height": null,
            "justify_content": null,
            "justify_items": null,
            "left": null,
            "margin": null,
            "max_height": null,
            "max_width": null,
            "min_height": null,
            "min_width": null,
            "object_fit": null,
            "object_position": null,
            "order": null,
            "overflow": null,
            "overflow_x": null,
            "overflow_y": null,
            "padding": null,
            "right": null,
            "top": null,
            "visibility": null,
            "width": null
          }
        },
        "fef67b0eccdc46e285f2a58dd2ebb77a": {
          "model_module": "@jupyter-widgets/base",
          "model_name": "LayoutModel",
          "model_module_version": "1.2.0",
          "state": {
            "_model_module": "@jupyter-widgets/base",
            "_model_module_version": "1.2.0",
            "_model_name": "LayoutModel",
            "_view_count": null,
            "_view_module": "@jupyter-widgets/base",
            "_view_module_version": "1.2.0",
            "_view_name": "LayoutView",
            "align_content": null,
            "align_items": null,
            "align_self": null,
            "border": null,
            "bottom": null,
            "display": null,
            "flex": null,
            "flex_flow": null,
            "grid_area": null,
            "grid_auto_columns": null,
            "grid_auto_flow": null,
            "grid_auto_rows": null,
            "grid_column": null,
            "grid_gap": null,
            "grid_row": null,
            "grid_template_areas": null,
            "grid_template_columns": null,
            "grid_template_rows": null,
            "height": null,
            "justify_content": null,
            "justify_items": null,
            "left": null,
            "margin": null,
            "max_height": null,
            "max_width": null,
            "min_height": null,
            "min_width": null,
            "object_fit": null,
            "object_position": null,
            "order": null,
            "overflow": null,
            "overflow_x": null,
            "overflow_y": null,
            "padding": null,
            "right": null,
            "top": null,
            "visibility": null,
            "width": null
          }
        },
        "ee5ef8af2e8c4d97ae8113e77ea9d375": {
          "model_module": "@jupyter-widgets/controls",
          "model_name": "DescriptionStyleModel",
          "model_module_version": "1.5.0",
          "state": {
            "_model_module": "@jupyter-widgets/controls",
            "_model_module_version": "1.5.0",
            "_model_name": "DescriptionStyleModel",
            "_view_count": null,
            "_view_module": "@jupyter-widgets/base",
            "_view_module_version": "1.2.0",
            "_view_name": "StyleView",
            "description_width": ""
          }
        },
        "aeb87932359248b78dda676d7a172f37": {
          "model_module": "@jupyter-widgets/base",
          "model_name": "LayoutModel",
          "model_module_version": "1.2.0",
          "state": {
            "_model_module": "@jupyter-widgets/base",
            "_model_module_version": "1.2.0",
            "_model_name": "LayoutModel",
            "_view_count": null,
            "_view_module": "@jupyter-widgets/base",
            "_view_module_version": "1.2.0",
            "_view_name": "LayoutView",
            "align_content": null,
            "align_items": null,
            "align_self": null,
            "border": null,
            "bottom": null,
            "display": null,
            "flex": null,
            "flex_flow": null,
            "grid_area": null,
            "grid_auto_columns": null,
            "grid_auto_flow": null,
            "grid_auto_rows": null,
            "grid_column": null,
            "grid_gap": null,
            "grid_row": null,
            "grid_template_areas": null,
            "grid_template_columns": null,
            "grid_template_rows": null,
            "height": null,
            "justify_content": null,
            "justify_items": null,
            "left": null,
            "margin": null,
            "max_height": null,
            "max_width": null,
            "min_height": null,
            "min_width": null,
            "object_fit": null,
            "object_position": null,
            "order": null,
            "overflow": null,
            "overflow_x": null,
            "overflow_y": null,
            "padding": null,
            "right": null,
            "top": null,
            "visibility": null,
            "width": null
          }
        },
        "36202d235f304841a5db480354b4faf9": {
          "model_module": "@jupyter-widgets/controls",
          "model_name": "ProgressStyleModel",
          "model_module_version": "1.5.0",
          "state": {
            "_model_module": "@jupyter-widgets/controls",
            "_model_module_version": "1.5.0",
            "_model_name": "ProgressStyleModel",
            "_view_count": null,
            "_view_module": "@jupyter-widgets/base",
            "_view_module_version": "1.2.0",
            "_view_name": "StyleView",
            "bar_color": null,
            "description_width": ""
          }
        },
        "5b3cfc7788164b35ac580ea346779b7f": {
          "model_module": "@jupyter-widgets/base",
          "model_name": "LayoutModel",
          "model_module_version": "1.2.0",
          "state": {
            "_model_module": "@jupyter-widgets/base",
            "_model_module_version": "1.2.0",
            "_model_name": "LayoutModel",
            "_view_count": null,
            "_view_module": "@jupyter-widgets/base",
            "_view_module_version": "1.2.0",
            "_view_name": "LayoutView",
            "align_content": null,
            "align_items": null,
            "align_self": null,
            "border": null,
            "bottom": null,
            "display": null,
            "flex": null,
            "flex_flow": null,
            "grid_area": null,
            "grid_auto_columns": null,
            "grid_auto_flow": null,
            "grid_auto_rows": null,
            "grid_column": null,
            "grid_gap": null,
            "grid_row": null,
            "grid_template_areas": null,
            "grid_template_columns": null,
            "grid_template_rows": null,
            "height": null,
            "justify_content": null,
            "justify_items": null,
            "left": null,
            "margin": null,
            "max_height": null,
            "max_width": null,
            "min_height": null,
            "min_width": null,
            "object_fit": null,
            "object_position": null,
            "order": null,
            "overflow": null,
            "overflow_x": null,
            "overflow_y": null,
            "padding": null,
            "right": null,
            "top": null,
            "visibility": null,
            "width": null
          }
        },
        "e93ff50dd6e34a9f8876bd8831620e5c": {
          "model_module": "@jupyter-widgets/controls",
          "model_name": "DescriptionStyleModel",
          "model_module_version": "1.5.0",
          "state": {
            "_model_module": "@jupyter-widgets/controls",
            "_model_module_version": "1.5.0",
            "_model_name": "DescriptionStyleModel",
            "_view_count": null,
            "_view_module": "@jupyter-widgets/base",
            "_view_module_version": "1.2.0",
            "_view_name": "StyleView",
            "description_width": ""
          }
        },
        "d4df4d8cc86541e39a8a5ae24265257c": {
          "model_module": "@jupyter-widgets/controls",
          "model_name": "HBoxModel",
          "model_module_version": "1.5.0",
          "state": {
            "_dom_classes": [],
            "_model_module": "@jupyter-widgets/controls",
            "_model_module_version": "1.5.0",
            "_model_name": "HBoxModel",
            "_view_count": null,
            "_view_module": "@jupyter-widgets/controls",
            "_view_module_version": "1.5.0",
            "_view_name": "HBoxView",
            "box_style": "",
            "children": [
              "IPY_MODEL_9f4461551551408485bd28dbf6cc5cc5",
              "IPY_MODEL_834f3643cb794e349fb6deb0994f7956",
              "IPY_MODEL_d549a386452748209823f4f33b52ac86"
            ],
            "layout": "IPY_MODEL_d16027e1cb4a4a99b62ba7be10fc0ac1"
          }
        },
        "9f4461551551408485bd28dbf6cc5cc5": {
          "model_module": "@jupyter-widgets/controls",
          "model_name": "HTMLModel",
          "model_module_version": "1.5.0",
          "state": {
            "_dom_classes": [],
            "_model_module": "@jupyter-widgets/controls",
            "_model_module_version": "1.5.0",
            "_model_name": "HTMLModel",
            "_view_count": null,
            "_view_module": "@jupyter-widgets/controls",
            "_view_module_version": "1.5.0",
            "_view_name": "HTMLView",
            "description": "",
            "description_tooltip": null,
            "layout": "IPY_MODEL_3c4b0b27a5b74a03876991b3f00f353f",
            "placeholder": "​",
            "style": "IPY_MODEL_769803770203490594344215da43b5ef",
            "value": "ptb_text_only.py: 100%"
          }
        },
        "834f3643cb794e349fb6deb0994f7956": {
          "model_module": "@jupyter-widgets/controls",
          "model_name": "FloatProgressModel",
          "model_module_version": "1.5.0",
          "state": {
            "_dom_classes": [],
            "_model_module": "@jupyter-widgets/controls",
            "_model_module_version": "1.5.0",
            "_model_name": "FloatProgressModel",
            "_view_count": null,
            "_view_module": "@jupyter-widgets/controls",
            "_view_module_version": "1.5.0",
            "_view_name": "ProgressView",
            "bar_style": "success",
            "description": "",
            "description_tooltip": null,
            "layout": "IPY_MODEL_1cceb263b3ce4fe195176030a9e21200",
            "max": 6501,
            "min": 0,
            "orientation": "horizontal",
            "style": "IPY_MODEL_6527b2173e0d45ee92e534ac260dd319",
            "value": 6501
          }
        },
        "d549a386452748209823f4f33b52ac86": {
          "model_module": "@jupyter-widgets/controls",
          "model_name": "HTMLModel",
          "model_module_version": "1.5.0",
          "state": {
            "_dom_classes": [],
            "_model_module": "@jupyter-widgets/controls",
            "_model_module_version": "1.5.0",
            "_model_name": "HTMLModel",
            "_view_count": null,
            "_view_module": "@jupyter-widgets/controls",
            "_view_module_version": "1.5.0",
            "_view_name": "HTMLView",
            "description": "",
            "description_tooltip": null,
            "layout": "IPY_MODEL_813eed3f79df42dea416e957a2aba9a9",
            "placeholder": "​",
            "style": "IPY_MODEL_87e04ecc17bb4bf79ecaefc1ce8f2c73",
            "value": " 6.50k/6.50k [00:00&lt;00:00, 400kB/s]"
          }
        },
        "d16027e1cb4a4a99b62ba7be10fc0ac1": {
          "model_module": "@jupyter-widgets/base",
          "model_name": "LayoutModel",
          "model_module_version": "1.2.0",
          "state": {
            "_model_module": "@jupyter-widgets/base",
            "_model_module_version": "1.2.0",
            "_model_name": "LayoutModel",
            "_view_count": null,
            "_view_module": "@jupyter-widgets/base",
            "_view_module_version": "1.2.0",
            "_view_name": "LayoutView",
            "align_content": null,
            "align_items": null,
            "align_self": null,
            "border": null,
            "bottom": null,
            "display": null,
            "flex": null,
            "flex_flow": null,
            "grid_area": null,
            "grid_auto_columns": null,
            "grid_auto_flow": null,
            "grid_auto_rows": null,
            "grid_column": null,
            "grid_gap": null,
            "grid_row": null,
            "grid_template_areas": null,
            "grid_template_columns": null,
            "grid_template_rows": null,
            "height": null,
            "justify_content": null,
            "justify_items": null,
            "left": null,
            "margin": null,
            "max_height": null,
            "max_width": null,
            "min_height": null,
            "min_width": null,
            "object_fit": null,
            "object_position": null,
            "order": null,
            "overflow": null,
            "overflow_x": null,
            "overflow_y": null,
            "padding": null,
            "right": null,
            "top": null,
            "visibility": null,
            "width": null
          }
        },
        "3c4b0b27a5b74a03876991b3f00f353f": {
          "model_module": "@jupyter-widgets/base",
          "model_name": "LayoutModel",
          "model_module_version": "1.2.0",
          "state": {
            "_model_module": "@jupyter-widgets/base",
            "_model_module_version": "1.2.0",
            "_model_name": "LayoutModel",
            "_view_count": null,
            "_view_module": "@jupyter-widgets/base",
            "_view_module_version": "1.2.0",
            "_view_name": "LayoutView",
            "align_content": null,
            "align_items": null,
            "align_self": null,
            "border": null,
            "bottom": null,
            "display": null,
            "flex": null,
            "flex_flow": null,
            "grid_area": null,
            "grid_auto_columns": null,
            "grid_auto_flow": null,
            "grid_auto_rows": null,
            "grid_column": null,
            "grid_gap": null,
            "grid_row": null,
            "grid_template_areas": null,
            "grid_template_columns": null,
            "grid_template_rows": null,
            "height": null,
            "justify_content": null,
            "justify_items": null,
            "left": null,
            "margin": null,
            "max_height": null,
            "max_width": null,
            "min_height": null,
            "min_width": null,
            "object_fit": null,
            "object_position": null,
            "order": null,
            "overflow": null,
            "overflow_x": null,
            "overflow_y": null,
            "padding": null,
            "right": null,
            "top": null,
            "visibility": null,
            "width": null
          }
        },
        "769803770203490594344215da43b5ef": {
          "model_module": "@jupyter-widgets/controls",
          "model_name": "DescriptionStyleModel",
          "model_module_version": "1.5.0",
          "state": {
            "_model_module": "@jupyter-widgets/controls",
            "_model_module_version": "1.5.0",
            "_model_name": "DescriptionStyleModel",
            "_view_count": null,
            "_view_module": "@jupyter-widgets/base",
            "_view_module_version": "1.2.0",
            "_view_name": "StyleView",
            "description_width": ""
          }
        },
        "1cceb263b3ce4fe195176030a9e21200": {
          "model_module": "@jupyter-widgets/base",
          "model_name": "LayoutModel",
          "model_module_version": "1.2.0",
          "state": {
            "_model_module": "@jupyter-widgets/base",
            "_model_module_version": "1.2.0",
            "_model_name": "LayoutModel",
            "_view_count": null,
            "_view_module": "@jupyter-widgets/base",
            "_view_module_version": "1.2.0",
            "_view_name": "LayoutView",
            "align_content": null,
            "align_items": null,
            "align_self": null,
            "border": null,
            "bottom": null,
            "display": null,
            "flex": null,
            "flex_flow": null,
            "grid_area": null,
            "grid_auto_columns": null,
            "grid_auto_flow": null,
            "grid_auto_rows": null,
            "grid_column": null,
            "grid_gap": null,
            "grid_row": null,
            "grid_template_areas": null,
            "grid_template_columns": null,
            "grid_template_rows": null,
            "height": null,
            "justify_content": null,
            "justify_items": null,
            "left": null,
            "margin": null,
            "max_height": null,
            "max_width": null,
            "min_height": null,
            "min_width": null,
            "object_fit": null,
            "object_position": null,
            "order": null,
            "overflow": null,
            "overflow_x": null,
            "overflow_y": null,
            "padding": null,
            "right": null,
            "top": null,
            "visibility": null,
            "width": null
          }
        },
        "6527b2173e0d45ee92e534ac260dd319": {
          "model_module": "@jupyter-widgets/controls",
          "model_name": "ProgressStyleModel",
          "model_module_version": "1.5.0",
          "state": {
            "_model_module": "@jupyter-widgets/controls",
            "_model_module_version": "1.5.0",
            "_model_name": "ProgressStyleModel",
            "_view_count": null,
            "_view_module": "@jupyter-widgets/base",
            "_view_module_version": "1.2.0",
            "_view_name": "StyleView",
            "bar_color": null,
            "description_width": ""
          }
        },
        "813eed3f79df42dea416e957a2aba9a9": {
          "model_module": "@jupyter-widgets/base",
          "model_name": "LayoutModel",
          "model_module_version": "1.2.0",
          "state": {
            "_model_module": "@jupyter-widgets/base",
            "_model_module_version": "1.2.0",
            "_model_name": "LayoutModel",
            "_view_count": null,
            "_view_module": "@jupyter-widgets/base",
            "_view_module_version": "1.2.0",
            "_view_name": "LayoutView",
            "align_content": null,
            "align_items": null,
            "align_self": null,
            "border": null,
            "bottom": null,
            "display": null,
            "flex": null,
            "flex_flow": null,
            "grid_area": null,
            "grid_auto_columns": null,
            "grid_auto_flow": null,
            "grid_auto_rows": null,
            "grid_column": null,
            "grid_gap": null,
            "grid_row": null,
            "grid_template_areas": null,
            "grid_template_columns": null,
            "grid_template_rows": null,
            "height": null,
            "justify_content": null,
            "justify_items": null,
            "left": null,
            "margin": null,
            "max_height": null,
            "max_width": null,
            "min_height": null,
            "min_width": null,
            "object_fit": null,
            "object_position": null,
            "order": null,
            "overflow": null,
            "overflow_x": null,
            "overflow_y": null,
            "padding": null,
            "right": null,
            "top": null,
            "visibility": null,
            "width": null
          }
        },
        "87e04ecc17bb4bf79ecaefc1ce8f2c73": {
          "model_module": "@jupyter-widgets/controls",
          "model_name": "DescriptionStyleModel",
          "model_module_version": "1.5.0",
          "state": {
            "_model_module": "@jupyter-widgets/controls",
            "_model_module_version": "1.5.0",
            "_model_name": "DescriptionStyleModel",
            "_view_count": null,
            "_view_module": "@jupyter-widgets/base",
            "_view_module_version": "1.2.0",
            "_view_name": "StyleView",
            "description_width": ""
          }
        },
        "956d7dc152b94913aacc4a22000a3ee6": {
          "model_module": "@jupyter-widgets/controls",
          "model_name": "HBoxModel",
          "model_module_version": "1.5.0",
          "state": {
            "_dom_classes": [],
            "_model_module": "@jupyter-widgets/controls",
            "_model_module_version": "1.5.0",
            "_model_name": "HBoxModel",
            "_view_count": null,
            "_view_module": "@jupyter-widgets/controls",
            "_view_module_version": "1.5.0",
            "_view_name": "HBoxView",
            "box_style": "",
            "children": [
              "IPY_MODEL_fbae38dce7be4e7db26c531eedafb895",
              "IPY_MODEL_fa4a7c44e8eb4784b2e17cce4e242d4b",
              "IPY_MODEL_e95399ae0a254adcb600001531a1a927"
            ],
            "layout": "IPY_MODEL_67d02baa606d4d5d9b61a18f469a43ad"
          }
        },
        "fbae38dce7be4e7db26c531eedafb895": {
          "model_module": "@jupyter-widgets/controls",
          "model_name": "HTMLModel",
          "model_module_version": "1.5.0",
          "state": {
            "_dom_classes": [],
            "_model_module": "@jupyter-widgets/controls",
            "_model_module_version": "1.5.0",
            "_model_name": "HTMLModel",
            "_view_count": null,
            "_view_module": "@jupyter-widgets/controls",
            "_view_module_version": "1.5.0",
            "_view_name": "HTMLView",
            "description": "",
            "description_tooltip": null,
            "layout": "IPY_MODEL_36ca8683775d4b318d600364997214d3",
            "placeholder": "​",
            "style": "IPY_MODEL_72096e72a1c34e5ca0ce5d1931a1a9dd",
            "value": "Downloading data: 100%"
          }
        },
        "fa4a7c44e8eb4784b2e17cce4e242d4b": {
          "model_module": "@jupyter-widgets/controls",
          "model_name": "FloatProgressModel",
          "model_module_version": "1.5.0",
          "state": {
            "_dom_classes": [],
            "_model_module": "@jupyter-widgets/controls",
            "_model_module_version": "1.5.0",
            "_model_name": "FloatProgressModel",
            "_view_count": null,
            "_view_module": "@jupyter-widgets/controls",
            "_view_module_version": "1.5.0",
            "_view_name": "ProgressView",
            "bar_style": "success",
            "description": "",
            "description_tooltip": null,
            "layout": "IPY_MODEL_3a71b5e8890348a8aafff18ee0d7883f",
            "max": 5101618,
            "min": 0,
            "orientation": "horizontal",
            "style": "IPY_MODEL_67227fced6e14e668611bc2a43767e38",
            "value": 5101618
          }
        },
        "e95399ae0a254adcb600001531a1a927": {
          "model_module": "@jupyter-widgets/controls",
          "model_name": "HTMLModel",
          "model_module_version": "1.5.0",
          "state": {
            "_dom_classes": [],
            "_model_module": "@jupyter-widgets/controls",
            "_model_module_version": "1.5.0",
            "_model_name": "HTMLModel",
            "_view_count": null,
            "_view_module": "@jupyter-widgets/controls",
            "_view_module_version": "1.5.0",
            "_view_name": "HTMLView",
            "description": "",
            "description_tooltip": null,
            "layout": "IPY_MODEL_f1ce99a3a0494170bcfa239412d285f3",
            "placeholder": "​",
            "style": "IPY_MODEL_eae89ca655e2486caf5589c9ca69f898",
            "value": " 5.10M/5.10M [00:00&lt;00:00, 19.4MB/s]"
          }
        },
        "67d02baa606d4d5d9b61a18f469a43ad": {
          "model_module": "@jupyter-widgets/base",
          "model_name": "LayoutModel",
          "model_module_version": "1.2.0",
          "state": {
            "_model_module": "@jupyter-widgets/base",
            "_model_module_version": "1.2.0",
            "_model_name": "LayoutModel",
            "_view_count": null,
            "_view_module": "@jupyter-widgets/base",
            "_view_module_version": "1.2.0",
            "_view_name": "LayoutView",
            "align_content": null,
            "align_items": null,
            "align_self": null,
            "border": null,
            "bottom": null,
            "display": null,
            "flex": null,
            "flex_flow": null,
            "grid_area": null,
            "grid_auto_columns": null,
            "grid_auto_flow": null,
            "grid_auto_rows": null,
            "grid_column": null,
            "grid_gap": null,
            "grid_row": null,
            "grid_template_areas": null,
            "grid_template_columns": null,
            "grid_template_rows": null,
            "height": null,
            "justify_content": null,
            "justify_items": null,
            "left": null,
            "margin": null,
            "max_height": null,
            "max_width": null,
            "min_height": null,
            "min_width": null,
            "object_fit": null,
            "object_position": null,
            "order": null,
            "overflow": null,
            "overflow_x": null,
            "overflow_y": null,
            "padding": null,
            "right": null,
            "top": null,
            "visibility": null,
            "width": null
          }
        },
        "36ca8683775d4b318d600364997214d3": {
          "model_module": "@jupyter-widgets/base",
          "model_name": "LayoutModel",
          "model_module_version": "1.2.0",
          "state": {
            "_model_module": "@jupyter-widgets/base",
            "_model_module_version": "1.2.0",
            "_model_name": "LayoutModel",
            "_view_count": null,
            "_view_module": "@jupyter-widgets/base",
            "_view_module_version": "1.2.0",
            "_view_name": "LayoutView",
            "align_content": null,
            "align_items": null,
            "align_self": null,
            "border": null,
            "bottom": null,
            "display": null,
            "flex": null,
            "flex_flow": null,
            "grid_area": null,
            "grid_auto_columns": null,
            "grid_auto_flow": null,
            "grid_auto_rows": null,
            "grid_column": null,
            "grid_gap": null,
            "grid_row": null,
            "grid_template_areas": null,
            "grid_template_columns": null,
            "grid_template_rows": null,
            "height": null,
            "justify_content": null,
            "justify_items": null,
            "left": null,
            "margin": null,
            "max_height": null,
            "max_width": null,
            "min_height": null,
            "min_width": null,
            "object_fit": null,
            "object_position": null,
            "order": null,
            "overflow": null,
            "overflow_x": null,
            "overflow_y": null,
            "padding": null,
            "right": null,
            "top": null,
            "visibility": null,
            "width": null
          }
        },
        "72096e72a1c34e5ca0ce5d1931a1a9dd": {
          "model_module": "@jupyter-widgets/controls",
          "model_name": "DescriptionStyleModel",
          "model_module_version": "1.5.0",
          "state": {
            "_model_module": "@jupyter-widgets/controls",
            "_model_module_version": "1.5.0",
            "_model_name": "DescriptionStyleModel",
            "_view_count": null,
            "_view_module": "@jupyter-widgets/base",
            "_view_module_version": "1.2.0",
            "_view_name": "StyleView",
            "description_width": ""
          }
        },
        "3a71b5e8890348a8aafff18ee0d7883f": {
          "model_module": "@jupyter-widgets/base",
          "model_name": "LayoutModel",
          "model_module_version": "1.2.0",
          "state": {
            "_model_module": "@jupyter-widgets/base",
            "_model_module_version": "1.2.0",
            "_model_name": "LayoutModel",
            "_view_count": null,
            "_view_module": "@jupyter-widgets/base",
            "_view_module_version": "1.2.0",
            "_view_name": "LayoutView",
            "align_content": null,
            "align_items": null,
            "align_self": null,
            "border": null,
            "bottom": null,
            "display": null,
            "flex": null,
            "flex_flow": null,
            "grid_area": null,
            "grid_auto_columns": null,
            "grid_auto_flow": null,
            "grid_auto_rows": null,
            "grid_column": null,
            "grid_gap": null,
            "grid_row": null,
            "grid_template_areas": null,
            "grid_template_columns": null,
            "grid_template_rows": null,
            "height": null,
            "justify_content": null,
            "justify_items": null,
            "left": null,
            "margin": null,
            "max_height": null,
            "max_width": null,
            "min_height": null,
            "min_width": null,
            "object_fit": null,
            "object_position": null,
            "order": null,
            "overflow": null,
            "overflow_x": null,
            "overflow_y": null,
            "padding": null,
            "right": null,
            "top": null,
            "visibility": null,
            "width": null
          }
        },
        "67227fced6e14e668611bc2a43767e38": {
          "model_module": "@jupyter-widgets/controls",
          "model_name": "ProgressStyleModel",
          "model_module_version": "1.5.0",
          "state": {
            "_model_module": "@jupyter-widgets/controls",
            "_model_module_version": "1.5.0",
            "_model_name": "ProgressStyleModel",
            "_view_count": null,
            "_view_module": "@jupyter-widgets/base",
            "_view_module_version": "1.2.0",
            "_view_name": "StyleView",
            "bar_color": null,
            "description_width": ""
          }
        },
        "f1ce99a3a0494170bcfa239412d285f3": {
          "model_module": "@jupyter-widgets/base",
          "model_name": "LayoutModel",
          "model_module_version": "1.2.0",
          "state": {
            "_model_module": "@jupyter-widgets/base",
            "_model_module_version": "1.2.0",
            "_model_name": "LayoutModel",
            "_view_count": null,
            "_view_module": "@jupyter-widgets/base",
            "_view_module_version": "1.2.0",
            "_view_name": "LayoutView",
            "align_content": null,
            "align_items": null,
            "align_self": null,
            "border": null,
            "bottom": null,
            "display": null,
            "flex": null,
            "flex_flow": null,
            "grid_area": null,
            "grid_auto_columns": null,
            "grid_auto_flow": null,
            "grid_auto_rows": null,
            "grid_column": null,
            "grid_gap": null,
            "grid_row": null,
            "grid_template_areas": null,
            "grid_template_columns": null,
            "grid_template_rows": null,
            "height": null,
            "justify_content": null,
            "justify_items": null,
            "left": null,
            "margin": null,
            "max_height": null,
            "max_width": null,
            "min_height": null,
            "min_width": null,
            "object_fit": null,
            "object_position": null,
            "order": null,
            "overflow": null,
            "overflow_x": null,
            "overflow_y": null,
            "padding": null,
            "right": null,
            "top": null,
            "visibility": null,
            "width": null
          }
        },
        "eae89ca655e2486caf5589c9ca69f898": {
          "model_module": "@jupyter-widgets/controls",
          "model_name": "DescriptionStyleModel",
          "model_module_version": "1.5.0",
          "state": {
            "_model_module": "@jupyter-widgets/controls",
            "_model_module_version": "1.5.0",
            "_model_name": "DescriptionStyleModel",
            "_view_count": null,
            "_view_module": "@jupyter-widgets/base",
            "_view_module_version": "1.2.0",
            "_view_name": "StyleView",
            "description_width": ""
          }
        },
        "b49b82d09eea4969b53fbb844c23e6f6": {
          "model_module": "@jupyter-widgets/controls",
          "model_name": "HBoxModel",
          "model_module_version": "1.5.0",
          "state": {
            "_dom_classes": [],
            "_model_module": "@jupyter-widgets/controls",
            "_model_module_version": "1.5.0",
            "_model_name": "HBoxModel",
            "_view_count": null,
            "_view_module": "@jupyter-widgets/controls",
            "_view_module_version": "1.5.0",
            "_view_name": "HBoxView",
            "box_style": "",
            "children": [
              "IPY_MODEL_2c4d1ad64af247a0b3c9aa503835f81a",
              "IPY_MODEL_6581a56abc6b43ec9495c41e72509903",
              "IPY_MODEL_cc1e14c75a0b4b60a8af6c257c8800c6"
            ],
            "layout": "IPY_MODEL_10a207abf7a94737b7516755ec469707"
          }
        },
        "2c4d1ad64af247a0b3c9aa503835f81a": {
          "model_module": "@jupyter-widgets/controls",
          "model_name": "HTMLModel",
          "model_module_version": "1.5.0",
          "state": {
            "_dom_classes": [],
            "_model_module": "@jupyter-widgets/controls",
            "_model_module_version": "1.5.0",
            "_model_name": "HTMLModel",
            "_view_count": null,
            "_view_module": "@jupyter-widgets/controls",
            "_view_module_version": "1.5.0",
            "_view_name": "HTMLView",
            "description": "",
            "description_tooltip": null,
            "layout": "IPY_MODEL_41e97895da2447168ee50669d5356945",
            "placeholder": "​",
            "style": "IPY_MODEL_eac571c203e84721babe5a3ea5654c3b",
            "value": "Downloading data: 100%"
          }
        },
        "6581a56abc6b43ec9495c41e72509903": {
          "model_module": "@jupyter-widgets/controls",
          "model_name": "FloatProgressModel",
          "model_module_version": "1.5.0",
          "state": {
            "_dom_classes": [],
            "_model_module": "@jupyter-widgets/controls",
            "_model_module_version": "1.5.0",
            "_model_name": "FloatProgressModel",
            "_view_count": null,
            "_view_module": "@jupyter-widgets/controls",
            "_view_module_version": "1.5.0",
            "_view_name": "ProgressView",
            "bar_style": "success",
            "description": "",
            "description_tooltip": null,
            "layout": "IPY_MODEL_13435edf37fa407fb458e0377f3dd4f4",
            "max": 399782,
            "min": 0,
            "orientation": "horizontal",
            "style": "IPY_MODEL_05bea92e4932488ab94722c63cc570f0",
            "value": 399782
          }
        },
        "cc1e14c75a0b4b60a8af6c257c8800c6": {
          "model_module": "@jupyter-widgets/controls",
          "model_name": "HTMLModel",
          "model_module_version": "1.5.0",
          "state": {
            "_dom_classes": [],
            "_model_module": "@jupyter-widgets/controls",
            "_model_module_version": "1.5.0",
            "_model_name": "HTMLModel",
            "_view_count": null,
            "_view_module": "@jupyter-widgets/controls",
            "_view_module_version": "1.5.0",
            "_view_name": "HTMLView",
            "description": "",
            "description_tooltip": null,
            "layout": "IPY_MODEL_a1dab59793924639ad7aff30a3d4e977",
            "placeholder": "​",
            "style": "IPY_MODEL_98ac8d7973da4e0abd70446bb0f8eb74",
            "value": " 400k/400k [00:00&lt;00:00, 29.1MB/s]"
          }
        },
        "10a207abf7a94737b7516755ec469707": {
          "model_module": "@jupyter-widgets/base",
          "model_name": "LayoutModel",
          "model_module_version": "1.2.0",
          "state": {
            "_model_module": "@jupyter-widgets/base",
            "_model_module_version": "1.2.0",
            "_model_name": "LayoutModel",
            "_view_count": null,
            "_view_module": "@jupyter-widgets/base",
            "_view_module_version": "1.2.0",
            "_view_name": "LayoutView",
            "align_content": null,
            "align_items": null,
            "align_self": null,
            "border": null,
            "bottom": null,
            "display": null,
            "flex": null,
            "flex_flow": null,
            "grid_area": null,
            "grid_auto_columns": null,
            "grid_auto_flow": null,
            "grid_auto_rows": null,
            "grid_column": null,
            "grid_gap": null,
            "grid_row": null,
            "grid_template_areas": null,
            "grid_template_columns": null,
            "grid_template_rows": null,
            "height": null,
            "justify_content": null,
            "justify_items": null,
            "left": null,
            "margin": null,
            "max_height": null,
            "max_width": null,
            "min_height": null,
            "min_width": null,
            "object_fit": null,
            "object_position": null,
            "order": null,
            "overflow": null,
            "overflow_x": null,
            "overflow_y": null,
            "padding": null,
            "right": null,
            "top": null,
            "visibility": null,
            "width": null
          }
        },
        "41e97895da2447168ee50669d5356945": {
          "model_module": "@jupyter-widgets/base",
          "model_name": "LayoutModel",
          "model_module_version": "1.2.0",
          "state": {
            "_model_module": "@jupyter-widgets/base",
            "_model_module_version": "1.2.0",
            "_model_name": "LayoutModel",
            "_view_count": null,
            "_view_module": "@jupyter-widgets/base",
            "_view_module_version": "1.2.0",
            "_view_name": "LayoutView",
            "align_content": null,
            "align_items": null,
            "align_self": null,
            "border": null,
            "bottom": null,
            "display": null,
            "flex": null,
            "flex_flow": null,
            "grid_area": null,
            "grid_auto_columns": null,
            "grid_auto_flow": null,
            "grid_auto_rows": null,
            "grid_column": null,
            "grid_gap": null,
            "grid_row": null,
            "grid_template_areas": null,
            "grid_template_columns": null,
            "grid_template_rows": null,
            "height": null,
            "justify_content": null,
            "justify_items": null,
            "left": null,
            "margin": null,
            "max_height": null,
            "max_width": null,
            "min_height": null,
            "min_width": null,
            "object_fit": null,
            "object_position": null,
            "order": null,
            "overflow": null,
            "overflow_x": null,
            "overflow_y": null,
            "padding": null,
            "right": null,
            "top": null,
            "visibility": null,
            "width": null
          }
        },
        "eac571c203e84721babe5a3ea5654c3b": {
          "model_module": "@jupyter-widgets/controls",
          "model_name": "DescriptionStyleModel",
          "model_module_version": "1.5.0",
          "state": {
            "_model_module": "@jupyter-widgets/controls",
            "_model_module_version": "1.5.0",
            "_model_name": "DescriptionStyleModel",
            "_view_count": null,
            "_view_module": "@jupyter-widgets/base",
            "_view_module_version": "1.2.0",
            "_view_name": "StyleView",
            "description_width": ""
          }
        },
        "13435edf37fa407fb458e0377f3dd4f4": {
          "model_module": "@jupyter-widgets/base",
          "model_name": "LayoutModel",
          "model_module_version": "1.2.0",
          "state": {
            "_model_module": "@jupyter-widgets/base",
            "_model_module_version": "1.2.0",
            "_model_name": "LayoutModel",
            "_view_count": null,
            "_view_module": "@jupyter-widgets/base",
            "_view_module_version": "1.2.0",
            "_view_name": "LayoutView",
            "align_content": null,
            "align_items": null,
            "align_self": null,
            "border": null,
            "bottom": null,
            "display": null,
            "flex": null,
            "flex_flow": null,
            "grid_area": null,
            "grid_auto_columns": null,
            "grid_auto_flow": null,
            "grid_auto_rows": null,
            "grid_column": null,
            "grid_gap": null,
            "grid_row": null,
            "grid_template_areas": null,
            "grid_template_columns": null,
            "grid_template_rows": null,
            "height": null,
            "justify_content": null,
            "justify_items": null,
            "left": null,
            "margin": null,
            "max_height": null,
            "max_width": null,
            "min_height": null,
            "min_width": null,
            "object_fit": null,
            "object_position": null,
            "order": null,
            "overflow": null,
            "overflow_x": null,
            "overflow_y": null,
            "padding": null,
            "right": null,
            "top": null,
            "visibility": null,
            "width": null
          }
        },
        "05bea92e4932488ab94722c63cc570f0": {
          "model_module": "@jupyter-widgets/controls",
          "model_name": "ProgressStyleModel",
          "model_module_version": "1.5.0",
          "state": {
            "_model_module": "@jupyter-widgets/controls",
            "_model_module_version": "1.5.0",
            "_model_name": "ProgressStyleModel",
            "_view_count": null,
            "_view_module": "@jupyter-widgets/base",
            "_view_module_version": "1.2.0",
            "_view_name": "StyleView",
            "bar_color": null,
            "description_width": ""
          }
        },
        "a1dab59793924639ad7aff30a3d4e977": {
          "model_module": "@jupyter-widgets/base",
          "model_name": "LayoutModel",
          "model_module_version": "1.2.0",
          "state": {
            "_model_module": "@jupyter-widgets/base",
            "_model_module_version": "1.2.0",
            "_model_name": "LayoutModel",
            "_view_count": null,
            "_view_module": "@jupyter-widgets/base",
            "_view_module_version": "1.2.0",
            "_view_name": "LayoutView",
            "align_content": null,
            "align_items": null,
            "align_self": null,
            "border": null,
            "bottom": null,
            "display": null,
            "flex": null,
            "flex_flow": null,
            "grid_area": null,
            "grid_auto_columns": null,
            "grid_auto_flow": null,
            "grid_auto_rows": null,
            "grid_column": null,
            "grid_gap": null,
            "grid_row": null,
            "grid_template_areas": null,
            "grid_template_columns": null,
            "grid_template_rows": null,
            "height": null,
            "justify_content": null,
            "justify_items": null,
            "left": null,
            "margin": null,
            "max_height": null,
            "max_width": null,
            "min_height": null,
            "min_width": null,
            "object_fit": null,
            "object_position": null,
            "order": null,
            "overflow": null,
            "overflow_x": null,
            "overflow_y": null,
            "padding": null,
            "right": null,
            "top": null,
            "visibility": null,
            "width": null
          }
        },
        "98ac8d7973da4e0abd70446bb0f8eb74": {
          "model_module": "@jupyter-widgets/controls",
          "model_name": "DescriptionStyleModel",
          "model_module_version": "1.5.0",
          "state": {
            "_model_module": "@jupyter-widgets/controls",
            "_model_module_version": "1.5.0",
            "_model_name": "DescriptionStyleModel",
            "_view_count": null,
            "_view_module": "@jupyter-widgets/base",
            "_view_module_version": "1.2.0",
            "_view_name": "StyleView",
            "description_width": ""
          }
        },
        "d104ae1fbd5b482a8836d5ab47c5228e": {
          "model_module": "@jupyter-widgets/controls",
          "model_name": "HBoxModel",
          "model_module_version": "1.5.0",
          "state": {
            "_dom_classes": [],
            "_model_module": "@jupyter-widgets/controls",
            "_model_module_version": "1.5.0",
            "_model_name": "HBoxModel",
            "_view_count": null,
            "_view_module": "@jupyter-widgets/controls",
            "_view_module_version": "1.5.0",
            "_view_name": "HBoxView",
            "box_style": "",
            "children": [
              "IPY_MODEL_cbc48c9f09b34226962a21661fde79a0",
              "IPY_MODEL_6d393a1c3cfa41e69a72b8255a350176",
              "IPY_MODEL_efaefafcea054867a764403c3f769edb"
            ],
            "layout": "IPY_MODEL_39e87fbb09af44169ed6a731b1c43c89"
          }
        },
        "cbc48c9f09b34226962a21661fde79a0": {
          "model_module": "@jupyter-widgets/controls",
          "model_name": "HTMLModel",
          "model_module_version": "1.5.0",
          "state": {
            "_dom_classes": [],
            "_model_module": "@jupyter-widgets/controls",
            "_model_module_version": "1.5.0",
            "_model_name": "HTMLModel",
            "_view_count": null,
            "_view_module": "@jupyter-widgets/controls",
            "_view_module_version": "1.5.0",
            "_view_name": "HTMLView",
            "description": "",
            "description_tooltip": null,
            "layout": "IPY_MODEL_b17efe0d1e3944858c92dd7f94ef391c",
            "placeholder": "​",
            "style": "IPY_MODEL_6644b3a8b1bd48b39f5fb8969cc60678",
            "value": "Downloading data: 100%"
          }
        },
        "6d393a1c3cfa41e69a72b8255a350176": {
          "model_module": "@jupyter-widgets/controls",
          "model_name": "FloatProgressModel",
          "model_module_version": "1.5.0",
          "state": {
            "_dom_classes": [],
            "_model_module": "@jupyter-widgets/controls",
            "_model_module_version": "1.5.0",
            "_model_name": "FloatProgressModel",
            "_view_count": null,
            "_view_module": "@jupyter-widgets/controls",
            "_view_module_version": "1.5.0",
            "_view_name": "ProgressView",
            "bar_style": "success",
            "description": "",
            "description_tooltip": null,
            "layout": "IPY_MODEL_4be11f791b9a404db6ef3c48b48fbb14",
            "max": 449945,
            "min": 0,
            "orientation": "horizontal",
            "style": "IPY_MODEL_fa223d0ead12400c8818717b214a4652",
            "value": 449945
          }
        },
        "efaefafcea054867a764403c3f769edb": {
          "model_module": "@jupyter-widgets/controls",
          "model_name": "HTMLModel",
          "model_module_version": "1.5.0",
          "state": {
            "_dom_classes": [],
            "_model_module": "@jupyter-widgets/controls",
            "_model_module_version": "1.5.0",
            "_model_name": "HTMLModel",
            "_view_count": null,
            "_view_module": "@jupyter-widgets/controls",
            "_view_module_version": "1.5.0",
            "_view_name": "HTMLView",
            "description": "",
            "description_tooltip": null,
            "layout": "IPY_MODEL_79d8a855c8a744d79e389c7b673f4c67",
            "placeholder": "​",
            "style": "IPY_MODEL_6bae99dfa75348399041536b37ccc251",
            "value": " 450k/450k [00:00&lt;00:00, 22.9MB/s]"
          }
        },
        "39e87fbb09af44169ed6a731b1c43c89": {
          "model_module": "@jupyter-widgets/base",
          "model_name": "LayoutModel",
          "model_module_version": "1.2.0",
          "state": {
            "_model_module": "@jupyter-widgets/base",
            "_model_module_version": "1.2.0",
            "_model_name": "LayoutModel",
            "_view_count": null,
            "_view_module": "@jupyter-widgets/base",
            "_view_module_version": "1.2.0",
            "_view_name": "LayoutView",
            "align_content": null,
            "align_items": null,
            "align_self": null,
            "border": null,
            "bottom": null,
            "display": null,
            "flex": null,
            "flex_flow": null,
            "grid_area": null,
            "grid_auto_columns": null,
            "grid_auto_flow": null,
            "grid_auto_rows": null,
            "grid_column": null,
            "grid_gap": null,
            "grid_row": null,
            "grid_template_areas": null,
            "grid_template_columns": null,
            "grid_template_rows": null,
            "height": null,
            "justify_content": null,
            "justify_items": null,
            "left": null,
            "margin": null,
            "max_height": null,
            "max_width": null,
            "min_height": null,
            "min_width": null,
            "object_fit": null,
            "object_position": null,
            "order": null,
            "overflow": null,
            "overflow_x": null,
            "overflow_y": null,
            "padding": null,
            "right": null,
            "top": null,
            "visibility": null,
            "width": null
          }
        },
        "b17efe0d1e3944858c92dd7f94ef391c": {
          "model_module": "@jupyter-widgets/base",
          "model_name": "LayoutModel",
          "model_module_version": "1.2.0",
          "state": {
            "_model_module": "@jupyter-widgets/base",
            "_model_module_version": "1.2.0",
            "_model_name": "LayoutModel",
            "_view_count": null,
            "_view_module": "@jupyter-widgets/base",
            "_view_module_version": "1.2.0",
            "_view_name": "LayoutView",
            "align_content": null,
            "align_items": null,
            "align_self": null,
            "border": null,
            "bottom": null,
            "display": null,
            "flex": null,
            "flex_flow": null,
            "grid_area": null,
            "grid_auto_columns": null,
            "grid_auto_flow": null,
            "grid_auto_rows": null,
            "grid_column": null,
            "grid_gap": null,
            "grid_row": null,
            "grid_template_areas": null,
            "grid_template_columns": null,
            "grid_template_rows": null,
            "height": null,
            "justify_content": null,
            "justify_items": null,
            "left": null,
            "margin": null,
            "max_height": null,
            "max_width": null,
            "min_height": null,
            "min_width": null,
            "object_fit": null,
            "object_position": null,
            "order": null,
            "overflow": null,
            "overflow_x": null,
            "overflow_y": null,
            "padding": null,
            "right": null,
            "top": null,
            "visibility": null,
            "width": null
          }
        },
        "6644b3a8b1bd48b39f5fb8969cc60678": {
          "model_module": "@jupyter-widgets/controls",
          "model_name": "DescriptionStyleModel",
          "model_module_version": "1.5.0",
          "state": {
            "_model_module": "@jupyter-widgets/controls",
            "_model_module_version": "1.5.0",
            "_model_name": "DescriptionStyleModel",
            "_view_count": null,
            "_view_module": "@jupyter-widgets/base",
            "_view_module_version": "1.2.0",
            "_view_name": "StyleView",
            "description_width": ""
          }
        },
        "4be11f791b9a404db6ef3c48b48fbb14": {
          "model_module": "@jupyter-widgets/base",
          "model_name": "LayoutModel",
          "model_module_version": "1.2.0",
          "state": {
            "_model_module": "@jupyter-widgets/base",
            "_model_module_version": "1.2.0",
            "_model_name": "LayoutModel",
            "_view_count": null,
            "_view_module": "@jupyter-widgets/base",
            "_view_module_version": "1.2.0",
            "_view_name": "LayoutView",
            "align_content": null,
            "align_items": null,
            "align_self": null,
            "border": null,
            "bottom": null,
            "display": null,
            "flex": null,
            "flex_flow": null,
            "grid_area": null,
            "grid_auto_columns": null,
            "grid_auto_flow": null,
            "grid_auto_rows": null,
            "grid_column": null,
            "grid_gap": null,
            "grid_row": null,
            "grid_template_areas": null,
            "grid_template_columns": null,
            "grid_template_rows": null,
            "height": null,
            "justify_content": null,
            "justify_items": null,
            "left": null,
            "margin": null,
            "max_height": null,
            "max_width": null,
            "min_height": null,
            "min_width": null,
            "object_fit": null,
            "object_position": null,
            "order": null,
            "overflow": null,
            "overflow_x": null,
            "overflow_y": null,
            "padding": null,
            "right": null,
            "top": null,
            "visibility": null,
            "width": null
          }
        },
        "fa223d0ead12400c8818717b214a4652": {
          "model_module": "@jupyter-widgets/controls",
          "model_name": "ProgressStyleModel",
          "model_module_version": "1.5.0",
          "state": {
            "_model_module": "@jupyter-widgets/controls",
            "_model_module_version": "1.5.0",
            "_model_name": "ProgressStyleModel",
            "_view_count": null,
            "_view_module": "@jupyter-widgets/base",
            "_view_module_version": "1.2.0",
            "_view_name": "StyleView",
            "bar_color": null,
            "description_width": ""
          }
        },
        "79d8a855c8a744d79e389c7b673f4c67": {
          "model_module": "@jupyter-widgets/base",
          "model_name": "LayoutModel",
          "model_module_version": "1.2.0",
          "state": {
            "_model_module": "@jupyter-widgets/base",
            "_model_module_version": "1.2.0",
            "_model_name": "LayoutModel",
            "_view_count": null,
            "_view_module": "@jupyter-widgets/base",
            "_view_module_version": "1.2.0",
            "_view_name": "LayoutView",
            "align_content": null,
            "align_items": null,
            "align_self": null,
            "border": null,
            "bottom": null,
            "display": null,
            "flex": null,
            "flex_flow": null,
            "grid_area": null,
            "grid_auto_columns": null,
            "grid_auto_flow": null,
            "grid_auto_rows": null,
            "grid_column": null,
            "grid_gap": null,
            "grid_row": null,
            "grid_template_areas": null,
            "grid_template_columns": null,
            "grid_template_rows": null,
            "height": null,
            "justify_content": null,
            "justify_items": null,
            "left": null,
            "margin": null,
            "max_height": null,
            "max_width": null,
            "min_height": null,
            "min_width": null,
            "object_fit": null,
            "object_position": null,
            "order": null,
            "overflow": null,
            "overflow_x": null,
            "overflow_y": null,
            "padding": null,
            "right": null,
            "top": null,
            "visibility": null,
            "width": null
          }
        },
        "6bae99dfa75348399041536b37ccc251": {
          "model_module": "@jupyter-widgets/controls",
          "model_name": "DescriptionStyleModel",
          "model_module_version": "1.5.0",
          "state": {
            "_model_module": "@jupyter-widgets/controls",
            "_model_module_version": "1.5.0",
            "_model_name": "DescriptionStyleModel",
            "_view_count": null,
            "_view_module": "@jupyter-widgets/base",
            "_view_module_version": "1.2.0",
            "_view_name": "StyleView",
            "description_width": ""
          }
        },
        "4710b87da9004a0ca3cb1b3fb0ffb20a": {
          "model_module": "@jupyter-widgets/controls",
          "model_name": "HBoxModel",
          "model_module_version": "1.5.0",
          "state": {
            "_dom_classes": [],
            "_model_module": "@jupyter-widgets/controls",
            "_model_module_version": "1.5.0",
            "_model_name": "HBoxModel",
            "_view_count": null,
            "_view_module": "@jupyter-widgets/controls",
            "_view_module_version": "1.5.0",
            "_view_name": "HBoxView",
            "box_style": "",
            "children": [
              "IPY_MODEL_0897cac30d3346c9a7ff30fcd598c811",
              "IPY_MODEL_cd64c6a2b6ca49b79098d7dfbe8c7204",
              "IPY_MODEL_21fbe6b4385b447caa0295f1e19c92c9"
            ],
            "layout": "IPY_MODEL_ef7915e41be148f0b2d7bfe32ed378fc"
          }
        },
        "0897cac30d3346c9a7ff30fcd598c811": {
          "model_module": "@jupyter-widgets/controls",
          "model_name": "HTMLModel",
          "model_module_version": "1.5.0",
          "state": {
            "_dom_classes": [],
            "_model_module": "@jupyter-widgets/controls",
            "_model_module_version": "1.5.0",
            "_model_name": "HTMLModel",
            "_view_count": null,
            "_view_module": "@jupyter-widgets/controls",
            "_view_module_version": "1.5.0",
            "_view_name": "HTMLView",
            "description": "",
            "description_tooltip": null,
            "layout": "IPY_MODEL_af945fbb35b248d9b5187a021349578c",
            "placeholder": "​",
            "style": "IPY_MODEL_65bc19a4da244fc4bdd8a0f76321724f",
            "value": "Generating train split: 100%"
          }
        },
        "cd64c6a2b6ca49b79098d7dfbe8c7204": {
          "model_module": "@jupyter-widgets/controls",
          "model_name": "FloatProgressModel",
          "model_module_version": "1.5.0",
          "state": {
            "_dom_classes": [],
            "_model_module": "@jupyter-widgets/controls",
            "_model_module_version": "1.5.0",
            "_model_name": "FloatProgressModel",
            "_view_count": null,
            "_view_module": "@jupyter-widgets/controls",
            "_view_module_version": "1.5.0",
            "_view_name": "ProgressView",
            "bar_style": "success",
            "description": "",
            "description_tooltip": null,
            "layout": "IPY_MODEL_fc9dbfa3e1bc4d82bbab3338904c9f31",
            "max": 42068,
            "min": 0,
            "orientation": "horizontal",
            "style": "IPY_MODEL_da3fedefabbe4d2cb9733ab3e571836c",
            "value": 42068
          }
        },
        "21fbe6b4385b447caa0295f1e19c92c9": {
          "model_module": "@jupyter-widgets/controls",
          "model_name": "HTMLModel",
          "model_module_version": "1.5.0",
          "state": {
            "_dom_classes": [],
            "_model_module": "@jupyter-widgets/controls",
            "_model_module_version": "1.5.0",
            "_model_name": "HTMLModel",
            "_view_count": null,
            "_view_module": "@jupyter-widgets/controls",
            "_view_module_version": "1.5.0",
            "_view_name": "HTMLView",
            "description": "",
            "description_tooltip": null,
            "layout": "IPY_MODEL_b217b60911214da6bb4317f2b191585b",
            "placeholder": "​",
            "style": "IPY_MODEL_9590a7064a784b5299f174b28edaafa1",
            "value": " 42068/42068 [00:00&lt;00:00, 79901.02 examples/s]"
          }
        },
        "ef7915e41be148f0b2d7bfe32ed378fc": {
          "model_module": "@jupyter-widgets/base",
          "model_name": "LayoutModel",
          "model_module_version": "1.2.0",
          "state": {
            "_model_module": "@jupyter-widgets/base",
            "_model_module_version": "1.2.0",
            "_model_name": "LayoutModel",
            "_view_count": null,
            "_view_module": "@jupyter-widgets/base",
            "_view_module_version": "1.2.0",
            "_view_name": "LayoutView",
            "align_content": null,
            "align_items": null,
            "align_self": null,
            "border": null,
            "bottom": null,
            "display": null,
            "flex": null,
            "flex_flow": null,
            "grid_area": null,
            "grid_auto_columns": null,
            "grid_auto_flow": null,
            "grid_auto_rows": null,
            "grid_column": null,
            "grid_gap": null,
            "grid_row": null,
            "grid_template_areas": null,
            "grid_template_columns": null,
            "grid_template_rows": null,
            "height": null,
            "justify_content": null,
            "justify_items": null,
            "left": null,
            "margin": null,
            "max_height": null,
            "max_width": null,
            "min_height": null,
            "min_width": null,
            "object_fit": null,
            "object_position": null,
            "order": null,
            "overflow": null,
            "overflow_x": null,
            "overflow_y": null,
            "padding": null,
            "right": null,
            "top": null,
            "visibility": null,
            "width": null
          }
        },
        "af945fbb35b248d9b5187a021349578c": {
          "model_module": "@jupyter-widgets/base",
          "model_name": "LayoutModel",
          "model_module_version": "1.2.0",
          "state": {
            "_model_module": "@jupyter-widgets/base",
            "_model_module_version": "1.2.0",
            "_model_name": "LayoutModel",
            "_view_count": null,
            "_view_module": "@jupyter-widgets/base",
            "_view_module_version": "1.2.0",
            "_view_name": "LayoutView",
            "align_content": null,
            "align_items": null,
            "align_self": null,
            "border": null,
            "bottom": null,
            "display": null,
            "flex": null,
            "flex_flow": null,
            "grid_area": null,
            "grid_auto_columns": null,
            "grid_auto_flow": null,
            "grid_auto_rows": null,
            "grid_column": null,
            "grid_gap": null,
            "grid_row": null,
            "grid_template_areas": null,
            "grid_template_columns": null,
            "grid_template_rows": null,
            "height": null,
            "justify_content": null,
            "justify_items": null,
            "left": null,
            "margin": null,
            "max_height": null,
            "max_width": null,
            "min_height": null,
            "min_width": null,
            "object_fit": null,
            "object_position": null,
            "order": null,
            "overflow": null,
            "overflow_x": null,
            "overflow_y": null,
            "padding": null,
            "right": null,
            "top": null,
            "visibility": null,
            "width": null
          }
        },
        "65bc19a4da244fc4bdd8a0f76321724f": {
          "model_module": "@jupyter-widgets/controls",
          "model_name": "DescriptionStyleModel",
          "model_module_version": "1.5.0",
          "state": {
            "_model_module": "@jupyter-widgets/controls",
            "_model_module_version": "1.5.0",
            "_model_name": "DescriptionStyleModel",
            "_view_count": null,
            "_view_module": "@jupyter-widgets/base",
            "_view_module_version": "1.2.0",
            "_view_name": "StyleView",
            "description_width": ""
          }
        },
        "fc9dbfa3e1bc4d82bbab3338904c9f31": {
          "model_module": "@jupyter-widgets/base",
          "model_name": "LayoutModel",
          "model_module_version": "1.2.0",
          "state": {
            "_model_module": "@jupyter-widgets/base",
            "_model_module_version": "1.2.0",
            "_model_name": "LayoutModel",
            "_view_count": null,
            "_view_module": "@jupyter-widgets/base",
            "_view_module_version": "1.2.0",
            "_view_name": "LayoutView",
            "align_content": null,
            "align_items": null,
            "align_self": null,
            "border": null,
            "bottom": null,
            "display": null,
            "flex": null,
            "flex_flow": null,
            "grid_area": null,
            "grid_auto_columns": null,
            "grid_auto_flow": null,
            "grid_auto_rows": null,
            "grid_column": null,
            "grid_gap": null,
            "grid_row": null,
            "grid_template_areas": null,
            "grid_template_columns": null,
            "grid_template_rows": null,
            "height": null,
            "justify_content": null,
            "justify_items": null,
            "left": null,
            "margin": null,
            "max_height": null,
            "max_width": null,
            "min_height": null,
            "min_width": null,
            "object_fit": null,
            "object_position": null,
            "order": null,
            "overflow": null,
            "overflow_x": null,
            "overflow_y": null,
            "padding": null,
            "right": null,
            "top": null,
            "visibility": null,
            "width": null
          }
        },
        "da3fedefabbe4d2cb9733ab3e571836c": {
          "model_module": "@jupyter-widgets/controls",
          "model_name": "ProgressStyleModel",
          "model_module_version": "1.5.0",
          "state": {
            "_model_module": "@jupyter-widgets/controls",
            "_model_module_version": "1.5.0",
            "_model_name": "ProgressStyleModel",
            "_view_count": null,
            "_view_module": "@jupyter-widgets/base",
            "_view_module_version": "1.2.0",
            "_view_name": "StyleView",
            "bar_color": null,
            "description_width": ""
          }
        },
        "b217b60911214da6bb4317f2b191585b": {
          "model_module": "@jupyter-widgets/base",
          "model_name": "LayoutModel",
          "model_module_version": "1.2.0",
          "state": {
            "_model_module": "@jupyter-widgets/base",
            "_model_module_version": "1.2.0",
            "_model_name": "LayoutModel",
            "_view_count": null,
            "_view_module": "@jupyter-widgets/base",
            "_view_module_version": "1.2.0",
            "_view_name": "LayoutView",
            "align_content": null,
            "align_items": null,
            "align_self": null,
            "border": null,
            "bottom": null,
            "display": null,
            "flex": null,
            "flex_flow": null,
            "grid_area": null,
            "grid_auto_columns": null,
            "grid_auto_flow": null,
            "grid_auto_rows": null,
            "grid_column": null,
            "grid_gap": null,
            "grid_row": null,
            "grid_template_areas": null,
            "grid_template_columns": null,
            "grid_template_rows": null,
            "height": null,
            "justify_content": null,
            "justify_items": null,
            "left": null,
            "margin": null,
            "max_height": null,
            "max_width": null,
            "min_height": null,
            "min_width": null,
            "object_fit": null,
            "object_position": null,
            "order": null,
            "overflow": null,
            "overflow_x": null,
            "overflow_y": null,
            "padding": null,
            "right": null,
            "top": null,
            "visibility": null,
            "width": null
          }
        },
        "9590a7064a784b5299f174b28edaafa1": {
          "model_module": "@jupyter-widgets/controls",
          "model_name": "DescriptionStyleModel",
          "model_module_version": "1.5.0",
          "state": {
            "_model_module": "@jupyter-widgets/controls",
            "_model_module_version": "1.5.0",
            "_model_name": "DescriptionStyleModel",
            "_view_count": null,
            "_view_module": "@jupyter-widgets/base",
            "_view_module_version": "1.2.0",
            "_view_name": "StyleView",
            "description_width": ""
          }
        },
        "70b613a755d14b5496f754273e183659": {
          "model_module": "@jupyter-widgets/controls",
          "model_name": "HBoxModel",
          "model_module_version": "1.5.0",
          "state": {
            "_dom_classes": [],
            "_model_module": "@jupyter-widgets/controls",
            "_model_module_version": "1.5.0",
            "_model_name": "HBoxModel",
            "_view_count": null,
            "_view_module": "@jupyter-widgets/controls",
            "_view_module_version": "1.5.0",
            "_view_name": "HBoxView",
            "box_style": "",
            "children": [
              "IPY_MODEL_ce352459467b407aa28cc7b3580e21d3",
              "IPY_MODEL_c32e9ab836064d389972dcea4e3db5f8",
              "IPY_MODEL_f98f70d3f892489c8fb6e912df88dcf0"
            ],
            "layout": "IPY_MODEL_083e54c580d3496493e8a8f891188b59"
          }
        },
        "ce352459467b407aa28cc7b3580e21d3": {
          "model_module": "@jupyter-widgets/controls",
          "model_name": "HTMLModel",
          "model_module_version": "1.5.0",
          "state": {
            "_dom_classes": [],
            "_model_module": "@jupyter-widgets/controls",
            "_model_module_version": "1.5.0",
            "_model_name": "HTMLModel",
            "_view_count": null,
            "_view_module": "@jupyter-widgets/controls",
            "_view_module_version": "1.5.0",
            "_view_name": "HTMLView",
            "description": "",
            "description_tooltip": null,
            "layout": "IPY_MODEL_5bf0e37372ba4a7ca0074e3f28127bda",
            "placeholder": "​",
            "style": "IPY_MODEL_3851440f90d649c39ed0ae6fb570e8d8",
            "value": "Generating test split: 100%"
          }
        },
        "c32e9ab836064d389972dcea4e3db5f8": {
          "model_module": "@jupyter-widgets/controls",
          "model_name": "FloatProgressModel",
          "model_module_version": "1.5.0",
          "state": {
            "_dom_classes": [],
            "_model_module": "@jupyter-widgets/controls",
            "_model_module_version": "1.5.0",
            "_model_name": "FloatProgressModel",
            "_view_count": null,
            "_view_module": "@jupyter-widgets/controls",
            "_view_module_version": "1.5.0",
            "_view_name": "ProgressView",
            "bar_style": "success",
            "description": "",
            "description_tooltip": null,
            "layout": "IPY_MODEL_6db3f2bff4d74d0e9dc1f77ea1c884c1",
            "max": 3761,
            "min": 0,
            "orientation": "horizontal",
            "style": "IPY_MODEL_63953818c4f0447182b5fbf2954984ed",
            "value": 3761
          }
        },
        "f98f70d3f892489c8fb6e912df88dcf0": {
          "model_module": "@jupyter-widgets/controls",
          "model_name": "HTMLModel",
          "model_module_version": "1.5.0",
          "state": {
            "_dom_classes": [],
            "_model_module": "@jupyter-widgets/controls",
            "_model_module_version": "1.5.0",
            "_model_name": "HTMLModel",
            "_view_count": null,
            "_view_module": "@jupyter-widgets/controls",
            "_view_module_version": "1.5.0",
            "_view_name": "HTMLView",
            "description": "",
            "description_tooltip": null,
            "layout": "IPY_MODEL_8cac36da9abc431c96859b188217d366",
            "placeholder": "​",
            "style": "IPY_MODEL_928f541572d5473a9d006a19ac932931",
            "value": " 3761/3761 [00:00&lt;00:00, 38969.60 examples/s]"
          }
        },
        "083e54c580d3496493e8a8f891188b59": {
          "model_module": "@jupyter-widgets/base",
          "model_name": "LayoutModel",
          "model_module_version": "1.2.0",
          "state": {
            "_model_module": "@jupyter-widgets/base",
            "_model_module_version": "1.2.0",
            "_model_name": "LayoutModel",
            "_view_count": null,
            "_view_module": "@jupyter-widgets/base",
            "_view_module_version": "1.2.0",
            "_view_name": "LayoutView",
            "align_content": null,
            "align_items": null,
            "align_self": null,
            "border": null,
            "bottom": null,
            "display": null,
            "flex": null,
            "flex_flow": null,
            "grid_area": null,
            "grid_auto_columns": null,
            "grid_auto_flow": null,
            "grid_auto_rows": null,
            "grid_column": null,
            "grid_gap": null,
            "grid_row": null,
            "grid_template_areas": null,
            "grid_template_columns": null,
            "grid_template_rows": null,
            "height": null,
            "justify_content": null,
            "justify_items": null,
            "left": null,
            "margin": null,
            "max_height": null,
            "max_width": null,
            "min_height": null,
            "min_width": null,
            "object_fit": null,
            "object_position": null,
            "order": null,
            "overflow": null,
            "overflow_x": null,
            "overflow_y": null,
            "padding": null,
            "right": null,
            "top": null,
            "visibility": null,
            "width": null
          }
        },
        "5bf0e37372ba4a7ca0074e3f28127bda": {
          "model_module": "@jupyter-widgets/base",
          "model_name": "LayoutModel",
          "model_module_version": "1.2.0",
          "state": {
            "_model_module": "@jupyter-widgets/base",
            "_model_module_version": "1.2.0",
            "_model_name": "LayoutModel",
            "_view_count": null,
            "_view_module": "@jupyter-widgets/base",
            "_view_module_version": "1.2.0",
            "_view_name": "LayoutView",
            "align_content": null,
            "align_items": null,
            "align_self": null,
            "border": null,
            "bottom": null,
            "display": null,
            "flex": null,
            "flex_flow": null,
            "grid_area": null,
            "grid_auto_columns": null,
            "grid_auto_flow": null,
            "grid_auto_rows": null,
            "grid_column": null,
            "grid_gap": null,
            "grid_row": null,
            "grid_template_areas": null,
            "grid_template_columns": null,
            "grid_template_rows": null,
            "height": null,
            "justify_content": null,
            "justify_items": null,
            "left": null,
            "margin": null,
            "max_height": null,
            "max_width": null,
            "min_height": null,
            "min_width": null,
            "object_fit": null,
            "object_position": null,
            "order": null,
            "overflow": null,
            "overflow_x": null,
            "overflow_y": null,
            "padding": null,
            "right": null,
            "top": null,
            "visibility": null,
            "width": null
          }
        },
        "3851440f90d649c39ed0ae6fb570e8d8": {
          "model_module": "@jupyter-widgets/controls",
          "model_name": "DescriptionStyleModel",
          "model_module_version": "1.5.0",
          "state": {
            "_model_module": "@jupyter-widgets/controls",
            "_model_module_version": "1.5.0",
            "_model_name": "DescriptionStyleModel",
            "_view_count": null,
            "_view_module": "@jupyter-widgets/base",
            "_view_module_version": "1.2.0",
            "_view_name": "StyleView",
            "description_width": ""
          }
        },
        "6db3f2bff4d74d0e9dc1f77ea1c884c1": {
          "model_module": "@jupyter-widgets/base",
          "model_name": "LayoutModel",
          "model_module_version": "1.2.0",
          "state": {
            "_model_module": "@jupyter-widgets/base",
            "_model_module_version": "1.2.0",
            "_model_name": "LayoutModel",
            "_view_count": null,
            "_view_module": "@jupyter-widgets/base",
            "_view_module_version": "1.2.0",
            "_view_name": "LayoutView",
            "align_content": null,
            "align_items": null,
            "align_self": null,
            "border": null,
            "bottom": null,
            "display": null,
            "flex": null,
            "flex_flow": null,
            "grid_area": null,
            "grid_auto_columns": null,
            "grid_auto_flow": null,
            "grid_auto_rows": null,
            "grid_column": null,
            "grid_gap": null,
            "grid_row": null,
            "grid_template_areas": null,
            "grid_template_columns": null,
            "grid_template_rows": null,
            "height": null,
            "justify_content": null,
            "justify_items": null,
            "left": null,
            "margin": null,
            "max_height": null,
            "max_width": null,
            "min_height": null,
            "min_width": null,
            "object_fit": null,
            "object_position": null,
            "order": null,
            "overflow": null,
            "overflow_x": null,
            "overflow_y": null,
            "padding": null,
            "right": null,
            "top": null,
            "visibility": null,
            "width": null
          }
        },
        "63953818c4f0447182b5fbf2954984ed": {
          "model_module": "@jupyter-widgets/controls",
          "model_name": "ProgressStyleModel",
          "model_module_version": "1.5.0",
          "state": {
            "_model_module": "@jupyter-widgets/controls",
            "_model_module_version": "1.5.0",
            "_model_name": "ProgressStyleModel",
            "_view_count": null,
            "_view_module": "@jupyter-widgets/base",
            "_view_module_version": "1.2.0",
            "_view_name": "StyleView",
            "bar_color": null,
            "description_width": ""
          }
        },
        "8cac36da9abc431c96859b188217d366": {
          "model_module": "@jupyter-widgets/base",
          "model_name": "LayoutModel",
          "model_module_version": "1.2.0",
          "state": {
            "_model_module": "@jupyter-widgets/base",
            "_model_module_version": "1.2.0",
            "_model_name": "LayoutModel",
            "_view_count": null,
            "_view_module": "@jupyter-widgets/base",
            "_view_module_version": "1.2.0",
            "_view_name": "LayoutView",
            "align_content": null,
            "align_items": null,
            "align_self": null,
            "border": null,
            "bottom": null,
            "display": null,
            "flex": null,
            "flex_flow": null,
            "grid_area": null,
            "grid_auto_columns": null,
            "grid_auto_flow": null,
            "grid_auto_rows": null,
            "grid_column": null,
            "grid_gap": null,
            "grid_row": null,
            "grid_template_areas": null,
            "grid_template_columns": null,
            "grid_template_rows": null,
            "height": null,
            "justify_content": null,
            "justify_items": null,
            "left": null,
            "margin": null,
            "max_height": null,
            "max_width": null,
            "min_height": null,
            "min_width": null,
            "object_fit": null,
            "object_position": null,
            "order": null,
            "overflow": null,
            "overflow_x": null,
            "overflow_y": null,
            "padding": null,
            "right": null,
            "top": null,
            "visibility": null,
            "width": null
          }
        },
        "928f541572d5473a9d006a19ac932931": {
          "model_module": "@jupyter-widgets/controls",
          "model_name": "DescriptionStyleModel",
          "model_module_version": "1.5.0",
          "state": {
            "_model_module": "@jupyter-widgets/controls",
            "_model_module_version": "1.5.0",
            "_model_name": "DescriptionStyleModel",
            "_view_count": null,
            "_view_module": "@jupyter-widgets/base",
            "_view_module_version": "1.2.0",
            "_view_name": "StyleView",
            "description_width": ""
          }
        },
        "dd84beede55f4e30b23bd88242ecbda2": {
          "model_module": "@jupyter-widgets/controls",
          "model_name": "HBoxModel",
          "model_module_version": "1.5.0",
          "state": {
            "_dom_classes": [],
            "_model_module": "@jupyter-widgets/controls",
            "_model_module_version": "1.5.0",
            "_model_name": "HBoxModel",
            "_view_count": null,
            "_view_module": "@jupyter-widgets/controls",
            "_view_module_version": "1.5.0",
            "_view_name": "HBoxView",
            "box_style": "",
            "children": [
              "IPY_MODEL_3e3542a5514f48e3b362ddb3e50287b7",
              "IPY_MODEL_e26cb7157d40430d9d93dbf9bb8db56a",
              "IPY_MODEL_2b5c410bb8a746159d8c0dbd7cdff977"
            ],
            "layout": "IPY_MODEL_4674bf281180494189c14588d1e4ab5d"
          }
        },
        "3e3542a5514f48e3b362ddb3e50287b7": {
          "model_module": "@jupyter-widgets/controls",
          "model_name": "HTMLModel",
          "model_module_version": "1.5.0",
          "state": {
            "_dom_classes": [],
            "_model_module": "@jupyter-widgets/controls",
            "_model_module_version": "1.5.0",
            "_model_name": "HTMLModel",
            "_view_count": null,
            "_view_module": "@jupyter-widgets/controls",
            "_view_module_version": "1.5.0",
            "_view_name": "HTMLView",
            "description": "",
            "description_tooltip": null,
            "layout": "IPY_MODEL_c14a43c461744753ac16ecf13707950c",
            "placeholder": "​",
            "style": "IPY_MODEL_10d99f8e63de4adab8a46f60cb4d5286",
            "value": "Generating validation split: 100%"
          }
        },
        "e26cb7157d40430d9d93dbf9bb8db56a": {
          "model_module": "@jupyter-widgets/controls",
          "model_name": "FloatProgressModel",
          "model_module_version": "1.5.0",
          "state": {
            "_dom_classes": [],
            "_model_module": "@jupyter-widgets/controls",
            "_model_module_version": "1.5.0",
            "_model_name": "FloatProgressModel",
            "_view_count": null,
            "_view_module": "@jupyter-widgets/controls",
            "_view_module_version": "1.5.0",
            "_view_name": "ProgressView",
            "bar_style": "success",
            "description": "",
            "description_tooltip": null,
            "layout": "IPY_MODEL_e551928b58de4731aefa8520236a9308",
            "max": 3370,
            "min": 0,
            "orientation": "horizontal",
            "style": "IPY_MODEL_3b334cf7df2741e2afd18e445c69000e",
            "value": 3370
          }
        },
        "2b5c410bb8a746159d8c0dbd7cdff977": {
          "model_module": "@jupyter-widgets/controls",
          "model_name": "HTMLModel",
          "model_module_version": "1.5.0",
          "state": {
            "_dom_classes": [],
            "_model_module": "@jupyter-widgets/controls",
            "_model_module_version": "1.5.0",
            "_model_name": "HTMLModel",
            "_view_count": null,
            "_view_module": "@jupyter-widgets/controls",
            "_view_module_version": "1.5.0",
            "_view_name": "HTMLView",
            "description": "",
            "description_tooltip": null,
            "layout": "IPY_MODEL_4b09cf30a0974f33b777203cd3b9d31f",
            "placeholder": "​",
            "style": "IPY_MODEL_bfdd1cff0ef1431bb9c33121c2a6976e",
            "value": " 3370/3370 [00:00&lt;00:00, 45287.46 examples/s]"
          }
        },
        "4674bf281180494189c14588d1e4ab5d": {
          "model_module": "@jupyter-widgets/base",
          "model_name": "LayoutModel",
          "model_module_version": "1.2.0",
          "state": {
            "_model_module": "@jupyter-widgets/base",
            "_model_module_version": "1.2.0",
            "_model_name": "LayoutModel",
            "_view_count": null,
            "_view_module": "@jupyter-widgets/base",
            "_view_module_version": "1.2.0",
            "_view_name": "LayoutView",
            "align_content": null,
            "align_items": null,
            "align_self": null,
            "border": null,
            "bottom": null,
            "display": null,
            "flex": null,
            "flex_flow": null,
            "grid_area": null,
            "grid_auto_columns": null,
            "grid_auto_flow": null,
            "grid_auto_rows": null,
            "grid_column": null,
            "grid_gap": null,
            "grid_row": null,
            "grid_template_areas": null,
            "grid_template_columns": null,
            "grid_template_rows": null,
            "height": null,
            "justify_content": null,
            "justify_items": null,
            "left": null,
            "margin": null,
            "max_height": null,
            "max_width": null,
            "min_height": null,
            "min_width": null,
            "object_fit": null,
            "object_position": null,
            "order": null,
            "overflow": null,
            "overflow_x": null,
            "overflow_y": null,
            "padding": null,
            "right": null,
            "top": null,
            "visibility": null,
            "width": null
          }
        },
        "c14a43c461744753ac16ecf13707950c": {
          "model_module": "@jupyter-widgets/base",
          "model_name": "LayoutModel",
          "model_module_version": "1.2.0",
          "state": {
            "_model_module": "@jupyter-widgets/base",
            "_model_module_version": "1.2.0",
            "_model_name": "LayoutModel",
            "_view_count": null,
            "_view_module": "@jupyter-widgets/base",
            "_view_module_version": "1.2.0",
            "_view_name": "LayoutView",
            "align_content": null,
            "align_items": null,
            "align_self": null,
            "border": null,
            "bottom": null,
            "display": null,
            "flex": null,
            "flex_flow": null,
            "grid_area": null,
            "grid_auto_columns": null,
            "grid_auto_flow": null,
            "grid_auto_rows": null,
            "grid_column": null,
            "grid_gap": null,
            "grid_row": null,
            "grid_template_areas": null,
            "grid_template_columns": null,
            "grid_template_rows": null,
            "height": null,
            "justify_content": null,
            "justify_items": null,
            "left": null,
            "margin": null,
            "max_height": null,
            "max_width": null,
            "min_height": null,
            "min_width": null,
            "object_fit": null,
            "object_position": null,
            "order": null,
            "overflow": null,
            "overflow_x": null,
            "overflow_y": null,
            "padding": null,
            "right": null,
            "top": null,
            "visibility": null,
            "width": null
          }
        },
        "10d99f8e63de4adab8a46f60cb4d5286": {
          "model_module": "@jupyter-widgets/controls",
          "model_name": "DescriptionStyleModel",
          "model_module_version": "1.5.0",
          "state": {
            "_model_module": "@jupyter-widgets/controls",
            "_model_module_version": "1.5.0",
            "_model_name": "DescriptionStyleModel",
            "_view_count": null,
            "_view_module": "@jupyter-widgets/base",
            "_view_module_version": "1.2.0",
            "_view_name": "StyleView",
            "description_width": ""
          }
        },
        "e551928b58de4731aefa8520236a9308": {
          "model_module": "@jupyter-widgets/base",
          "model_name": "LayoutModel",
          "model_module_version": "1.2.0",
          "state": {
            "_model_module": "@jupyter-widgets/base",
            "_model_module_version": "1.2.0",
            "_model_name": "LayoutModel",
            "_view_count": null,
            "_view_module": "@jupyter-widgets/base",
            "_view_module_version": "1.2.0",
            "_view_name": "LayoutView",
            "align_content": null,
            "align_items": null,
            "align_self": null,
            "border": null,
            "bottom": null,
            "display": null,
            "flex": null,
            "flex_flow": null,
            "grid_area": null,
            "grid_auto_columns": null,
            "grid_auto_flow": null,
            "grid_auto_rows": null,
            "grid_column": null,
            "grid_gap": null,
            "grid_row": null,
            "grid_template_areas": null,
            "grid_template_columns": null,
            "grid_template_rows": null,
            "height": null,
            "justify_content": null,
            "justify_items": null,
            "left": null,
            "margin": null,
            "max_height": null,
            "max_width": null,
            "min_height": null,
            "min_width": null,
            "object_fit": null,
            "object_position": null,
            "order": null,
            "overflow": null,
            "overflow_x": null,
            "overflow_y": null,
            "padding": null,
            "right": null,
            "top": null,
            "visibility": null,
            "width": null
          }
        },
        "3b334cf7df2741e2afd18e445c69000e": {
          "model_module": "@jupyter-widgets/controls",
          "model_name": "ProgressStyleModel",
          "model_module_version": "1.5.0",
          "state": {
            "_model_module": "@jupyter-widgets/controls",
            "_model_module_version": "1.5.0",
            "_model_name": "ProgressStyleModel",
            "_view_count": null,
            "_view_module": "@jupyter-widgets/base",
            "_view_module_version": "1.2.0",
            "_view_name": "StyleView",
            "bar_color": null,
            "description_width": ""
          }
        },
        "4b09cf30a0974f33b777203cd3b9d31f": {
          "model_module": "@jupyter-widgets/base",
          "model_name": "LayoutModel",
          "model_module_version": "1.2.0",
          "state": {
            "_model_module": "@jupyter-widgets/base",
            "_model_module_version": "1.2.0",
            "_model_name": "LayoutModel",
            "_view_count": null,
            "_view_module": "@jupyter-widgets/base",
            "_view_module_version": "1.2.0",
            "_view_name": "LayoutView",
            "align_content": null,
            "align_items": null,
            "align_self": null,
            "border": null,
            "bottom": null,
            "display": null,
            "flex": null,
            "flex_flow": null,
            "grid_area": null,
            "grid_auto_columns": null,
            "grid_auto_flow": null,
            "grid_auto_rows": null,
            "grid_column": null,
            "grid_gap": null,
            "grid_row": null,
            "grid_template_areas": null,
            "grid_template_columns": null,
            "grid_template_rows": null,
            "height": null,
            "justify_content": null,
            "justify_items": null,
            "left": null,
            "margin": null,
            "max_height": null,
            "max_width": null,
            "min_height": null,
            "min_width": null,
            "object_fit": null,
            "object_position": null,
            "order": null,
            "overflow": null,
            "overflow_x": null,
            "overflow_y": null,
            "padding": null,
            "right": null,
            "top": null,
            "visibility": null,
            "width": null
          }
        },
        "bfdd1cff0ef1431bb9c33121c2a6976e": {
          "model_module": "@jupyter-widgets/controls",
          "model_name": "DescriptionStyleModel",
          "model_module_version": "1.5.0",
          "state": {
            "_model_module": "@jupyter-widgets/controls",
            "_model_module_version": "1.5.0",
            "_model_name": "DescriptionStyleModel",
            "_view_count": null,
            "_view_module": "@jupyter-widgets/base",
            "_view_module_version": "1.2.0",
            "_view_name": "StyleView",
            "description_width": ""
          }
        },
        "1efefd567e934e9894d9524712918cff": {
          "model_module": "@jupyter-widgets/controls",
          "model_name": "HBoxModel",
          "model_module_version": "1.5.0",
          "state": {
            "_dom_classes": [],
            "_model_module": "@jupyter-widgets/controls",
            "_model_module_version": "1.5.0",
            "_model_name": "HBoxModel",
            "_view_count": null,
            "_view_module": "@jupyter-widgets/controls",
            "_view_module_version": "1.5.0",
            "_view_name": "HBoxView",
            "box_style": "",
            "children": [
              "IPY_MODEL_2064c2bd32de49adb6d718e25ce2f100",
              "IPY_MODEL_807b5948c5784b82889db8ec86eed5bf",
              "IPY_MODEL_7974292311964fceb6b9011f7502b89b"
            ],
            "layout": "IPY_MODEL_bfbfa2a61d1546c6ab9340802343ea84"
          }
        },
        "2064c2bd32de49adb6d718e25ce2f100": {
          "model_module": "@jupyter-widgets/controls",
          "model_name": "HTMLModel",
          "model_module_version": "1.5.0",
          "state": {
            "_dom_classes": [],
            "_model_module": "@jupyter-widgets/controls",
            "_model_module_version": "1.5.0",
            "_model_name": "HTMLModel",
            "_view_count": null,
            "_view_module": "@jupyter-widgets/controls",
            "_view_module_version": "1.5.0",
            "_view_name": "HTMLView",
            "description": "",
            "description_tooltip": null,
            "layout": "IPY_MODEL_4bdf8c6926dc477681f8ce740f338c6d",
            "placeholder": "​",
            "style": "IPY_MODEL_66386932c4f846f89bd04b3d534c670c",
            "value": "Map: 100%"
          }
        },
        "807b5948c5784b82889db8ec86eed5bf": {
          "model_module": "@jupyter-widgets/controls",
          "model_name": "FloatProgressModel",
          "model_module_version": "1.5.0",
          "state": {
            "_dom_classes": [],
            "_model_module": "@jupyter-widgets/controls",
            "_model_module_version": "1.5.0",
            "_model_name": "FloatProgressModel",
            "_view_count": null,
            "_view_module": "@jupyter-widgets/controls",
            "_view_module_version": "1.5.0",
            "_view_name": "ProgressView",
            "bar_style": "success",
            "description": "",
            "description_tooltip": null,
            "layout": "IPY_MODEL_a0d6235aea46476d975c616a80c707a1",
            "max": 33654,
            "min": 0,
            "orientation": "horizontal",
            "style": "IPY_MODEL_a5be315bcfc34ca4b6af450959cc1cf8",
            "value": 33654
          }
        },
        "7974292311964fceb6b9011f7502b89b": {
          "model_module": "@jupyter-widgets/controls",
          "model_name": "HTMLModel",
          "model_module_version": "1.5.0",
          "state": {
            "_dom_classes": [],
            "_model_module": "@jupyter-widgets/controls",
            "_model_module_version": "1.5.0",
            "_model_name": "HTMLModel",
            "_view_count": null,
            "_view_module": "@jupyter-widgets/controls",
            "_view_module_version": "1.5.0",
            "_view_name": "HTMLView",
            "description": "",
            "description_tooltip": null,
            "layout": "IPY_MODEL_49821847c9a44dff883eda428e145e7e",
            "placeholder": "​",
            "style": "IPY_MODEL_dc680d2d5b0344f9b7710015b6651336",
            "value": " 33654/33654 [00:03&lt;00:00, 8288.94 examples/s]"
          }
        },
        "bfbfa2a61d1546c6ab9340802343ea84": {
          "model_module": "@jupyter-widgets/base",
          "model_name": "LayoutModel",
          "model_module_version": "1.2.0",
          "state": {
            "_model_module": "@jupyter-widgets/base",
            "_model_module_version": "1.2.0",
            "_model_name": "LayoutModel",
            "_view_count": null,
            "_view_module": "@jupyter-widgets/base",
            "_view_module_version": "1.2.0",
            "_view_name": "LayoutView",
            "align_content": null,
            "align_items": null,
            "align_self": null,
            "border": null,
            "bottom": null,
            "display": null,
            "flex": null,
            "flex_flow": null,
            "grid_area": null,
            "grid_auto_columns": null,
            "grid_auto_flow": null,
            "grid_auto_rows": null,
            "grid_column": null,
            "grid_gap": null,
            "grid_row": null,
            "grid_template_areas": null,
            "grid_template_columns": null,
            "grid_template_rows": null,
            "height": null,
            "justify_content": null,
            "justify_items": null,
            "left": null,
            "margin": null,
            "max_height": null,
            "max_width": null,
            "min_height": null,
            "min_width": null,
            "object_fit": null,
            "object_position": null,
            "order": null,
            "overflow": null,
            "overflow_x": null,
            "overflow_y": null,
            "padding": null,
            "right": null,
            "top": null,
            "visibility": null,
            "width": null
          }
        },
        "4bdf8c6926dc477681f8ce740f338c6d": {
          "model_module": "@jupyter-widgets/base",
          "model_name": "LayoutModel",
          "model_module_version": "1.2.0",
          "state": {
            "_model_module": "@jupyter-widgets/base",
            "_model_module_version": "1.2.0",
            "_model_name": "LayoutModel",
            "_view_count": null,
            "_view_module": "@jupyter-widgets/base",
            "_view_module_version": "1.2.0",
            "_view_name": "LayoutView",
            "align_content": null,
            "align_items": null,
            "align_self": null,
            "border": null,
            "bottom": null,
            "display": null,
            "flex": null,
            "flex_flow": null,
            "grid_area": null,
            "grid_auto_columns": null,
            "grid_auto_flow": null,
            "grid_auto_rows": null,
            "grid_column": null,
            "grid_gap": null,
            "grid_row": null,
            "grid_template_areas": null,
            "grid_template_columns": null,
            "grid_template_rows": null,
            "height": null,
            "justify_content": null,
            "justify_items": null,
            "left": null,
            "margin": null,
            "max_height": null,
            "max_width": null,
            "min_height": null,
            "min_width": null,
            "object_fit": null,
            "object_position": null,
            "order": null,
            "overflow": null,
            "overflow_x": null,
            "overflow_y": null,
            "padding": null,
            "right": null,
            "top": null,
            "visibility": null,
            "width": null
          }
        },
        "66386932c4f846f89bd04b3d534c670c": {
          "model_module": "@jupyter-widgets/controls",
          "model_name": "DescriptionStyleModel",
          "model_module_version": "1.5.0",
          "state": {
            "_model_module": "@jupyter-widgets/controls",
            "_model_module_version": "1.5.0",
            "_model_name": "DescriptionStyleModel",
            "_view_count": null,
            "_view_module": "@jupyter-widgets/base",
            "_view_module_version": "1.2.0",
            "_view_name": "StyleView",
            "description_width": ""
          }
        },
        "a0d6235aea46476d975c616a80c707a1": {
          "model_module": "@jupyter-widgets/base",
          "model_name": "LayoutModel",
          "model_module_version": "1.2.0",
          "state": {
            "_model_module": "@jupyter-widgets/base",
            "_model_module_version": "1.2.0",
            "_model_name": "LayoutModel",
            "_view_count": null,
            "_view_module": "@jupyter-widgets/base",
            "_view_module_version": "1.2.0",
            "_view_name": "LayoutView",
            "align_content": null,
            "align_items": null,
            "align_self": null,
            "border": null,
            "bottom": null,
            "display": null,
            "flex": null,
            "flex_flow": null,
            "grid_area": null,
            "grid_auto_columns": null,
            "grid_auto_flow": null,
            "grid_auto_rows": null,
            "grid_column": null,
            "grid_gap": null,
            "grid_row": null,
            "grid_template_areas": null,
            "grid_template_columns": null,
            "grid_template_rows": null,
            "height": null,
            "justify_content": null,
            "justify_items": null,
            "left": null,
            "margin": null,
            "max_height": null,
            "max_width": null,
            "min_height": null,
            "min_width": null,
            "object_fit": null,
            "object_position": null,
            "order": null,
            "overflow": null,
            "overflow_x": null,
            "overflow_y": null,
            "padding": null,
            "right": null,
            "top": null,
            "visibility": null,
            "width": null
          }
        },
        "a5be315bcfc34ca4b6af450959cc1cf8": {
          "model_module": "@jupyter-widgets/controls",
          "model_name": "ProgressStyleModel",
          "model_module_version": "1.5.0",
          "state": {
            "_model_module": "@jupyter-widgets/controls",
            "_model_module_version": "1.5.0",
            "_model_name": "ProgressStyleModel",
            "_view_count": null,
            "_view_module": "@jupyter-widgets/base",
            "_view_module_version": "1.2.0",
            "_view_name": "StyleView",
            "bar_color": null,
            "description_width": ""
          }
        },
        "49821847c9a44dff883eda428e145e7e": {
          "model_module": "@jupyter-widgets/base",
          "model_name": "LayoutModel",
          "model_module_version": "1.2.0",
          "state": {
            "_model_module": "@jupyter-widgets/base",
            "_model_module_version": "1.2.0",
            "_model_name": "LayoutModel",
            "_view_count": null,
            "_view_module": "@jupyter-widgets/base",
            "_view_module_version": "1.2.0",
            "_view_name": "LayoutView",
            "align_content": null,
            "align_items": null,
            "align_self": null,
            "border": null,
            "bottom": null,
            "display": null,
            "flex": null,
            "flex_flow": null,
            "grid_area": null,
            "grid_auto_columns": null,
            "grid_auto_flow": null,
            "grid_auto_rows": null,
            "grid_column": null,
            "grid_gap": null,
            "grid_row": null,
            "grid_template_areas": null,
            "grid_template_columns": null,
            "grid_template_rows": null,
            "height": null,
            "justify_content": null,
            "justify_items": null,
            "left": null,
            "margin": null,
            "max_height": null,
            "max_width": null,
            "min_height": null,
            "min_width": null,
            "object_fit": null,
            "object_position": null,
            "order": null,
            "overflow": null,
            "overflow_x": null,
            "overflow_y": null,
            "padding": null,
            "right": null,
            "top": null,
            "visibility": null,
            "width": null
          }
        },
        "dc680d2d5b0344f9b7710015b6651336": {
          "model_module": "@jupyter-widgets/controls",
          "model_name": "DescriptionStyleModel",
          "model_module_version": "1.5.0",
          "state": {
            "_model_module": "@jupyter-widgets/controls",
            "_model_module_version": "1.5.0",
            "_model_name": "DescriptionStyleModel",
            "_view_count": null,
            "_view_module": "@jupyter-widgets/base",
            "_view_module_version": "1.2.0",
            "_view_name": "StyleView",
            "description_width": ""
          }
        },
        "e82b0870c0eb4dba9b538bff28577035": {
          "model_module": "@jupyter-widgets/controls",
          "model_name": "HBoxModel",
          "model_module_version": "1.5.0",
          "state": {
            "_dom_classes": [],
            "_model_module": "@jupyter-widgets/controls",
            "_model_module_version": "1.5.0",
            "_model_name": "HBoxModel",
            "_view_count": null,
            "_view_module": "@jupyter-widgets/controls",
            "_view_module_version": "1.5.0",
            "_view_name": "HBoxView",
            "box_style": "",
            "children": [
              "IPY_MODEL_12eb7f4edc874327b536add59b7fe30a",
              "IPY_MODEL_e14abb120e1e48dd8dfc66eb53a866d8",
              "IPY_MODEL_edbe83ea69914103a2891fde089f10b5"
            ],
            "layout": "IPY_MODEL_4d4875b4d6eb47dd90e3d5588ae688f8"
          }
        },
        "12eb7f4edc874327b536add59b7fe30a": {
          "model_module": "@jupyter-widgets/controls",
          "model_name": "HTMLModel",
          "model_module_version": "1.5.0",
          "state": {
            "_dom_classes": [],
            "_model_module": "@jupyter-widgets/controls",
            "_model_module_version": "1.5.0",
            "_model_name": "HTMLModel",
            "_view_count": null,
            "_view_module": "@jupyter-widgets/controls",
            "_view_module_version": "1.5.0",
            "_view_name": "HTMLView",
            "description": "",
            "description_tooltip": null,
            "layout": "IPY_MODEL_05b4b8a4652e4069a65371765e1c51c3",
            "placeholder": "​",
            "style": "IPY_MODEL_fc9ba7fbf86e4e489ce8e5596693ab9e",
            "value": "Map: 100%"
          }
        },
        "e14abb120e1e48dd8dfc66eb53a866d8": {
          "model_module": "@jupyter-widgets/controls",
          "model_name": "FloatProgressModel",
          "model_module_version": "1.5.0",
          "state": {
            "_dom_classes": [],
            "_model_module": "@jupyter-widgets/controls",
            "_model_module_version": "1.5.0",
            "_model_name": "FloatProgressModel",
            "_view_count": null,
            "_view_module": "@jupyter-widgets/controls",
            "_view_module_version": "1.5.0",
            "_view_name": "ProgressView",
            "bar_style": "success",
            "description": "",
            "description_tooltip": null,
            "layout": "IPY_MODEL_d7653bec0b494550b565f6d6ee443b88",
            "max": 8414,
            "min": 0,
            "orientation": "horizontal",
            "style": "IPY_MODEL_316da35e4ca94b70b192389d894f8f5d",
            "value": 8414
          }
        },
        "edbe83ea69914103a2891fde089f10b5": {
          "model_module": "@jupyter-widgets/controls",
          "model_name": "HTMLModel",
          "model_module_version": "1.5.0",
          "state": {
            "_dom_classes": [],
            "_model_module": "@jupyter-widgets/controls",
            "_model_module_version": "1.5.0",
            "_model_name": "HTMLModel",
            "_view_count": null,
            "_view_module": "@jupyter-widgets/controls",
            "_view_module_version": "1.5.0",
            "_view_name": "HTMLView",
            "description": "",
            "description_tooltip": null,
            "layout": "IPY_MODEL_ad1942808f6e46dbb4f54b725e5d452f",
            "placeholder": "​",
            "style": "IPY_MODEL_1ae29a7006da45b9bf4c849400f9965d",
            "value": " 8414/8414 [00:01&lt;00:00, 8020.88 examples/s]"
          }
        },
        "4d4875b4d6eb47dd90e3d5588ae688f8": {
          "model_module": "@jupyter-widgets/base",
          "model_name": "LayoutModel",
          "model_module_version": "1.2.0",
          "state": {
            "_model_module": "@jupyter-widgets/base",
            "_model_module_version": "1.2.0",
            "_model_name": "LayoutModel",
            "_view_count": null,
            "_view_module": "@jupyter-widgets/base",
            "_view_module_version": "1.2.0",
            "_view_name": "LayoutView",
            "align_content": null,
            "align_items": null,
            "align_self": null,
            "border": null,
            "bottom": null,
            "display": null,
            "flex": null,
            "flex_flow": null,
            "grid_area": null,
            "grid_auto_columns": null,
            "grid_auto_flow": null,
            "grid_auto_rows": null,
            "grid_column": null,
            "grid_gap": null,
            "grid_row": null,
            "grid_template_areas": null,
            "grid_template_columns": null,
            "grid_template_rows": null,
            "height": null,
            "justify_content": null,
            "justify_items": null,
            "left": null,
            "margin": null,
            "max_height": null,
            "max_width": null,
            "min_height": null,
            "min_width": null,
            "object_fit": null,
            "object_position": null,
            "order": null,
            "overflow": null,
            "overflow_x": null,
            "overflow_y": null,
            "padding": null,
            "right": null,
            "top": null,
            "visibility": null,
            "width": null
          }
        },
        "05b4b8a4652e4069a65371765e1c51c3": {
          "model_module": "@jupyter-widgets/base",
          "model_name": "LayoutModel",
          "model_module_version": "1.2.0",
          "state": {
            "_model_module": "@jupyter-widgets/base",
            "_model_module_version": "1.2.0",
            "_model_name": "LayoutModel",
            "_view_count": null,
            "_view_module": "@jupyter-widgets/base",
            "_view_module_version": "1.2.0",
            "_view_name": "LayoutView",
            "align_content": null,
            "align_items": null,
            "align_self": null,
            "border": null,
            "bottom": null,
            "display": null,
            "flex": null,
            "flex_flow": null,
            "grid_area": null,
            "grid_auto_columns": null,
            "grid_auto_flow": null,
            "grid_auto_rows": null,
            "grid_column": null,
            "grid_gap": null,
            "grid_row": null,
            "grid_template_areas": null,
            "grid_template_columns": null,
            "grid_template_rows": null,
            "height": null,
            "justify_content": null,
            "justify_items": null,
            "left": null,
            "margin": null,
            "max_height": null,
            "max_width": null,
            "min_height": null,
            "min_width": null,
            "object_fit": null,
            "object_position": null,
            "order": null,
            "overflow": null,
            "overflow_x": null,
            "overflow_y": null,
            "padding": null,
            "right": null,
            "top": null,
            "visibility": null,
            "width": null
          }
        },
        "fc9ba7fbf86e4e489ce8e5596693ab9e": {
          "model_module": "@jupyter-widgets/controls",
          "model_name": "DescriptionStyleModel",
          "model_module_version": "1.5.0",
          "state": {
            "_model_module": "@jupyter-widgets/controls",
            "_model_module_version": "1.5.0",
            "_model_name": "DescriptionStyleModel",
            "_view_count": null,
            "_view_module": "@jupyter-widgets/base",
            "_view_module_version": "1.2.0",
            "_view_name": "StyleView",
            "description_width": ""
          }
        },
        "d7653bec0b494550b565f6d6ee443b88": {
          "model_module": "@jupyter-widgets/base",
          "model_name": "LayoutModel",
          "model_module_version": "1.2.0",
          "state": {
            "_model_module": "@jupyter-widgets/base",
            "_model_module_version": "1.2.0",
            "_model_name": "LayoutModel",
            "_view_count": null,
            "_view_module": "@jupyter-widgets/base",
            "_view_module_version": "1.2.0",
            "_view_name": "LayoutView",
            "align_content": null,
            "align_items": null,
            "align_self": null,
            "border": null,
            "bottom": null,
            "display": null,
            "flex": null,
            "flex_flow": null,
            "grid_area": null,
            "grid_auto_columns": null,
            "grid_auto_flow": null,
            "grid_auto_rows": null,
            "grid_column": null,
            "grid_gap": null,
            "grid_row": null,
            "grid_template_areas": null,
            "grid_template_columns": null,
            "grid_template_rows": null,
            "height": null,
            "justify_content": null,
            "justify_items": null,
            "left": null,
            "margin": null,
            "max_height": null,
            "max_width": null,
            "min_height": null,
            "min_width": null,
            "object_fit": null,
            "object_position": null,
            "order": null,
            "overflow": null,
            "overflow_x": null,
            "overflow_y": null,
            "padding": null,
            "right": null,
            "top": null,
            "visibility": null,
            "width": null
          }
        },
        "316da35e4ca94b70b192389d894f8f5d": {
          "model_module": "@jupyter-widgets/controls",
          "model_name": "ProgressStyleModel",
          "model_module_version": "1.5.0",
          "state": {
            "_model_module": "@jupyter-widgets/controls",
            "_model_module_version": "1.5.0",
            "_model_name": "ProgressStyleModel",
            "_view_count": null,
            "_view_module": "@jupyter-widgets/base",
            "_view_module_version": "1.2.0",
            "_view_name": "StyleView",
            "bar_color": null,
            "description_width": ""
          }
        },
        "ad1942808f6e46dbb4f54b725e5d452f": {
          "model_module": "@jupyter-widgets/base",
          "model_name": "LayoutModel",
          "model_module_version": "1.2.0",
          "state": {
            "_model_module": "@jupyter-widgets/base",
            "_model_module_version": "1.2.0",
            "_model_name": "LayoutModel",
            "_view_count": null,
            "_view_module": "@jupyter-widgets/base",
            "_view_module_version": "1.2.0",
            "_view_name": "LayoutView",
            "align_content": null,
            "align_items": null,
            "align_self": null,
            "border": null,
            "bottom": null,
            "display": null,
            "flex": null,
            "flex_flow": null,
            "grid_area": null,
            "grid_auto_columns": null,
            "grid_auto_flow": null,
            "grid_auto_rows": null,
            "grid_column": null,
            "grid_gap": null,
            "grid_row": null,
            "grid_template_areas": null,
            "grid_template_columns": null,
            "grid_template_rows": null,
            "height": null,
            "justify_content": null,
            "justify_items": null,
            "left": null,
            "margin": null,
            "max_height": null,
            "max_width": null,
            "min_height": null,
            "min_width": null,
            "object_fit": null,
            "object_position": null,
            "order": null,
            "overflow": null,
            "overflow_x": null,
            "overflow_y": null,
            "padding": null,
            "right": null,
            "top": null,
            "visibility": null,
            "width": null
          }
        },
        "1ae29a7006da45b9bf4c849400f9965d": {
          "model_module": "@jupyter-widgets/controls",
          "model_name": "DescriptionStyleModel",
          "model_module_version": "1.5.0",
          "state": {
            "_model_module": "@jupyter-widgets/controls",
            "_model_module_version": "1.5.0",
            "_model_name": "DescriptionStyleModel",
            "_view_count": null,
            "_view_module": "@jupyter-widgets/base",
            "_view_module_version": "1.2.0",
            "_view_name": "StyleView",
            "description_width": ""
          }
        },
        "b66cf39fd9364e9097d938b1a7710ea0": {
          "model_module": "@jupyter-widgets/controls",
          "model_name": "HBoxModel",
          "model_module_version": "1.5.0",
          "state": {
            "_dom_classes": [],
            "_model_module": "@jupyter-widgets/controls",
            "_model_module_version": "1.5.0",
            "_model_name": "HBoxModel",
            "_view_count": null,
            "_view_module": "@jupyter-widgets/controls",
            "_view_module_version": "1.5.0",
            "_view_name": "HBoxView",
            "box_style": "",
            "children": [
              "IPY_MODEL_6586293fd0314900bacacacd4ec7998b",
              "IPY_MODEL_8a2c3a9a737c4259ae7d45867c4522ff",
              "IPY_MODEL_fd99f15615604fa78748c15017cf2f8c"
            ],
            "layout": "IPY_MODEL_e1f743621bf14d1984e4df621546e6ae"
          }
        },
        "6586293fd0314900bacacacd4ec7998b": {
          "model_module": "@jupyter-widgets/controls",
          "model_name": "HTMLModel",
          "model_module_version": "1.5.0",
          "state": {
            "_dom_classes": [],
            "_model_module": "@jupyter-widgets/controls",
            "_model_module_version": "1.5.0",
            "_model_name": "HTMLModel",
            "_view_count": null,
            "_view_module": "@jupyter-widgets/controls",
            "_view_module_version": "1.5.0",
            "_view_name": "HTMLView",
            "description": "",
            "description_tooltip": null,
            "layout": "IPY_MODEL_834bb251755d485ba6e5f832372f2e57",
            "placeholder": "​",
            "style": "IPY_MODEL_8527c1c9f7174e3e93ceccdf550c3d40",
            "value": "Filter: 100%"
          }
        },
        "8a2c3a9a737c4259ae7d45867c4522ff": {
          "model_module": "@jupyter-widgets/controls",
          "model_name": "FloatProgressModel",
          "model_module_version": "1.5.0",
          "state": {
            "_dom_classes": [],
            "_model_module": "@jupyter-widgets/controls",
            "_model_module_version": "1.5.0",
            "_model_name": "FloatProgressModel",
            "_view_count": null,
            "_view_module": "@jupyter-widgets/controls",
            "_view_module_version": "1.5.0",
            "_view_name": "ProgressView",
            "bar_style": "success",
            "description": "",
            "description_tooltip": null,
            "layout": "IPY_MODEL_7648249ae0cc4b919f235522ca59f53c",
            "max": 33654,
            "min": 0,
            "orientation": "horizontal",
            "style": "IPY_MODEL_aa94c0e78cd7424aa9aea6a3ad29fd62",
            "value": 33654
          }
        },
        "fd99f15615604fa78748c15017cf2f8c": {
          "model_module": "@jupyter-widgets/controls",
          "model_name": "HTMLModel",
          "model_module_version": "1.5.0",
          "state": {
            "_dom_classes": [],
            "_model_module": "@jupyter-widgets/controls",
            "_model_module_version": "1.5.0",
            "_model_name": "HTMLModel",
            "_view_count": null,
            "_view_module": "@jupyter-widgets/controls",
            "_view_module_version": "1.5.0",
            "_view_name": "HTMLView",
            "description": "",
            "description_tooltip": null,
            "layout": "IPY_MODEL_355976126b9b408cb945e2b2223b1bd9",
            "placeholder": "​",
            "style": "IPY_MODEL_df63c943c75742dcbb83a6520b40ac3c",
            "value": " 33654/33654 [00:00&lt;00:00, 110838.65 examples/s]"
          }
        },
        "e1f743621bf14d1984e4df621546e6ae": {
          "model_module": "@jupyter-widgets/base",
          "model_name": "LayoutModel",
          "model_module_version": "1.2.0",
          "state": {
            "_model_module": "@jupyter-widgets/base",
            "_model_module_version": "1.2.0",
            "_model_name": "LayoutModel",
            "_view_count": null,
            "_view_module": "@jupyter-widgets/base",
            "_view_module_version": "1.2.0",
            "_view_name": "LayoutView",
            "align_content": null,
            "align_items": null,
            "align_self": null,
            "border": null,
            "bottom": null,
            "display": null,
            "flex": null,
            "flex_flow": null,
            "grid_area": null,
            "grid_auto_columns": null,
            "grid_auto_flow": null,
            "grid_auto_rows": null,
            "grid_column": null,
            "grid_gap": null,
            "grid_row": null,
            "grid_template_areas": null,
            "grid_template_columns": null,
            "grid_template_rows": null,
            "height": null,
            "justify_content": null,
            "justify_items": null,
            "left": null,
            "margin": null,
            "max_height": null,
            "max_width": null,
            "min_height": null,
            "min_width": null,
            "object_fit": null,
            "object_position": null,
            "order": null,
            "overflow": null,
            "overflow_x": null,
            "overflow_y": null,
            "padding": null,
            "right": null,
            "top": null,
            "visibility": null,
            "width": null
          }
        },
        "834bb251755d485ba6e5f832372f2e57": {
          "model_module": "@jupyter-widgets/base",
          "model_name": "LayoutModel",
          "model_module_version": "1.2.0",
          "state": {
            "_model_module": "@jupyter-widgets/base",
            "_model_module_version": "1.2.0",
            "_model_name": "LayoutModel",
            "_view_count": null,
            "_view_module": "@jupyter-widgets/base",
            "_view_module_version": "1.2.0",
            "_view_name": "LayoutView",
            "align_content": null,
            "align_items": null,
            "align_self": null,
            "border": null,
            "bottom": null,
            "display": null,
            "flex": null,
            "flex_flow": null,
            "grid_area": null,
            "grid_auto_columns": null,
            "grid_auto_flow": null,
            "grid_auto_rows": null,
            "grid_column": null,
            "grid_gap": null,
            "grid_row": null,
            "grid_template_areas": null,
            "grid_template_columns": null,
            "grid_template_rows": null,
            "height": null,
            "justify_content": null,
            "justify_items": null,
            "left": null,
            "margin": null,
            "max_height": null,
            "max_width": null,
            "min_height": null,
            "min_width": null,
            "object_fit": null,
            "object_position": null,
            "order": null,
            "overflow": null,
            "overflow_x": null,
            "overflow_y": null,
            "padding": null,
            "right": null,
            "top": null,
            "visibility": null,
            "width": null
          }
        },
        "8527c1c9f7174e3e93ceccdf550c3d40": {
          "model_module": "@jupyter-widgets/controls",
          "model_name": "DescriptionStyleModel",
          "model_module_version": "1.5.0",
          "state": {
            "_model_module": "@jupyter-widgets/controls",
            "_model_module_version": "1.5.0",
            "_model_name": "DescriptionStyleModel",
            "_view_count": null,
            "_view_module": "@jupyter-widgets/base",
            "_view_module_version": "1.2.0",
            "_view_name": "StyleView",
            "description_width": ""
          }
        },
        "7648249ae0cc4b919f235522ca59f53c": {
          "model_module": "@jupyter-widgets/base",
          "model_name": "LayoutModel",
          "model_module_version": "1.2.0",
          "state": {
            "_model_module": "@jupyter-widgets/base",
            "_model_module_version": "1.2.0",
            "_model_name": "LayoutModel",
            "_view_count": null,
            "_view_module": "@jupyter-widgets/base",
            "_view_module_version": "1.2.0",
            "_view_name": "LayoutView",
            "align_content": null,
            "align_items": null,
            "align_self": null,
            "border": null,
            "bottom": null,
            "display": null,
            "flex": null,
            "flex_flow": null,
            "grid_area": null,
            "grid_auto_columns": null,
            "grid_auto_flow": null,
            "grid_auto_rows": null,
            "grid_column": null,
            "grid_gap": null,
            "grid_row": null,
            "grid_template_areas": null,
            "grid_template_columns": null,
            "grid_template_rows": null,
            "height": null,
            "justify_content": null,
            "justify_items": null,
            "left": null,
            "margin": null,
            "max_height": null,
            "max_width": null,
            "min_height": null,
            "min_width": null,
            "object_fit": null,
            "object_position": null,
            "order": null,
            "overflow": null,
            "overflow_x": null,
            "overflow_y": null,
            "padding": null,
            "right": null,
            "top": null,
            "visibility": null,
            "width": null
          }
        },
        "aa94c0e78cd7424aa9aea6a3ad29fd62": {
          "model_module": "@jupyter-widgets/controls",
          "model_name": "ProgressStyleModel",
          "model_module_version": "1.5.0",
          "state": {
            "_model_module": "@jupyter-widgets/controls",
            "_model_module_version": "1.5.0",
            "_model_name": "ProgressStyleModel",
            "_view_count": null,
            "_view_module": "@jupyter-widgets/base",
            "_view_module_version": "1.2.0",
            "_view_name": "StyleView",
            "bar_color": null,
            "description_width": ""
          }
        },
        "355976126b9b408cb945e2b2223b1bd9": {
          "model_module": "@jupyter-widgets/base",
          "model_name": "LayoutModel",
          "model_module_version": "1.2.0",
          "state": {
            "_model_module": "@jupyter-widgets/base",
            "_model_module_version": "1.2.0",
            "_model_name": "LayoutModel",
            "_view_count": null,
            "_view_module": "@jupyter-widgets/base",
            "_view_module_version": "1.2.0",
            "_view_name": "LayoutView",
            "align_content": null,
            "align_items": null,
            "align_self": null,
            "border": null,
            "bottom": null,
            "display": null,
            "flex": null,
            "flex_flow": null,
            "grid_area": null,
            "grid_auto_columns": null,
            "grid_auto_flow": null,
            "grid_auto_rows": null,
            "grid_column": null,
            "grid_gap": null,
            "grid_row": null,
            "grid_template_areas": null,
            "grid_template_columns": null,
            "grid_template_rows": null,
            "height": null,
            "justify_content": null,
            "justify_items": null,
            "left": null,
            "margin": null,
            "max_height": null,
            "max_width": null,
            "min_height": null,
            "min_width": null,
            "object_fit": null,
            "object_position": null,
            "order": null,
            "overflow": null,
            "overflow_x": null,
            "overflow_y": null,
            "padding": null,
            "right": null,
            "top": null,
            "visibility": null,
            "width": null
          }
        },
        "df63c943c75742dcbb83a6520b40ac3c": {
          "model_module": "@jupyter-widgets/controls",
          "model_name": "DescriptionStyleModel",
          "model_module_version": "1.5.0",
          "state": {
            "_model_module": "@jupyter-widgets/controls",
            "_model_module_version": "1.5.0",
            "_model_name": "DescriptionStyleModel",
            "_view_count": null,
            "_view_module": "@jupyter-widgets/base",
            "_view_module_version": "1.2.0",
            "_view_name": "StyleView",
            "description_width": ""
          }
        },
        "7f938a8d53b4455b8e69d3f34c4cfb02": {
          "model_module": "@jupyter-widgets/controls",
          "model_name": "HBoxModel",
          "model_module_version": "1.5.0",
          "state": {
            "_dom_classes": [],
            "_model_module": "@jupyter-widgets/controls",
            "_model_module_version": "1.5.0",
            "_model_name": "HBoxModel",
            "_view_count": null,
            "_view_module": "@jupyter-widgets/controls",
            "_view_module_version": "1.5.0",
            "_view_name": "HBoxView",
            "box_style": "",
            "children": [
              "IPY_MODEL_f12a5bcf477e47d5a5c1e7d6cbde1ee0",
              "IPY_MODEL_4ee29ff14a444d2d9c49ff78365cfcbe",
              "IPY_MODEL_a572055d22f945febefdfec88dcc5579"
            ],
            "layout": "IPY_MODEL_5ffef09268f743bb9f5b81ca22761410"
          }
        },
        "f12a5bcf477e47d5a5c1e7d6cbde1ee0": {
          "model_module": "@jupyter-widgets/controls",
          "model_name": "HTMLModel",
          "model_module_version": "1.5.0",
          "state": {
            "_dom_classes": [],
            "_model_module": "@jupyter-widgets/controls",
            "_model_module_version": "1.5.0",
            "_model_name": "HTMLModel",
            "_view_count": null,
            "_view_module": "@jupyter-widgets/controls",
            "_view_module_version": "1.5.0",
            "_view_name": "HTMLView",
            "description": "",
            "description_tooltip": null,
            "layout": "IPY_MODEL_e179f93e26a94b00b57fdabb68a43d07",
            "placeholder": "​",
            "style": "IPY_MODEL_42f0f1133e8d444388a9354cc6cd10bd",
            "value": "Filter: 100%"
          }
        },
        "4ee29ff14a444d2d9c49ff78365cfcbe": {
          "model_module": "@jupyter-widgets/controls",
          "model_name": "FloatProgressModel",
          "model_module_version": "1.5.0",
          "state": {
            "_dom_classes": [],
            "_model_module": "@jupyter-widgets/controls",
            "_model_module_version": "1.5.0",
            "_model_name": "FloatProgressModel",
            "_view_count": null,
            "_view_module": "@jupyter-widgets/controls",
            "_view_module_version": "1.5.0",
            "_view_name": "ProgressView",
            "bar_style": "success",
            "description": "",
            "description_tooltip": null,
            "layout": "IPY_MODEL_cd02ae7a561349c5900018fc8f67668c",
            "max": 8414,
            "min": 0,
            "orientation": "horizontal",
            "style": "IPY_MODEL_30e161aca39f4be486d2e4a1c439194a",
            "value": 8414
          }
        },
        "a572055d22f945febefdfec88dcc5579": {
          "model_module": "@jupyter-widgets/controls",
          "model_name": "HTMLModel",
          "model_module_version": "1.5.0",
          "state": {
            "_dom_classes": [],
            "_model_module": "@jupyter-widgets/controls",
            "_model_module_version": "1.5.0",
            "_model_name": "HTMLModel",
            "_view_count": null,
            "_view_module": "@jupyter-widgets/controls",
            "_view_module_version": "1.5.0",
            "_view_name": "HTMLView",
            "description": "",
            "description_tooltip": null,
            "layout": "IPY_MODEL_c8460a18dc6d4894bf04f595328542e9",
            "placeholder": "​",
            "style": "IPY_MODEL_fba3cfdc42dd4542993425f78e6deadf",
            "value": " 8414/8414 [00:00&lt;00:00, 87536.30 examples/s]"
          }
        },
        "5ffef09268f743bb9f5b81ca22761410": {
          "model_module": "@jupyter-widgets/base",
          "model_name": "LayoutModel",
          "model_module_version": "1.2.0",
          "state": {
            "_model_module": "@jupyter-widgets/base",
            "_model_module_version": "1.2.0",
            "_model_name": "LayoutModel",
            "_view_count": null,
            "_view_module": "@jupyter-widgets/base",
            "_view_module_version": "1.2.0",
            "_view_name": "LayoutView",
            "align_content": null,
            "align_items": null,
            "align_self": null,
            "border": null,
            "bottom": null,
            "display": null,
            "flex": null,
            "flex_flow": null,
            "grid_area": null,
            "grid_auto_columns": null,
            "grid_auto_flow": null,
            "grid_auto_rows": null,
            "grid_column": null,
            "grid_gap": null,
            "grid_row": null,
            "grid_template_areas": null,
            "grid_template_columns": null,
            "grid_template_rows": null,
            "height": null,
            "justify_content": null,
            "justify_items": null,
            "left": null,
            "margin": null,
            "max_height": null,
            "max_width": null,
            "min_height": null,
            "min_width": null,
            "object_fit": null,
            "object_position": null,
            "order": null,
            "overflow": null,
            "overflow_x": null,
            "overflow_y": null,
            "padding": null,
            "right": null,
            "top": null,
            "visibility": null,
            "width": null
          }
        },
        "e179f93e26a94b00b57fdabb68a43d07": {
          "model_module": "@jupyter-widgets/base",
          "model_name": "LayoutModel",
          "model_module_version": "1.2.0",
          "state": {
            "_model_module": "@jupyter-widgets/base",
            "_model_module_version": "1.2.0",
            "_model_name": "LayoutModel",
            "_view_count": null,
            "_view_module": "@jupyter-widgets/base",
            "_view_module_version": "1.2.0",
            "_view_name": "LayoutView",
            "align_content": null,
            "align_items": null,
            "align_self": null,
            "border": null,
            "bottom": null,
            "display": null,
            "flex": null,
            "flex_flow": null,
            "grid_area": null,
            "grid_auto_columns": null,
            "grid_auto_flow": null,
            "grid_auto_rows": null,
            "grid_column": null,
            "grid_gap": null,
            "grid_row": null,
            "grid_template_areas": null,
            "grid_template_columns": null,
            "grid_template_rows": null,
            "height": null,
            "justify_content": null,
            "justify_items": null,
            "left": null,
            "margin": null,
            "max_height": null,
            "max_width": null,
            "min_height": null,
            "min_width": null,
            "object_fit": null,
            "object_position": null,
            "order": null,
            "overflow": null,
            "overflow_x": null,
            "overflow_y": null,
            "padding": null,
            "right": null,
            "top": null,
            "visibility": null,
            "width": null
          }
        },
        "42f0f1133e8d444388a9354cc6cd10bd": {
          "model_module": "@jupyter-widgets/controls",
          "model_name": "DescriptionStyleModel",
          "model_module_version": "1.5.0",
          "state": {
            "_model_module": "@jupyter-widgets/controls",
            "_model_module_version": "1.5.0",
            "_model_name": "DescriptionStyleModel",
            "_view_count": null,
            "_view_module": "@jupyter-widgets/base",
            "_view_module_version": "1.2.0",
            "_view_name": "StyleView",
            "description_width": ""
          }
        },
        "cd02ae7a561349c5900018fc8f67668c": {
          "model_module": "@jupyter-widgets/base",
          "model_name": "LayoutModel",
          "model_module_version": "1.2.0",
          "state": {
            "_model_module": "@jupyter-widgets/base",
            "_model_module_version": "1.2.0",
            "_model_name": "LayoutModel",
            "_view_count": null,
            "_view_module": "@jupyter-widgets/base",
            "_view_module_version": "1.2.0",
            "_view_name": "LayoutView",
            "align_content": null,
            "align_items": null,
            "align_self": null,
            "border": null,
            "bottom": null,
            "display": null,
            "flex": null,
            "flex_flow": null,
            "grid_area": null,
            "grid_auto_columns": null,
            "grid_auto_flow": null,
            "grid_auto_rows": null,
            "grid_column": null,
            "grid_gap": null,
            "grid_row": null,
            "grid_template_areas": null,
            "grid_template_columns": null,
            "grid_template_rows": null,
            "height": null,
            "justify_content": null,
            "justify_items": null,
            "left": null,
            "margin": null,
            "max_height": null,
            "max_width": null,
            "min_height": null,
            "min_width": null,
            "object_fit": null,
            "object_position": null,
            "order": null,
            "overflow": null,
            "overflow_x": null,
            "overflow_y": null,
            "padding": null,
            "right": null,
            "top": null,
            "visibility": null,
            "width": null
          }
        },
        "30e161aca39f4be486d2e4a1c439194a": {
          "model_module": "@jupyter-widgets/controls",
          "model_name": "ProgressStyleModel",
          "model_module_version": "1.5.0",
          "state": {
            "_model_module": "@jupyter-widgets/controls",
            "_model_module_version": "1.5.0",
            "_model_name": "ProgressStyleModel",
            "_view_count": null,
            "_view_module": "@jupyter-widgets/base",
            "_view_module_version": "1.2.0",
            "_view_name": "StyleView",
            "bar_color": null,
            "description_width": ""
          }
        },
        "c8460a18dc6d4894bf04f595328542e9": {
          "model_module": "@jupyter-widgets/base",
          "model_name": "LayoutModel",
          "model_module_version": "1.2.0",
          "state": {
            "_model_module": "@jupyter-widgets/base",
            "_model_module_version": "1.2.0",
            "_model_name": "LayoutModel",
            "_view_count": null,
            "_view_module": "@jupyter-widgets/base",
            "_view_module_version": "1.2.0",
            "_view_name": "LayoutView",
            "align_content": null,
            "align_items": null,
            "align_self": null,
            "border": null,
            "bottom": null,
            "display": null,
            "flex": null,
            "flex_flow": null,
            "grid_area": null,
            "grid_auto_columns": null,
            "grid_auto_flow": null,
            "grid_auto_rows": null,
            "grid_column": null,
            "grid_gap": null,
            "grid_row": null,
            "grid_template_areas": null,
            "grid_template_columns": null,
            "grid_template_rows": null,
            "height": null,
            "justify_content": null,
            "justify_items": null,
            "left": null,
            "margin": null,
            "max_height": null,
            "max_width": null,
            "min_height": null,
            "min_width": null,
            "object_fit": null,
            "object_position": null,
            "order": null,
            "overflow": null,
            "overflow_x": null,
            "overflow_y": null,
            "padding": null,
            "right": null,
            "top": null,
            "visibility": null,
            "width": null
          }
        },
        "fba3cfdc42dd4542993425f78e6deadf": {
          "model_module": "@jupyter-widgets/controls",
          "model_name": "DescriptionStyleModel",
          "model_module_version": "1.5.0",
          "state": {
            "_model_module": "@jupyter-widgets/controls",
            "_model_module_version": "1.5.0",
            "_model_name": "DescriptionStyleModel",
            "_view_count": null,
            "_view_module": "@jupyter-widgets/base",
            "_view_module_version": "1.2.0",
            "_view_name": "StyleView",
            "description_width": ""
          }
        },
        "47703e7d86784b4a8ceb2fe94dd650eb": {
          "model_module": "@jupyter-widgets/controls",
          "model_name": "HBoxModel",
          "model_module_version": "1.5.0",
          "state": {
            "_dom_classes": [],
            "_model_module": "@jupyter-widgets/controls",
            "_model_module_version": "1.5.0",
            "_model_name": "HBoxModel",
            "_view_count": null,
            "_view_module": "@jupyter-widgets/controls",
            "_view_module_version": "1.5.0",
            "_view_name": "HBoxView",
            "box_style": "",
            "children": [
              "IPY_MODEL_79d5c1f5fa96439b99f3b1f60d9fc2e6",
              "IPY_MODEL_2b497807fd2545cc837c533015b79ffb",
              "IPY_MODEL_776519e5896d4903ae77ea963d10ea2d"
            ],
            "layout": "IPY_MODEL_dba9aa22f2fa4a348ff7b1c32e900bc3"
          }
        },
        "79d5c1f5fa96439b99f3b1f60d9fc2e6": {
          "model_module": "@jupyter-widgets/controls",
          "model_name": "HTMLModel",
          "model_module_version": "1.5.0",
          "state": {
            "_dom_classes": [],
            "_model_module": "@jupyter-widgets/controls",
            "_model_module_version": "1.5.0",
            "_model_name": "HTMLModel",
            "_view_count": null,
            "_view_module": "@jupyter-widgets/controls",
            "_view_module_version": "1.5.0",
            "_view_name": "HTMLView",
            "description": "",
            "description_tooltip": null,
            "layout": "IPY_MODEL_8c505413a22c49bfa7263bc05c5be06d",
            "placeholder": "​",
            "style": "IPY_MODEL_c280d3918ae24fdabd9f299930684da8",
            "value": "Map: 100%"
          }
        },
        "2b497807fd2545cc837c533015b79ffb": {
          "model_module": "@jupyter-widgets/controls",
          "model_name": "FloatProgressModel",
          "model_module_version": "1.5.0",
          "state": {
            "_dom_classes": [],
            "_model_module": "@jupyter-widgets/controls",
            "_model_module_version": "1.5.0",
            "_model_name": "FloatProgressModel",
            "_view_count": null,
            "_view_module": "@jupyter-widgets/controls",
            "_view_module_version": "1.5.0",
            "_view_name": "ProgressView",
            "bar_style": "success",
            "description": "",
            "description_tooltip": null,
            "layout": "IPY_MODEL_03533a4e62cc4d5fa2e2761ee29d049b",
            "max": 33539,
            "min": 0,
            "orientation": "horizontal",
            "style": "IPY_MODEL_0b7a99aae4fb4c1b8d350042a6ecb679",
            "value": 33539
          }
        },
        "776519e5896d4903ae77ea963d10ea2d": {
          "model_module": "@jupyter-widgets/controls",
          "model_name": "HTMLModel",
          "model_module_version": "1.5.0",
          "state": {
            "_dom_classes": [],
            "_model_module": "@jupyter-widgets/controls",
            "_model_module_version": "1.5.0",
            "_model_name": "HTMLModel",
            "_view_count": null,
            "_view_module": "@jupyter-widgets/controls",
            "_view_module_version": "1.5.0",
            "_view_name": "HTMLView",
            "description": "",
            "description_tooltip": null,
            "layout": "IPY_MODEL_081034b38e3b4cec87aa14b1e9652556",
            "placeholder": "​",
            "style": "IPY_MODEL_6f9a6ee58b504b11b8795a7270634ee9",
            "value": " 33539/33539 [00:03&lt;00:00, 8338.56 examples/s]"
          }
        },
        "dba9aa22f2fa4a348ff7b1c32e900bc3": {
          "model_module": "@jupyter-widgets/base",
          "model_name": "LayoutModel",
          "model_module_version": "1.2.0",
          "state": {
            "_model_module": "@jupyter-widgets/base",
            "_model_module_version": "1.2.0",
            "_model_name": "LayoutModel",
            "_view_count": null,
            "_view_module": "@jupyter-widgets/base",
            "_view_module_version": "1.2.0",
            "_view_name": "LayoutView",
            "align_content": null,
            "align_items": null,
            "align_self": null,
            "border": null,
            "bottom": null,
            "display": null,
            "flex": null,
            "flex_flow": null,
            "grid_area": null,
            "grid_auto_columns": null,
            "grid_auto_flow": null,
            "grid_auto_rows": null,
            "grid_column": null,
            "grid_gap": null,
            "grid_row": null,
            "grid_template_areas": null,
            "grid_template_columns": null,
            "grid_template_rows": null,
            "height": null,
            "justify_content": null,
            "justify_items": null,
            "left": null,
            "margin": null,
            "max_height": null,
            "max_width": null,
            "min_height": null,
            "min_width": null,
            "object_fit": null,
            "object_position": null,
            "order": null,
            "overflow": null,
            "overflow_x": null,
            "overflow_y": null,
            "padding": null,
            "right": null,
            "top": null,
            "visibility": null,
            "width": null
          }
        },
        "8c505413a22c49bfa7263bc05c5be06d": {
          "model_module": "@jupyter-widgets/base",
          "model_name": "LayoutModel",
          "model_module_version": "1.2.0",
          "state": {
            "_model_module": "@jupyter-widgets/base",
            "_model_module_version": "1.2.0",
            "_model_name": "LayoutModel",
            "_view_count": null,
            "_view_module": "@jupyter-widgets/base",
            "_view_module_version": "1.2.0",
            "_view_name": "LayoutView",
            "align_content": null,
            "align_items": null,
            "align_self": null,
            "border": null,
            "bottom": null,
            "display": null,
            "flex": null,
            "flex_flow": null,
            "grid_area": null,
            "grid_auto_columns": null,
            "grid_auto_flow": null,
            "grid_auto_rows": null,
            "grid_column": null,
            "grid_gap": null,
            "grid_row": null,
            "grid_template_areas": null,
            "grid_template_columns": null,
            "grid_template_rows": null,
            "height": null,
            "justify_content": null,
            "justify_items": null,
            "left": null,
            "margin": null,
            "max_height": null,
            "max_width": null,
            "min_height": null,
            "min_width": null,
            "object_fit": null,
            "object_position": null,
            "order": null,
            "overflow": null,
            "overflow_x": null,
            "overflow_y": null,
            "padding": null,
            "right": null,
            "top": null,
            "visibility": null,
            "width": null
          }
        },
        "c280d3918ae24fdabd9f299930684da8": {
          "model_module": "@jupyter-widgets/controls",
          "model_name": "DescriptionStyleModel",
          "model_module_version": "1.5.0",
          "state": {
            "_model_module": "@jupyter-widgets/controls",
            "_model_module_version": "1.5.0",
            "_model_name": "DescriptionStyleModel",
            "_view_count": null,
            "_view_module": "@jupyter-widgets/base",
            "_view_module_version": "1.2.0",
            "_view_name": "StyleView",
            "description_width": ""
          }
        },
        "03533a4e62cc4d5fa2e2761ee29d049b": {
          "model_module": "@jupyter-widgets/base",
          "model_name": "LayoutModel",
          "model_module_version": "1.2.0",
          "state": {
            "_model_module": "@jupyter-widgets/base",
            "_model_module_version": "1.2.0",
            "_model_name": "LayoutModel",
            "_view_count": null,
            "_view_module": "@jupyter-widgets/base",
            "_view_module_version": "1.2.0",
            "_view_name": "LayoutView",
            "align_content": null,
            "align_items": null,
            "align_self": null,
            "border": null,
            "bottom": null,
            "display": null,
            "flex": null,
            "flex_flow": null,
            "grid_area": null,
            "grid_auto_columns": null,
            "grid_auto_flow": null,
            "grid_auto_rows": null,
            "grid_column": null,
            "grid_gap": null,
            "grid_row": null,
            "grid_template_areas": null,
            "grid_template_columns": null,
            "grid_template_rows": null,
            "height": null,
            "justify_content": null,
            "justify_items": null,
            "left": null,
            "margin": null,
            "max_height": null,
            "max_width": null,
            "min_height": null,
            "min_width": null,
            "object_fit": null,
            "object_position": null,
            "order": null,
            "overflow": null,
            "overflow_x": null,
            "overflow_y": null,
            "padding": null,
            "right": null,
            "top": null,
            "visibility": null,
            "width": null
          }
        },
        "0b7a99aae4fb4c1b8d350042a6ecb679": {
          "model_module": "@jupyter-widgets/controls",
          "model_name": "ProgressStyleModel",
          "model_module_version": "1.5.0",
          "state": {
            "_model_module": "@jupyter-widgets/controls",
            "_model_module_version": "1.5.0",
            "_model_name": "ProgressStyleModel",
            "_view_count": null,
            "_view_module": "@jupyter-widgets/base",
            "_view_module_version": "1.2.0",
            "_view_name": "StyleView",
            "bar_color": null,
            "description_width": ""
          }
        },
        "081034b38e3b4cec87aa14b1e9652556": {
          "model_module": "@jupyter-widgets/base",
          "model_name": "LayoutModel",
          "model_module_version": "1.2.0",
          "state": {
            "_model_module": "@jupyter-widgets/base",
            "_model_module_version": "1.2.0",
            "_model_name": "LayoutModel",
            "_view_count": null,
            "_view_module": "@jupyter-widgets/base",
            "_view_module_version": "1.2.0",
            "_view_name": "LayoutView",
            "align_content": null,
            "align_items": null,
            "align_self": null,
            "border": null,
            "bottom": null,
            "display": null,
            "flex": null,
            "flex_flow": null,
            "grid_area": null,
            "grid_auto_columns": null,
            "grid_auto_flow": null,
            "grid_auto_rows": null,
            "grid_column": null,
            "grid_gap": null,
            "grid_row": null,
            "grid_template_areas": null,
            "grid_template_columns": null,
            "grid_template_rows": null,
            "height": null,
            "justify_content": null,
            "justify_items": null,
            "left": null,
            "margin": null,
            "max_height": null,
            "max_width": null,
            "min_height": null,
            "min_width": null,
            "object_fit": null,
            "object_position": null,
            "order": null,
            "overflow": null,
            "overflow_x": null,
            "overflow_y": null,
            "padding": null,
            "right": null,
            "top": null,
            "visibility": null,
            "width": null
          }
        },
        "6f9a6ee58b504b11b8795a7270634ee9": {
          "model_module": "@jupyter-widgets/controls",
          "model_name": "DescriptionStyleModel",
          "model_module_version": "1.5.0",
          "state": {
            "_model_module": "@jupyter-widgets/controls",
            "_model_module_version": "1.5.0",
            "_model_name": "DescriptionStyleModel",
            "_view_count": null,
            "_view_module": "@jupyter-widgets/base",
            "_view_module_version": "1.2.0",
            "_view_name": "StyleView",
            "description_width": ""
          }
        },
        "273cba2a0fee4685ac1664ede1c1d77d": {
          "model_module": "@jupyter-widgets/controls",
          "model_name": "HBoxModel",
          "model_module_version": "1.5.0",
          "state": {
            "_dom_classes": [],
            "_model_module": "@jupyter-widgets/controls",
            "_model_module_version": "1.5.0",
            "_model_name": "HBoxModel",
            "_view_count": null,
            "_view_module": "@jupyter-widgets/controls",
            "_view_module_version": "1.5.0",
            "_view_name": "HBoxView",
            "box_style": "",
            "children": [
              "IPY_MODEL_6a54746ad8614905b50fa1aa263dabe6",
              "IPY_MODEL_61b985508c02415a9ef672c8af099586",
              "IPY_MODEL_5f6054b8328f48b0a32dc4bf65ebdfd4"
            ],
            "layout": "IPY_MODEL_cd21bf901fed4b58ba1cf8f2f3ef094d"
          }
        },
        "6a54746ad8614905b50fa1aa263dabe6": {
          "model_module": "@jupyter-widgets/controls",
          "model_name": "HTMLModel",
          "model_module_version": "1.5.0",
          "state": {
            "_dom_classes": [],
            "_model_module": "@jupyter-widgets/controls",
            "_model_module_version": "1.5.0",
            "_model_name": "HTMLModel",
            "_view_count": null,
            "_view_module": "@jupyter-widgets/controls",
            "_view_module_version": "1.5.0",
            "_view_name": "HTMLView",
            "description": "",
            "description_tooltip": null,
            "layout": "IPY_MODEL_2ccf3664cb064daeb563289948607ed3",
            "placeholder": "​",
            "style": "IPY_MODEL_f66b08a080bd4c9ab1e6c85fd5b7bd2d",
            "value": "Map: 100%"
          }
        },
        "61b985508c02415a9ef672c8af099586": {
          "model_module": "@jupyter-widgets/controls",
          "model_name": "FloatProgressModel",
          "model_module_version": "1.5.0",
          "state": {
            "_dom_classes": [],
            "_model_module": "@jupyter-widgets/controls",
            "_model_module_version": "1.5.0",
            "_model_name": "FloatProgressModel",
            "_view_count": null,
            "_view_module": "@jupyter-widgets/controls",
            "_view_module_version": "1.5.0",
            "_view_name": "ProgressView",
            "bar_style": "success",
            "description": "",
            "description_tooltip": null,
            "layout": "IPY_MODEL_0c5d7e2385a3493192cfe7b83f621680",
            "max": 8392,
            "min": 0,
            "orientation": "horizontal",
            "style": "IPY_MODEL_997a92769990437fb627512299f80432",
            "value": 8392
          }
        },
        "5f6054b8328f48b0a32dc4bf65ebdfd4": {
          "model_module": "@jupyter-widgets/controls",
          "model_name": "HTMLModel",
          "model_module_version": "1.5.0",
          "state": {
            "_dom_classes": [],
            "_model_module": "@jupyter-widgets/controls",
            "_model_module_version": "1.5.0",
            "_model_name": "HTMLModel",
            "_view_count": null,
            "_view_module": "@jupyter-widgets/controls",
            "_view_module_version": "1.5.0",
            "_view_name": "HTMLView",
            "description": "",
            "description_tooltip": null,
            "layout": "IPY_MODEL_6e67ca0c84cc40d89a8197e7a559a2ae",
            "placeholder": "​",
            "style": "IPY_MODEL_d386b058c745407d99a9f1864535a8b4",
            "value": " 8392/8392 [00:01&lt;00:00, 6685.65 examples/s]"
          }
        },
        "cd21bf901fed4b58ba1cf8f2f3ef094d": {
          "model_module": "@jupyter-widgets/base",
          "model_name": "LayoutModel",
          "model_module_version": "1.2.0",
          "state": {
            "_model_module": "@jupyter-widgets/base",
            "_model_module_version": "1.2.0",
            "_model_name": "LayoutModel",
            "_view_count": null,
            "_view_module": "@jupyter-widgets/base",
            "_view_module_version": "1.2.0",
            "_view_name": "LayoutView",
            "align_content": null,
            "align_items": null,
            "align_self": null,
            "border": null,
            "bottom": null,
            "display": null,
            "flex": null,
            "flex_flow": null,
            "grid_area": null,
            "grid_auto_columns": null,
            "grid_auto_flow": null,
            "grid_auto_rows": null,
            "grid_column": null,
            "grid_gap": null,
            "grid_row": null,
            "grid_template_areas": null,
            "grid_template_columns": null,
            "grid_template_rows": null,
            "height": null,
            "justify_content": null,
            "justify_items": null,
            "left": null,
            "margin": null,
            "max_height": null,
            "max_width": null,
            "min_height": null,
            "min_width": null,
            "object_fit": null,
            "object_position": null,
            "order": null,
            "overflow": null,
            "overflow_x": null,
            "overflow_y": null,
            "padding": null,
            "right": null,
            "top": null,
            "visibility": null,
            "width": null
          }
        },
        "2ccf3664cb064daeb563289948607ed3": {
          "model_module": "@jupyter-widgets/base",
          "model_name": "LayoutModel",
          "model_module_version": "1.2.0",
          "state": {
            "_model_module": "@jupyter-widgets/base",
            "_model_module_version": "1.2.0",
            "_model_name": "LayoutModel",
            "_view_count": null,
            "_view_module": "@jupyter-widgets/base",
            "_view_module_version": "1.2.0",
            "_view_name": "LayoutView",
            "align_content": null,
            "align_items": null,
            "align_self": null,
            "border": null,
            "bottom": null,
            "display": null,
            "flex": null,
            "flex_flow": null,
            "grid_area": null,
            "grid_auto_columns": null,
            "grid_auto_flow": null,
            "grid_auto_rows": null,
            "grid_column": null,
            "grid_gap": null,
            "grid_row": null,
            "grid_template_areas": null,
            "grid_template_columns": null,
            "grid_template_rows": null,
            "height": null,
            "justify_content": null,
            "justify_items": null,
            "left": null,
            "margin": null,
            "max_height": null,
            "max_width": null,
            "min_height": null,
            "min_width": null,
            "object_fit": null,
            "object_position": null,
            "order": null,
            "overflow": null,
            "overflow_x": null,
            "overflow_y": null,
            "padding": null,
            "right": null,
            "top": null,
            "visibility": null,
            "width": null
          }
        },
        "f66b08a080bd4c9ab1e6c85fd5b7bd2d": {
          "model_module": "@jupyter-widgets/controls",
          "model_name": "DescriptionStyleModel",
          "model_module_version": "1.5.0",
          "state": {
            "_model_module": "@jupyter-widgets/controls",
            "_model_module_version": "1.5.0",
            "_model_name": "DescriptionStyleModel",
            "_view_count": null,
            "_view_module": "@jupyter-widgets/base",
            "_view_module_version": "1.2.0",
            "_view_name": "StyleView",
            "description_width": ""
          }
        },
        "0c5d7e2385a3493192cfe7b83f621680": {
          "model_module": "@jupyter-widgets/base",
          "model_name": "LayoutModel",
          "model_module_version": "1.2.0",
          "state": {
            "_model_module": "@jupyter-widgets/base",
            "_model_module_version": "1.2.0",
            "_model_name": "LayoutModel",
            "_view_count": null,
            "_view_module": "@jupyter-widgets/base",
            "_view_module_version": "1.2.0",
            "_view_name": "LayoutView",
            "align_content": null,
            "align_items": null,
            "align_self": null,
            "border": null,
            "bottom": null,
            "display": null,
            "flex": null,
            "flex_flow": null,
            "grid_area": null,
            "grid_auto_columns": null,
            "grid_auto_flow": null,
            "grid_auto_rows": null,
            "grid_column": null,
            "grid_gap": null,
            "grid_row": null,
            "grid_template_areas": null,
            "grid_template_columns": null,
            "grid_template_rows": null,
            "height": null,
            "justify_content": null,
            "justify_items": null,
            "left": null,
            "margin": null,
            "max_height": null,
            "max_width": null,
            "min_height": null,
            "min_width": null,
            "object_fit": null,
            "object_position": null,
            "order": null,
            "overflow": null,
            "overflow_x": null,
            "overflow_y": null,
            "padding": null,
            "right": null,
            "top": null,
            "visibility": null,
            "width": null
          }
        },
        "997a92769990437fb627512299f80432": {
          "model_module": "@jupyter-widgets/controls",
          "model_name": "ProgressStyleModel",
          "model_module_version": "1.5.0",
          "state": {
            "_model_module": "@jupyter-widgets/controls",
            "_model_module_version": "1.5.0",
            "_model_name": "ProgressStyleModel",
            "_view_count": null,
            "_view_module": "@jupyter-widgets/base",
            "_view_module_version": "1.2.0",
            "_view_name": "StyleView",
            "bar_color": null,
            "description_width": ""
          }
        },
        "6e67ca0c84cc40d89a8197e7a559a2ae": {
          "model_module": "@jupyter-widgets/base",
          "model_name": "LayoutModel",
          "model_module_version": "1.2.0",
          "state": {
            "_model_module": "@jupyter-widgets/base",
            "_model_module_version": "1.2.0",
            "_model_name": "LayoutModel",
            "_view_count": null,
            "_view_module": "@jupyter-widgets/base",
            "_view_module_version": "1.2.0",
            "_view_name": "LayoutView",
            "align_content": null,
            "align_items": null,
            "align_self": null,
            "border": null,
            "bottom": null,
            "display": null,
            "flex": null,
            "flex_flow": null,
            "grid_area": null,
            "grid_auto_columns": null,
            "grid_auto_flow": null,
            "grid_auto_rows": null,
            "grid_column": null,
            "grid_gap": null,
            "grid_row": null,
            "grid_template_areas": null,
            "grid_template_columns": null,
            "grid_template_rows": null,
            "height": null,
            "justify_content": null,
            "justify_items": null,
            "left": null,
            "margin": null,
            "max_height": null,
            "max_width": null,
            "min_height": null,
            "min_width": null,
            "object_fit": null,
            "object_position": null,
            "order": null,
            "overflow": null,
            "overflow_x": null,
            "overflow_y": null,
            "padding": null,
            "right": null,
            "top": null,
            "visibility": null,
            "width": null
          }
        },
        "d386b058c745407d99a9f1864535a8b4": {
          "model_module": "@jupyter-widgets/controls",
          "model_name": "DescriptionStyleModel",
          "model_module_version": "1.5.0",
          "state": {
            "_model_module": "@jupyter-widgets/controls",
            "_model_module_version": "1.5.0",
            "_model_name": "DescriptionStyleModel",
            "_view_count": null,
            "_view_module": "@jupyter-widgets/base",
            "_view_module_version": "1.2.0",
            "_view_name": "StyleView",
            "description_width": ""
          }
        }
      }
    }
  },
  "nbformat": 4,
  "nbformat_minor": 5
}