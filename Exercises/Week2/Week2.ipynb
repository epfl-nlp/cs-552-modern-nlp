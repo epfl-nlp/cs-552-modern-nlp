{
 "cells": [
  {
   "cell_type": "markdown",
   "id": "3275ace2",
   "metadata": {
    "id": "3275ace2"
   },
   "source": [
    "# 📚  Exercise Session - Week 2\n",
    "\n",
    "Welcome to Week 2 exercise's session of CS552-Modern NLP!\n",
    "\n",
    "\n",
    "> **What will be covered:**\n",
    "1. [**TASK A:** N-gram Language Models](#ngram_lm)\n",
    "    - [Unigram Language Model](#unigram_lm)\n",
    "    - [Bi-gram Language Model](#bigram_lm)\n",
    "    - [Tri-gram Language Model](#trigram_lm)\n",
    "     \n",
    "2. [**TASK B:** Neural Language Models](#neural_lm)\n",
    "    - [Fixed-Window Neural Language Model](#fixed_window_lm)\n",
    "    - [RNN-based Language Model](#rnn_lm)\n",
    "\n",
    "> **By the end of the session you will be able to:**\n",
    "> - ✅  Compute and interpret the perplexity of a language model\n",
    "> - ✅  Implement N-gram language models for N=1,2,3\n",
    "> - ✅  Implement, train, and evaluate a fixed window language model\n",
    "> - ✅  Evaluate an RNN language model\n",
    "> - ✅  Understand the advantages and disadvantages of each of the above models"
   ]
  },
  {
   "cell_type": "code",
   "execution_count": 53,
   "id": "7BChR8cinbA8",
   "metadata": {
    "id": "7BChR8cinbA8"
   },
   "outputs": [],
   "source": [
    "# Connect to the exercise folder if you're using Colab\n",
    "# from google.colab import drive\n",
    "# drive.mount('/content/drive')"
   ]
  },
  {
   "cell_type": "code",
   "execution_count": 54,
   "id": "98eb6b6c",
   "metadata": {
    "id": "98eb6b6c"
   },
   "outputs": [
    {
     "name": "stdout",
     "output_type": "stream",
     "text": [
      "[WinError 2] Le fichier spécifié est introuvable: 'PATH_TO_EXERCISE_FOLDER'\n",
      "c:\\Users\\sebge\\source\\cs-552-modern-nlp\\Exercises\\Week2\n",
      "Looking in indexes: https://pypi.org/simple, https://pypi.ngc.nvidia.com\n",
      "Requirement already satisfied: torch in c:\\users\\sebge\\miniconda3\\envs\\modern_nlp\\lib\\site-packages (from -r requirements.txt (line 1)) (2.6.0+cu126)\n",
      "Requirement already satisfied: numpy in c:\\users\\sebge\\miniconda3\\envs\\modern_nlp\\lib\\site-packages (from -r requirements.txt (line 2)) (1.26.4)\n",
      "Requirement already satisfied: datasets in c:\\users\\sebge\\miniconda3\\envs\\modern_nlp\\lib\\site-packages (from -r requirements.txt (line 3)) (2.19.1)\n",
      "Requirement already satisfied: filelock in c:\\users\\sebge\\miniconda3\\envs\\modern_nlp\\lib\\site-packages (from torch->-r requirements.txt (line 1)) (3.13.1)\n",
      "Requirement already satisfied: typing-extensions>=4.10.0 in c:\\users\\sebge\\miniconda3\\envs\\modern_nlp\\lib\\site-packages (from torch->-r requirements.txt (line 1)) (4.12.2)\n",
      "Requirement already satisfied: networkx in c:\\users\\sebge\\miniconda3\\envs\\modern_nlp\\lib\\site-packages (from torch->-r requirements.txt (line 1)) (3.3)\n",
      "Requirement already satisfied: jinja2 in c:\\users\\sebge\\miniconda3\\envs\\modern_nlp\\lib\\site-packages (from torch->-r requirements.txt (line 1)) (3.1.4)\n",
      "Requirement already satisfied: fsspec in c:\\users\\sebge\\miniconda3\\envs\\modern_nlp\\lib\\site-packages (from torch->-r requirements.txt (line 1)) (2024.3.1)\n",
      "Requirement already satisfied: sympy==1.13.1 in c:\\users\\sebge\\miniconda3\\envs\\modern_nlp\\lib\\site-packages (from torch->-r requirements.txt (line 1)) (1.13.1)\n",
      "Requirement already satisfied: mpmath<1.4,>=1.1.0 in c:\\users\\sebge\\miniconda3\\envs\\modern_nlp\\lib\\site-packages (from sympy==1.13.1->torch->-r requirements.txt (line 1)) (1.3.0)\n",
      "Requirement already satisfied: pyarrow>=12.0.0 in c:\\users\\sebge\\miniconda3\\envs\\modern_nlp\\lib\\site-packages (from datasets->-r requirements.txt (line 3)) (19.0.0)\n",
      "Requirement already satisfied: dill<0.3.9,>=0.3.0 in c:\\users\\sebge\\miniconda3\\envs\\modern_nlp\\lib\\site-packages (from datasets->-r requirements.txt (line 3)) (0.3.8)\n",
      "Requirement already satisfied: pandas in c:\\users\\sebge\\miniconda3\\envs\\modern_nlp\\lib\\site-packages (from datasets->-r requirements.txt (line 3)) (2.2.3)\n",
      "Requirement already satisfied: requests>=2.19.0 in c:\\users\\sebge\\miniconda3\\envs\\modern_nlp\\lib\\site-packages (from datasets->-r requirements.txt (line 3)) (2.32.3)\n",
      "Requirement already satisfied: tqdm>=4.62.1 in c:\\users\\sebge\\miniconda3\\envs\\modern_nlp\\lib\\site-packages (from datasets->-r requirements.txt (line 3)) (4.67.1)\n",
      "Requirement already satisfied: xxhash in c:\\users\\sebge\\miniconda3\\envs\\modern_nlp\\lib\\site-packages (from datasets->-r requirements.txt (line 3)) (3.5.0)\n",
      "Requirement already satisfied: multiprocess in c:\\users\\sebge\\miniconda3\\envs\\modern_nlp\\lib\\site-packages (from datasets->-r requirements.txt (line 3)) (0.70.15)\n",
      "Requirement already satisfied: aiohttp in c:\\users\\sebge\\miniconda3\\envs\\modern_nlp\\lib\\site-packages (from datasets->-r requirements.txt (line 3)) (3.11.10)\n",
      "Requirement already satisfied: huggingface-hub>=0.21.2 in c:\\users\\sebge\\miniconda3\\envs\\modern_nlp\\lib\\site-packages (from datasets->-r requirements.txt (line 3)) (0.24.6)\n",
      "Requirement already satisfied: packaging in c:\\users\\sebge\\miniconda3\\envs\\modern_nlp\\lib\\site-packages (from datasets->-r requirements.txt (line 3)) (24.2)\n",
      "Requirement already satisfied: pyyaml>=5.1 in c:\\users\\sebge\\miniconda3\\envs\\modern_nlp\\lib\\site-packages (from datasets->-r requirements.txt (line 3)) (6.0.2)\n",
      "Requirement already satisfied: aiohappyeyeballs>=2.3.0 in c:\\users\\sebge\\miniconda3\\envs\\modern_nlp\\lib\\site-packages (from aiohttp->datasets->-r requirements.txt (line 3)) (2.4.4)\n",
      "Requirement already satisfied: aiosignal>=1.1.2 in c:\\users\\sebge\\miniconda3\\envs\\modern_nlp\\lib\\site-packages (from aiohttp->datasets->-r requirements.txt (line 3)) (1.2.0)\n",
      "Requirement already satisfied: attrs>=17.3.0 in c:\\users\\sebge\\miniconda3\\envs\\modern_nlp\\lib\\site-packages (from aiohttp->datasets->-r requirements.txt (line 3)) (24.3.0)\n",
      "Requirement already satisfied: frozenlist>=1.1.1 in c:\\users\\sebge\\miniconda3\\envs\\modern_nlp\\lib\\site-packages (from aiohttp->datasets->-r requirements.txt (line 3)) (1.5.0)\n",
      "Requirement already satisfied: multidict<7.0,>=4.5 in c:\\users\\sebge\\miniconda3\\envs\\modern_nlp\\lib\\site-packages (from aiohttp->datasets->-r requirements.txt (line 3)) (6.1.0)\n",
      "Requirement already satisfied: propcache>=0.2.0 in c:\\users\\sebge\\miniconda3\\envs\\modern_nlp\\lib\\site-packages (from aiohttp->datasets->-r requirements.txt (line 3)) (0.2.0)\n",
      "Requirement already satisfied: yarl<2.0,>=1.17.0 in c:\\users\\sebge\\miniconda3\\envs\\modern_nlp\\lib\\site-packages (from aiohttp->datasets->-r requirements.txt (line 3)) (1.18.0)\n",
      "Requirement already satisfied: async-timeout<6.0,>=4.0 in c:\\users\\sebge\\miniconda3\\envs\\modern_nlp\\lib\\site-packages (from aiohttp->datasets->-r requirements.txt (line 3)) (5.0.1)\n",
      "Requirement already satisfied: charset-normalizer<4,>=2 in c:\\users\\sebge\\miniconda3\\envs\\modern_nlp\\lib\\site-packages (from requests>=2.19.0->datasets->-r requirements.txt (line 3)) (3.3.2)\n",
      "Requirement already satisfied: idna<4,>=2.5 in c:\\users\\sebge\\miniconda3\\envs\\modern_nlp\\lib\\site-packages (from requests>=2.19.0->datasets->-r requirements.txt (line 3)) (3.10)\n",
      "Requirement already satisfied: urllib3<3,>=1.21.1 in c:\\users\\sebge\\miniconda3\\envs\\modern_nlp\\lib\\site-packages (from requests>=2.19.0->datasets->-r requirements.txt (line 3)) (2.3.0)\n",
      "Requirement already satisfied: certifi>=2017.4.17 in c:\\users\\sebge\\miniconda3\\envs\\modern_nlp\\lib\\site-packages (from requests>=2.19.0->datasets->-r requirements.txt (line 3)) (2025.1.31)\n",
      "Requirement already satisfied: colorama in c:\\users\\sebge\\miniconda3\\envs\\modern_nlp\\lib\\site-packages (from tqdm>=4.62.1->datasets->-r requirements.txt (line 3)) (0.4.6)\n",
      "Requirement already satisfied: MarkupSafe>=2.0 in c:\\users\\sebge\\miniconda3\\envs\\modern_nlp\\lib\\site-packages (from jinja2->torch->-r requirements.txt (line 1)) (2.1.5)\n",
      "Requirement already satisfied: python-dateutil>=2.8.2 in c:\\users\\sebge\\miniconda3\\envs\\modern_nlp\\lib\\site-packages (from pandas->datasets->-r requirements.txt (line 3)) (2.9.0.post0)\n",
      "Requirement already satisfied: pytz>=2020.1 in c:\\users\\sebge\\miniconda3\\envs\\modern_nlp\\lib\\site-packages (from pandas->datasets->-r requirements.txt (line 3)) (2024.1)\n",
      "Requirement already satisfied: tzdata>=2022.7 in c:\\users\\sebge\\miniconda3\\envs\\modern_nlp\\lib\\site-packages (from pandas->datasets->-r requirements.txt (line 3)) (2023.3)\n",
      "Requirement already satisfied: six>=1.5 in c:\\users\\sebge\\miniconda3\\envs\\modern_nlp\\lib\\site-packages (from python-dateutil>=2.8.2->pandas->datasets->-r requirements.txt (line 3)) (1.16.0)\n"
     ]
    }
   ],
   "source": [
    "# install the libraries if needed using the requirements.txt file\n",
    "\n",
    "%cd PATH_TO_EXERCISE_FOLDER\n",
    "!pip install -r requirements.txt"
   ]
  },
  {
   "cell_type": "markdown",
   "id": "272c0a7c",
   "metadata": {
    "id": "272c0a7c"
   },
   "source": [
    "<a name=\"ngram_lm\"></a>\n",
    "## 1. Task A: N-gram Language Models"
   ]
  },
  {
   "cell_type": "markdown",
   "id": "85c137c6",
   "metadata": {
    "id": "85c137c6"
   },
   "source": [
    "\n",
    "In this exercise, we will better understand the functioning of different types of (non-neural) language modeling, namely,  Unigram LM, Bi-gram LM, and Tri-gram LM."
   ]
  },
  {
   "cell_type": "markdown",
   "id": "066c0427",
   "metadata": {
    "id": "066c0427"
   },
   "source": [
    "### 1.1 Unigram Language Model <a name=\"unigram_lm\"></a>\n",
    "In the simple Unigram language model, we pick/generate next token independent of the previous token. In other words, during the generation, we pick the tokens according to the token probability. Therefore, for an arbitrary sequence $x_1x_2~...x_n$, its respective probability becomes:\n",
    "$$p(x_1x_2~...x_n) = \\Pi_{i=1} ^n p(x_i)$$\n",
    "Let's use an unsupervised dataset (raw corpus) to evaluate this model's perplexity. We use Huggingface's `datasets` library to download needed datasets.\n",
    "\n",
    "\n",
    "Here we use the `Penn Treebank` dataset, featuring a million words of 1989 Wall Street Journal material. The rare words in this version are already replaced with `<unk>` token. The numbers are also replaced with a special token. This token replacement helps us to end up with a more reasonable vocabulary size to work with.\n"
   ]
  },
  {
   "cell_type": "code",
   "execution_count": 1,
   "id": "69afb9de",
   "metadata": {
    "id": "69afb9de",
    "scrolled": true
   },
   "outputs": [
    {
     "name": "stderr",
     "output_type": "stream",
     "text": [
      "c:\\Users\\sebge\\miniconda3\\envs\\modern_nlp\\lib\\site-packages\\tqdm\\auto.py:21: TqdmWarning: IProgress not found. Please update jupyter and ipywidgets. See https://ipywidgets.readthedocs.io/en/stable/user_install.html\n",
      "  from .autonotebook import tqdm as notebook_tqdm\n"
     ]
    }
   ],
   "source": [
    "import torch\n",
    "import datasets\n",
    "import numpy as np\n",
    "from datasets import load_dataset\n",
    "\n",
    "ptb_dataset = load_dataset(\"ptb_text_only\", split=\"train\", trust_remote_code=True)\n",
    "\n",
    "# splitting dataset in train/test (to be later used for language model evaluation)\n",
    "ptb_dataset = ptb_dataset.train_test_split(test_size=0.2, seed=1)\n",
    "ptb_train, ptb_test = ptb_dataset['train'], ptb_dataset['test']"
   ]
  },
  {
   "cell_type": "markdown",
   "id": "20589cd0",
   "metadata": {
    "id": "20589cd0"
   },
   "source": [
    "#### Let's have a look at a few samples of the training dataset (and also the structure of the dataset)"
   ]
  },
  {
   "cell_type": "code",
   "execution_count": 2,
   "id": "b6ceb684",
   "metadata": {
    "id": "b6ceb684"
   },
   "outputs": [
    {
     "name": "stdout",
     "output_type": "stream",
     "text": [
      "{'sentence': \"a former executive agreed that the departures do n't reflect major problems adding if you see any company that grows as fast as reebok did it is going to have people coming and going\"}\n",
      "\n",
      "{'sentence': 'with talk today of a second economic <unk> in west germany east germany no longer can content itself with being the economic star in a loser league'}\n",
      "\n",
      "{'sentence': 'transportation secretary sam skinner who earlier fueled the anti-takeover fires with his <unk> attacks on foreign investment in u.s. carriers now says the bill would further <unk> the jittery capital markets'}\n"
     ]
    }
   ],
   "source": [
    "print(f\"{ptb_train[0]}\\n\\n{ptb_train[1]}\\n\\n{ptb_train[2]}\")"
   ]
  },
  {
   "cell_type": "markdown",
   "id": "07207b13",
   "metadata": {
    "id": "07207b13"
   },
   "source": [
    "During generation with a given language model, we often need to have a `<stop>` token in our vocabulary to terminate the generation of a given sentence/paragraph. In this dataset, every sample is a sentence, and the `<stop>` token should be added to the end of every sample (i.e., end of sentence).\n",
    "\n",
    "#### Create a new train/test dataset starting from `ptb_train` and `ptb_test` that has a `<stop>` at the end of each sentence. (Note: do not change the structure of the datasets objects, and just change the respective sentences as discussed).\n",
    "Hint: use the `.map()` functionality of the `datasets` package (read more [here](https://huggingface.co/docs/datasets/process#map]))."
   ]
  },
  {
   "cell_type": "code",
   "execution_count": 3,
   "id": "aa1b7b70",
   "metadata": {
    "id": "aa1b7b70"
   },
   "outputs": [],
   "source": [
    "def add_stop_token(input_sample: dict):\n",
    "    '''\n",
    "    args:\n",
    "        input_sample: a dict representing a sample of the dataset. (look above for the dict struture)\n",
    "    output:\n",
    "        modified_sample: modified dict adding <stop> at the end of each sentence.\n",
    "    '''\n",
    "    # TODO: add `<stop>` token at the end of each sentence\n",
    "    # YOUR CODE HERE\n",
    "    modified_sample = input_sample\n",
    "    modified_sample['sentence'] = modified_sample['sentence'] + ' <stop>'\n",
    "\n",
    "    return modified_sample\n",
    "\n",
    "# TODO: apply `add_stop_token` function in-place on ptb_train and ptb_test datasets\n",
    "ptb_train = ptb_train.map(add_stop_token)\n",
    "ptb_test = ptb_test.map(add_stop_token)"
   ]
  },
  {
   "cell_type": "markdown",
   "id": "2d338821",
   "metadata": {
    "id": "2d338821"
   },
   "source": [
    "For both `ptb_train` and `ptb_test` datasets, filter out every sample that has less than 3 tokens. it will help remove very short sentences that are not very helpful for training/evaluating a langugage model.\n",
    "\n",
    "Hint: use `.filter()` functionality of the `datasets` package (read more [here](https://huggingface.co/docs/datasets/process#select-and-filter))."
   ]
  },
  {
   "cell_type": "code",
   "execution_count": 4,
   "id": "9c0222f5",
   "metadata": {
    "id": "9c0222f5"
   },
   "outputs": [],
   "source": [
    "# YOUR CODE HERE\n",
    "ptb_train = ptb_train.filter(lambda x: len(x['sentence'].split()) > 3)\n",
    "ptb_test = ptb_test.filter(lambda x: len(x['sentence'].split()) > 3)"
   ]
  },
  {
   "cell_type": "markdown",
   "id": "2733f77b",
   "metadata": {
    "id": "2733f77b"
   },
   "source": [
    "#### Print the 10 most frequent tokens in `ptb_train` dataset.\n",
    "\n",
    "> **Observation**: Can you spot the token used to replace the numbers in this dataset? How are rare tokens replaced in this dataset?"
   ]
  },
  {
   "cell_type": "code",
   "execution_count": 5,
   "id": "28e93fb6",
   "metadata": {
    "id": "28e93fb6"
   },
   "outputs": [
    {
     "data": {
      "text/plain": [
       "Counter({'the': 40612,\n",
       "         '<unk>': 35814,\n",
       "         '<stop>': 33306,\n",
       "         'N': 25940,\n",
       "         'of': 19459,\n",
       "         'to': 18896,\n",
       "         'a': 16899,\n",
       "         'in': 14472,\n",
       "         'and': 14013,\n",
       "         \"'s\": 7850,\n",
       "         'for': 7108,\n",
       "         'that': 7100,\n",
       "         '$': 5954,\n",
       "         'is': 5923,\n",
       "         'it': 4866,\n",
       "         'said': 4840,\n",
       "         'on': 4493,\n",
       "         'at': 3946,\n",
       "         'by': 3939,\n",
       "         'as': 3860,\n",
       "         'from': 3818,\n",
       "         'with': 3678,\n",
       "         'million': 3655,\n",
       "         'mr.': 3468,\n",
       "         'was': 3245,\n",
       "         'be': 3122,\n",
       "         'are': 3111,\n",
       "         'its': 3089,\n",
       "         'he': 2897,\n",
       "         'but': 2841,\n",
       "         'has': 2818,\n",
       "         'an': 2787,\n",
       "         \"n't\": 2694,\n",
       "         'will': 2582,\n",
       "         'have': 2557,\n",
       "         'new': 2228,\n",
       "         'company': 2175,\n",
       "         'or': 2141,\n",
       "         'they': 2074,\n",
       "         'this': 1953,\n",
       "         'year': 1908,\n",
       "         'which': 1872,\n",
       "         'would': 1840,\n",
       "         'about': 1732,\n",
       "         'says': 1658,\n",
       "         'were': 1632,\n",
       "         'more': 1626,\n",
       "         'market': 1587,\n",
       "         'billion': 1505,\n",
       "         'his': 1490,\n",
       "         'had': 1466,\n",
       "         'their': 1444,\n",
       "         'one': 1413,\n",
       "         'up': 1408,\n",
       "         'u.s.': 1391,\n",
       "         'than': 1366,\n",
       "         'some': 1360,\n",
       "         'who': 1359,\n",
       "         'been': 1344,\n",
       "         'also': 1290,\n",
       "         'stock': 1280,\n",
       "         'other': 1267,\n",
       "         'share': 1203,\n",
       "         'not': 1154,\n",
       "         'we': 1094,\n",
       "         'if': 1029,\n",
       "         'when': 1018,\n",
       "         'corp.': 1015,\n",
       "         'i': 1003,\n",
       "         'years': 1002,\n",
       "         'all': 997,\n",
       "         'president': 994,\n",
       "         'last': 991,\n",
       "         'shares': 989,\n",
       "         'first': 953,\n",
       "         'trading': 952,\n",
       "         'two': 933,\n",
       "         'inc.': 923,\n",
       "         'because': 913,\n",
       "         'could': 896,\n",
       "         'sales': 889,\n",
       "         'after': 880,\n",
       "         'there': 873,\n",
       "         '&': 859,\n",
       "         'business': 852,\n",
       "         'out': 847,\n",
       "         'do': 808,\n",
       "         'only': 800,\n",
       "         'can': 795,\n",
       "         'such': 788,\n",
       "         'co.': 786,\n",
       "         'may': 780,\n",
       "         'york': 773,\n",
       "         'most': 766,\n",
       "         'over': 765,\n",
       "         'into': 763,\n",
       "         'group': 754,\n",
       "         'federal': 731,\n",
       "         'many': 727,\n",
       "         'government': 721,\n",
       "         'now': 699,\n",
       "         'no': 695,\n",
       "         'time': 681,\n",
       "         'bank': 670,\n",
       "         'companies': 667,\n",
       "         'any': 660,\n",
       "         'so': 660,\n",
       "         'people': 653,\n",
       "         'cents': 650,\n",
       "         'quarter': 636,\n",
       "         'you': 629,\n",
       "         'exchange': 627,\n",
       "         'what': 625,\n",
       "         'prices': 624,\n",
       "         'price': 613,\n",
       "         'even': 609,\n",
       "         'say': 605,\n",
       "         'while': 602,\n",
       "         'down': 600,\n",
       "         'rose': 593,\n",
       "         'much': 582,\n",
       "         'investors': 579,\n",
       "         'yesterday': 576,\n",
       "         'under': 569,\n",
       "         'big': 569,\n",
       "         'week': 568,\n",
       "         'securities': 559,\n",
       "         'them': 547,\n",
       "         'months': 546,\n",
       "         'next': 526,\n",
       "         \"'\": 523,\n",
       "         'major': 520,\n",
       "         'bonds': 520,\n",
       "         'make': 520,\n",
       "         'earnings': 520,\n",
       "         'interest': 520,\n",
       "         'earlier': 519,\n",
       "         'three': 519,\n",
       "         'american': 513,\n",
       "         'state': 513,\n",
       "         'financial': 512,\n",
       "         'net': 509,\n",
       "         'investment': 503,\n",
       "         'still': 502,\n",
       "         'chairman': 498,\n",
       "         'these': 497,\n",
       "         'since': 493,\n",
       "         'chief': 492,\n",
       "         'those': 489,\n",
       "         'did': 487,\n",
       "         'board': 484,\n",
       "         'before': 479,\n",
       "         'through': 479,\n",
       "         'program': 477,\n",
       "         'industry': 475,\n",
       "         'executive': 472,\n",
       "         'made': 470,\n",
       "         'stocks': 470,\n",
       "         'just': 466,\n",
       "         'officials': 464,\n",
       "         'rate': 462,\n",
       "         'national': 459,\n",
       "         'like': 446,\n",
       "         'money': 445,\n",
       "         'month': 441,\n",
       "         'analysts': 439,\n",
       "         'house': 431,\n",
       "         'rates': 427,\n",
       "         'she': 425,\n",
       "         'off': 422,\n",
       "         'profit': 421,\n",
       "         'expected': 420,\n",
       "         'against': 420,\n",
       "         'plan': 417,\n",
       "         'both': 417,\n",
       "         'does': 415,\n",
       "         'days': 410,\n",
       "         'unit': 408,\n",
       "         'between': 405,\n",
       "         'capital': 404,\n",
       "         'income': 399,\n",
       "         'buy': 393,\n",
       "         'recent': 392,\n",
       "         'get': 390,\n",
       "         'markets': 389,\n",
       "         'japanese': 387,\n",
       "         'sell': 387,\n",
       "         'issue': 384,\n",
       "         'firm': 383,\n",
       "         'well': 382,\n",
       "         'during': 381,\n",
       "         'ago': 378,\n",
       "         'average': 378,\n",
       "         'revenue': 377,\n",
       "         'own': 374,\n",
       "         'should': 373,\n",
       "         'back': 372,\n",
       "         'international': 372,\n",
       "         'general': 370,\n",
       "         'products': 370,\n",
       "         'her': 369,\n",
       "         'another': 368,\n",
       "         'part': 365,\n",
       "         'fell': 364,\n",
       "         'funds': 363,\n",
       "         'being': 362,\n",
       "         'offer': 361,\n",
       "         'higher': 361,\n",
       "         'each': 360,\n",
       "         'take': 360,\n",
       "         'debt': 359,\n",
       "         'japan': 357,\n",
       "         'among': 357,\n",
       "         'index': 357,\n",
       "         'including': 355,\n",
       "         'court': 350,\n",
       "         'tax': 349,\n",
       "         'world': 348,\n",
       "         'work': 348,\n",
       "         'past': 347,\n",
       "         'according': 343,\n",
       "         'sale': 343,\n",
       "         'operations': 342,\n",
       "         'report': 342,\n",
       "         'computer': 341,\n",
       "         'trade': 340,\n",
       "         'reported': 337,\n",
       "         'our': 337,\n",
       "         'then': 335,\n",
       "         'economic': 330,\n",
       "         'vice': 330,\n",
       "         'however': 329,\n",
       "         'plans': 328,\n",
       "         'how': 328,\n",
       "         'high': 326,\n",
       "         'department': 325,\n",
       "         'sold': 324,\n",
       "         'yield': 322,\n",
       "         'end': 321,\n",
       "         'less': 321,\n",
       "         'several': 320,\n",
       "         'yen': 320,\n",
       "         'way': 319,\n",
       "         'banks': 319,\n",
       "         'closed': 318,\n",
       "         'lower': 318,\n",
       "         'foreign': 317,\n",
       "         'growth': 317,\n",
       "         'insurance': 317,\n",
       "         'increase': 316,\n",
       "         'pay': 314,\n",
       "         'common': 308,\n",
       "         'very': 308,\n",
       "         'bid': 305,\n",
       "         'cash': 305,\n",
       "         'where': 301,\n",
       "         'issues': 301,\n",
       "         'day': 301,\n",
       "         'system': 300,\n",
       "         'current': 300,\n",
       "         'bill': 299,\n",
       "         'law': 299,\n",
       "         'five': 298,\n",
       "         'bush': 298,\n",
       "         'used': 298,\n",
       "         'management': 297,\n",
       "         'due': 296,\n",
       "         'early': 295,\n",
       "         'loss': 291,\n",
       "         'traders': 291,\n",
       "         'officer': 290,\n",
       "         'oil': 290,\n",
       "         'use': 290,\n",
       "         'third': 289,\n",
       "         'few': 289,\n",
       "         \"'re\": 288,\n",
       "         'friday': 287,\n",
       "         'good': 287,\n",
       "         'added': 287,\n",
       "         'california': 286,\n",
       "         'public': 285,\n",
       "         'costs': 285,\n",
       "         'office': 285,\n",
       "         'already': 284,\n",
       "         'futures': 283,\n",
       "         'bond': 283,\n",
       "         'city': 282,\n",
       "         'might': 281,\n",
       "         'assets': 281,\n",
       "         'san': 280,\n",
       "         'spokesman': 276,\n",
       "         'director': 275,\n",
       "         'oct.': 275,\n",
       "         'late': 274,\n",
       "         'least': 274,\n",
       "         'based': 274,\n",
       "         'though': 273,\n",
       "         'september': 273,\n",
       "         'small': 273,\n",
       "         'far': 272,\n",
       "         'news': 270,\n",
       "         'congress': 268,\n",
       "         'treasury': 267,\n",
       "         'agency': 267,\n",
       "         'number': 267,\n",
       "         'concern': 266,\n",
       "         'too': 266,\n",
       "         'british': 266,\n",
       "         'same': 265,\n",
       "         'going': 264,\n",
       "         'union': 264,\n",
       "         'street': 263,\n",
       "         'real': 263,\n",
       "         'him': 262,\n",
       "         'operating': 262,\n",
       "         'think': 261,\n",
       "         'research': 261,\n",
       "         'ended': 259,\n",
       "         'home': 259,\n",
       "         'until': 258,\n",
       "         'called': 258,\n",
       "         'fund': 258,\n",
       "         'today': 257,\n",
       "         'close': 257,\n",
       "         'contract': 257,\n",
       "         'case': 257,\n",
       "         'stake': 257,\n",
       "         'second': 256,\n",
       "         'wall': 255,\n",
       "         'little': 254,\n",
       "         'move': 253,\n",
       "         'dollar': 252,\n",
       "         'services': 252,\n",
       "         'former': 249,\n",
       "         'help': 249,\n",
       "         'value': 249,\n",
       "         'control': 248,\n",
       "         'analyst': 246,\n",
       "         'administration': 245,\n",
       "         'maker': 244,\n",
       "         'period': 243,\n",
       "         'put': 243,\n",
       "         'point': 243,\n",
       "         'third-quarter': 243,\n",
       "         'power': 243,\n",
       "         'credit': 242,\n",
       "         'problems': 241,\n",
       "         'results': 241,\n",
       "         'agreement': 240,\n",
       "         'offering': 240,\n",
       "         'corporate': 240,\n",
       "         'want': 239,\n",
       "         'service': 239,\n",
       "         'agreed': 238,\n",
       "         'cost': 238,\n",
       "         'economy': 238,\n",
       "         'six': 237,\n",
       "         'production': 234,\n",
       "         'four': 234,\n",
       "         'buying': 232,\n",
       "         'long': 232,\n",
       "         'firms': 232,\n",
       "         'here': 232,\n",
       "         'country': 231,\n",
       "         'life': 231,\n",
       "         'annual': 231,\n",
       "         'points': 231,\n",
       "         'recently': 231,\n",
       "         'likely': 230,\n",
       "         'without': 230,\n",
       "         'soviet': 229,\n",
       "         'committee': 229,\n",
       "         'total': 227,\n",
       "         'around': 226,\n",
       "         'although': 226,\n",
       "         'cut': 226,\n",
       "         'see': 225,\n",
       "         'whether': 225,\n",
       "         'volume': 224,\n",
       "         'compared': 224,\n",
       "         'loans': 224,\n",
       "         'half': 223,\n",
       "         'policy': 223,\n",
       "         'increased': 223,\n",
       "         'august': 221,\n",
       "         'old': 220,\n",
       "         'west': 219,\n",
       "         'large': 219,\n",
       "         'set': 219,\n",
       "         'yet': 218,\n",
       "         'continue': 218,\n",
       "         'losses': 215,\n",
       "         'john': 215,\n",
       "         'right': 214,\n",
       "         'further': 213,\n",
       "         'notes': 213,\n",
       "         'go': 213,\n",
       "         'strong': 212,\n",
       "         'political': 212,\n",
       "         'declined': 211,\n",
       "         'must': 211,\n",
       "         'takeover': 210,\n",
       "         'result': 210,\n",
       "         'selling': 210,\n",
       "         'making': 210,\n",
       "         'my': 209,\n",
       "         'monday': 209,\n",
       "         'francisco': 208,\n",
       "         'plant': 208,\n",
       "         'judge': 208,\n",
       "         'announced': 207,\n",
       "         'ual': 205,\n",
       "         'gain': 205,\n",
       "         'times': 204,\n",
       "         'largest': 204,\n",
       "         'paper': 204,\n",
       "         'earthquake': 203,\n",
       "         'expects': 203,\n",
       "         'businesses': 202,\n",
       "         'support': 202,\n",
       "         'held': 201,\n",
       "         'wo': 200,\n",
       "         'come': 199,\n",
       "         'level': 199,\n",
       "         'systems': 198,\n",
       "         'london': 198,\n",
       "         'problem': 198,\n",
       "         'demand': 198,\n",
       "         'data': 198,\n",
       "         'weeks': 197,\n",
       "         'area': 197,\n",
       "         'record': 196,\n",
       "         'official': 196,\n",
       "         'nov.': 196,\n",
       "         'composite': 195,\n",
       "         'become': 194,\n",
       "         'inc': 194,\n",
       "         'workers': 194,\n",
       "         'members': 193,\n",
       "         'fiscal': 193,\n",
       "         'industrial': 193,\n",
       "         'trust': 192,\n",
       "         'priced': 192,\n",
       "         'holding': 192,\n",
       "         'south': 192,\n",
       "         'certain': 190,\n",
       "         'ford': 190,\n",
       "         'association': 190,\n",
       "         'orders': 189,\n",
       "         'development': 188,\n",
       "         'give': 188,\n",
       "         'estimated': 187,\n",
       "         'series': 186,\n",
       "         'white': 186,\n",
       "         'drop': 186,\n",
       "         'decline': 185,\n",
       "         'currently': 185,\n",
       "         'took': 185,\n",
       "         'estate': 185,\n",
       "         'air': 185,\n",
       "         'employees': 185,\n",
       "         'executives': 184,\n",
       "         'tuesday': 183,\n",
       "         'future': 183,\n",
       "         'return': 183,\n",
       "         'senior': 182,\n",
       "         'health': 182,\n",
       "         'proposal': 181,\n",
       "         'despite': 181,\n",
       "         'others': 181,\n",
       "         'change': 181,\n",
       "         'ms.': 181,\n",
       "         'meeting': 180,\n",
       "         'commission': 180,\n",
       "         'building': 180,\n",
       "         'loan': 180,\n",
       "         'know': 180,\n",
       "         'once': 179,\n",
       "         'senate': 179,\n",
       "         'nearly': 179,\n",
       "         'deal': 179,\n",
       "         'chicago': 179,\n",
       "         'position': 178,\n",
       "         'rise': 178,\n",
       "         'comment': 177,\n",
       "         'later': 177,\n",
       "         'example': 177,\n",
       "         'show': 177,\n",
       "         'jones': 177,\n",
       "         'investor': 177,\n",
       "         'latest': 176,\n",
       "         'possible': 176,\n",
       "         'received': 176,\n",
       "         'damage': 176,\n",
       "         'dow': 176,\n",
       "         'need': 176,\n",
       "         'proposed': 175,\n",
       "         'acquisition': 175,\n",
       "         'often': 174,\n",
       "         'almost': 174,\n",
       "         'your': 174,\n",
       "         'robert': 174,\n",
       "         'filed': 174,\n",
       "         'drug': 174,\n",
       "         'paid': 174,\n",
       "         'junk': 174,\n",
       "         'washington': 173,\n",
       "         'offered': 172,\n",
       "         'charge': 172,\n",
       "         'line': 172,\n",
       "         'addition': 172,\n",
       "         'defense': 172,\n",
       "         'amount': 171,\n",
       "         'order': 171,\n",
       "         'nation': 171,\n",
       "         'product': 171,\n",
       "         'commercial': 171,\n",
       "         'east': 170,\n",
       "         'better': 170,\n",
       "         'force': 170,\n",
       "         'top': 170,\n",
       "         'purchase': 170,\n",
       "         'spending': 169,\n",
       "         'previous': 169,\n",
       "         'division': 167,\n",
       "         'dropped': 167,\n",
       "         'rights': 166,\n",
       "         'terms': 166,\n",
       "         'texas': 166,\n",
       "         'jaguar': 166,\n",
       "         'october': 165,\n",
       "         'expect': 165,\n",
       "         'within': 164,\n",
       "         'named': 163,\n",
       "         'outstanding': 163,\n",
       "         'trying': 162,\n",
       "         'changes': 161,\n",
       "         'nine': 161,\n",
       "         'began': 161,\n",
       "         'decision': 160,\n",
       "         'told': 160,\n",
       "         'keep': 159,\n",
       "         'technology': 159,\n",
       "         'industries': 159,\n",
       "         'information': 158,\n",
       "         'fed': 158,\n",
       "         'customers': 157,\n",
       "         'america': 156,\n",
       "         'finance': 156,\n",
       "         'us': 156,\n",
       "         'enough': 156,\n",
       "         'include': 155,\n",
       "         'managers': 155,\n",
       "         'came': 155,\n",
       "         'found': 155,\n",
       "         'budget': 155,\n",
       "         'banking': 154,\n",
       "         'every': 154,\n",
       "         'equipment': 154,\n",
       "         'shareholders': 154,\n",
       "         'computers': 154,\n",
       "         'provide': 153,\n",
       "         'james': 153,\n",
       "         'private': 153,\n",
       "         'auto': 153,\n",
       "         'gains': 152,\n",
       "         'again': 152,\n",
       "         'programs': 152,\n",
       "         'got': 152,\n",
       "         'action': 152,\n",
       "         'states': 151,\n",
       "         'never': 151,\n",
       "         'mortgage': 151,\n",
       "         'car': 150,\n",
       "         'ca': 149,\n",
       "         'warner': 149,\n",
       "         'lot': 149,\n",
       "         'transaction': 149,\n",
       "         'july': 148,\n",
       "         'following': 148,\n",
       "         'financing': 148,\n",
       "         'europe': 148,\n",
       "         'instead': 146,\n",
       "         'believe': 146,\n",
       "         'charges': 146,\n",
       "         'units': 146,\n",
       "         'makes': 146,\n",
       "         'tokyo': 146,\n",
       "         'best': 146,\n",
       "         'additional': 145,\n",
       "         'los': 145,\n",
       "         'run': 145,\n",
       "         'equity': 145,\n",
       "         'inflation': 144,\n",
       "         'local': 144,\n",
       "         'below': 144,\n",
       "         'gas': 144,\n",
       "         'buy-out': 144,\n",
       "         'european': 143,\n",
       "         'ltd.': 143,\n",
       "         'food': 143,\n",
       "         'things': 143,\n",
       "         'united': 143,\n",
       "         'able': 143,\n",
       "         'restructuring': 142,\n",
       "         'asked': 142,\n",
       "         'fall': 142,\n",
       "         'dollars': 142,\n",
       "         'march': 142,\n",
       "         \"'ve\": 142,\n",
       "         'consumer': 141,\n",
       "         'mrs.': 141,\n",
       "         'great': 141,\n",
       "         'low': 141,\n",
       "         'important': 141,\n",
       "         'legal': 141,\n",
       "         'sept.': 141,\n",
       "         'university': 140,\n",
       "         'corp': 140,\n",
       "         'steel': 140,\n",
       "         'above': 140,\n",
       "         'security': 140,\n",
       "         'family': 140,\n",
       "         'place': 140,\n",
       "         'away': 139,\n",
       "         'available': 139,\n",
       "         'options': 139,\n",
       "         'potential': 139,\n",
       "         'china': 139,\n",
       "         'continued': 139,\n",
       "         'pacific': 138,\n",
       "         '#': 138,\n",
       "         'bills': 138,\n",
       "         'construction': 138,\n",
       "         'head': 137,\n",
       "         'boston': 137,\n",
       "         'lost': 137,\n",
       "         'special': 137,\n",
       "         'suit': 137,\n",
       "         'raise': 137,\n",
       "         'holders': 136,\n",
       "         'marketing': 136,\n",
       "         'contracts': 136,\n",
       "         'led': 136,\n",
       "         'risk': 136,\n",
       "         'effect': 136,\n",
       "         'western': 136,\n",
       "         'co': 136,\n",
       "         'june': 135,\n",
       "         'david': 135,\n",
       "         'taken': 134,\n",
       "         'manager': 134,\n",
       "         'whose': 134,\n",
       "         'claims': 134,\n",
       "         'stores': 134,\n",
       "         'open': 134,\n",
       "         'subsidiary': 134,\n",
       "         'advertising': 133,\n",
       "         'personal': 133,\n",
       "         'included': 133,\n",
       "         'full': 133,\n",
       "         'approval': 132,\n",
       "         'figures': 132,\n",
       "         'posted': 132,\n",
       "         'ibm': 131,\n",
       "         'working': 131,\n",
       "         'via': 131,\n",
       "         'account': 131,\n",
       "         'reports': 130,\n",
       "         'either': 130,\n",
       "         'effort': 130,\n",
       "         'tv': 130,\n",
       "         'gold': 130,\n",
       "         'face': 130,\n",
       "         'noted': 129,\n",
       "         'statement': 129,\n",
       "         'lawyers': 129,\n",
       "         'meanwhile': 129,\n",
       "         'rather': 128,\n",
       "         'fact': 128,\n",
       "         'd.': 128,\n",
       "         'similar': 128,\n",
       "         'increases': 127,\n",
       "         'institute': 127,\n",
       "         'countries': 127,\n",
       "         'cars': 127,\n",
       "         'school': 126,\n",
       "         'soon': 126,\n",
       "         'efforts': 125,\n",
       "         'airlines': 125,\n",
       "         'network': 125,\n",
       "         'individual': 125,\n",
       "         'profits': 124,\n",
       "         'long-term': 124,\n",
       "         'left': 124,\n",
       "         'cases': 124,\n",
       "         'find': 124,\n",
       "         'directors': 124,\n",
       "         'secretary': 123,\n",
       "         'groups': 123,\n",
       "         'reserve': 123,\n",
       "         'domestic': 123,\n",
       "         'angeles': 123,\n",
       "         'probably': 123,\n",
       "         'known': 122,\n",
       "         'bought': 122,\n",
       "         'percentage': 122,\n",
       "         'germany': 121,\n",
       "         'portfolio': 121,\n",
       "         'parent': 121,\n",
       "         'telephone': 121,\n",
       "         'gained': 121,\n",
       "         'getting': 121,\n",
       "         'center': 121,\n",
       "         'slightly': 120,\n",
       "         'north': 120,\n",
       "         'something': 120,\n",
       "         'talks': 120,\n",
       "         'biggest': 120,\n",
       "         'reduce': 120,\n",
       "         'remain': 119,\n",
       "         'along': 119,\n",
       "         'looking': 119,\n",
       "         'look': 119,\n",
       "         'dealers': 119,\n",
       "         'machines': 119,\n",
       "         'failed': 118,\n",
       "         'strategy': 118,\n",
       "         'reached': 118,\n",
       "         'clients': 118,\n",
       "         'view': 118,\n",
       "         'coming': 117,\n",
       "         'magazine': 117,\n",
       "         'approved': 117,\n",
       "         'ad': 117,\n",
       "         'previously': 117,\n",
       "         'party': 117,\n",
       "         'clear': 117,\n",
       "         'standard': 116,\n",
       "         'labor': 116,\n",
       "         'bay': 116,\n",
       "         'hard': 116,\n",
       "         'limited': 116,\n",
       "         'why': 116,\n",
       "         'process': 116,\n",
       "         'chemical': 116,\n",
       "         'given': 116,\n",
       "         'calls': 116,\n",
       "         'helped': 116,\n",
       "         'attorney': 116,\n",
       "         'marks': 116,\n",
       "         'joint': 116,\n",
       "         'savings': 115,\n",
       "         'manufacturing': 115,\n",
       "         'using': 115,\n",
       "         'role': 115,\n",
       "         'having': 115,\n",
       "         'saying': 115,\n",
       "         'canadian': 115,\n",
       "         'payments': 115,\n",
       "         'britain': 115,\n",
       "         'itself': 114,\n",
       "         'communications': 114,\n",
       "         'different': 114,\n",
       "         'question': 114,\n",
       "         'performance': 114,\n",
       "         'goods': 114,\n",
       "         'free': 114,\n",
       "         'black': 113,\n",
       "         'act': 113,\n",
       "         'calif.': 113,\n",
       "         'levels': 113,\n",
       "         'makers': 113,\n",
       "         'merrill': 113,\n",
       "         'estimates': 113,\n",
       "         'went': 112,\n",
       "         'eastern': 112,\n",
       "         'team': 112,\n",
       "         'activity': 112,\n",
       "         'medical': 112,\n",
       "         'owns': 112,\n",
       "         'hong': 112,\n",
       "         'short': 112,\n",
       "         'german': 112,\n",
       "         'job': 111,\n",
       "         'property': 111,\n",
       "         'investments': 111,\n",
       "         'canada': 111,\n",
       "         'lynch': 111,\n",
       "         'institutions': 110,\n",
       "         'growing': 110,\n",
       "         'aid': 110,\n",
       "         'military': 110,\n",
       "         'year-earlier': 110,\n",
       "         'dividend': 110,\n",
       "         'buyers': 109,\n",
       "         'name': 109,\n",
       "         'lead': 109,\n",
       "         'huge': 109,\n",
       "         'plants': 109,\n",
       "         'range': 109,\n",
       "         'raised': 109,\n",
       "         'remains': 109,\n",
       "         'television': 108,\n",
       "         'interests': 108,\n",
       "         'me': 107,\n",
       "         'particularly': 107,\n",
       "         'michael': 107,\n",
       "         'completed': 107,\n",
       "         'leaders': 107,\n",
       "         'vote': 107,\n",
       "         'legislation': 107,\n",
       "         'toward': 107,\n",
       "         'transportation': 106,\n",
       "         'includes': 106,\n",
       "         'seeking': 106,\n",
       "         'concerns': 106,\n",
       "         'pressure': 106,\n",
       "         'ever': 106,\n",
       "         'district': 106,\n",
       "         'taking': 106,\n",
       "         'especially': 106,\n",
       "         'started': 106,\n",
       "         'call': 106,\n",
       "         's&p': 106,\n",
       "         'seems': 106,\n",
       "         'william': 106,\n",
       "         'kong': 106,\n",
       "         'leading': 105,\n",
       "         'scheduled': 105,\n",
       "         'airline': 105,\n",
       "         'gm': 105,\n",
       "         'heavy': 105,\n",
       "         'project': 105,\n",
       "         'french': 105,\n",
       "         'central': 105,\n",
       "         'lines': 105,\n",
       "         'fees': 105,\n",
       "         'staff': 105,\n",
       "         'allow': 104,\n",
       "         'abortion': 104,\n",
       "         'deficit': 104,\n",
       "         'involved': 104,\n",
       "         'columbia': 104,\n",
       "         \"'m\": 104,\n",
       "         'outside': 104,\n",
       "         'acquired': 104,\n",
       "         'congressional': 103,\n",
       "         'richard': 103,\n",
       "         'always': 103,\n",
       "         'issued': 103,\n",
       "         'meet': 102,\n",
       "         'hours': 102,\n",
       "         'really': 102,\n",
       "         'energy': 102,\n",
       "         'producers': 102,\n",
       "         'independent': 102,\n",
       "         'care': 102,\n",
       "         'begin': 102,\n",
       "         'venture': 102,\n",
       "         'rep.': 102,\n",
       "         'campaign': 101,\n",
       "         'hold': 101,\n",
       "         'currency': 101,\n",
       "         'april': 101,\n",
       "         'drexel': 101,\n",
       "         'themselves': 101,\n",
       "         'basis': 101,\n",
       "         'wants': 100,\n",
       "         'needed': 100,\n",
       "         'conference': 100,\n",
       "         'means': 100,\n",
       "         'morgan': 100,\n",
       "         'impact': 100,\n",
       "         'estimate': 100,\n",
       "         'acquire': 99,\n",
       "         \"'ll\": 99,\n",
       "         'volatility': 99,\n",
       "         'adds': 99,\n",
       "         'j.': 99,\n",
       "         'daily': 99,\n",
       "         'plc': 99,\n",
       "         'study': 99,\n",
       "         'consider': 99,\n",
       "         'bad': 98,\n",
       "         'dec.': 98,\n",
       "         'wednesday': 98,\n",
       "         'hit': 98,\n",
       "         'reduced': 98,\n",
       "         'try': 98,\n",
       "         'related': 98,\n",
       "         'turn': 98,\n",
       "         'man': 98,\n",
       "         'start': 98,\n",
       "         'significant': 98,\n",
       "         'leader': 97,\n",
       "         'competition': 97,\n",
       "         'taxes': 97,\n",
       "         'test': 97,\n",
       "         'accounts': 97,\n",
       "         'base': 97,\n",
       "         'quickly': 97,\n",
       "         'key': 97,\n",
       "         'earned': 97,\n",
       "         'doing': 97,\n",
       "         'projects': 97,\n",
       "         'reserves': 97,\n",
       "         'parts': 96,\n",
       "         'build': 96,\n",
       "         'prime': 96,\n",
       "         'partners': 96,\n",
       "         'community': 96,\n",
       "         'brokerage': 96,\n",
       "         'reason': 95,\n",
       "         'young': 95,\n",
       "         'rally': 95,\n",
       "         'considered': 95,\n",
       "         'press': 95,\n",
       "         'traded': 95,\n",
       "         'women': 95,\n",
       "         'measure': 95,\n",
       "         'beginning': 95,\n",
       "         'supply': 95,\n",
       "         'course': 95,\n",
       "         'produce': 95,\n",
       "         'journal': 95,\n",
       "         'convertible': 94,\n",
       "         'thought': 94,\n",
       "         'retail': 94,\n",
       "         'imports': 94,\n",
       "         'machine': 94,\n",
       "         'exports': 94,\n",
       "         'brokers': 94,\n",
       "         'longer': 93,\n",
       "         'holdings': 93,\n",
       "         'thing': 93,\n",
       "         'auction': 93,\n",
       "         'yields': 93,\n",
       "         'changed': 93,\n",
       "         'kind': 93,\n",
       "         'manufacturers': 93,\n",
       "         'majority': 93,\n",
       "         'thursday': 92,\n",
       "         'history': 92,\n",
       "         'poor': 92,\n",
       "         'done': 92,\n",
       "         'seven': 92,\n",
       "         'simply': 92,\n",
       "         'continuing': 92,\n",
       "         'subject': 92,\n",
       "         'motor': 92,\n",
       "         'stock-index': 92,\n",
       "         'fourth': 92,\n",
       "         'situation': 91,\n",
       "         'december': 91,\n",
       "         'protection': 91,\n",
       "         'turned': 91,\n",
       "         'worth': 91,\n",
       "         'war': 91,\n",
       "         'largely': 91,\n",
       "         'shareholder': 90,\n",
       "         'benefits': 90,\n",
       "         'children': 90,\n",
       "         'spokeswoman': 90,\n",
       "         'boost': 90,\n",
       "         'advanced': 90,\n",
       "         'cbs': 90,\n",
       "         'indeed': 90,\n",
       "         'areas': 90,\n",
       "         'near': 90,\n",
       "         'block': 90,\n",
       "         'rules': 90,\n",
       "         'generally': 90,\n",
       "         'men': 90,\n",
       "         'moody': 90,\n",
       "         'a.': 90,\n",
       "         'recession': 90,\n",
       "         'filing': 89,\n",
       "         'preferred': 89,\n",
       "         'electric': 89,\n",
       "         'pilots': 89,\n",
       "         'summer': 89,\n",
       "         'red': 89,\n",
       "         'settlement': 89,\n",
       "         'smaller': 89,\n",
       "         'eight': 89,\n",
       "         'planned': 89,\n",
       "         'returns': 89,\n",
       "         'arbitrage': 88,\n",
       "         'hurt': 88,\n",
       "         'housing': 88,\n",
       "         'dr.': 88,\n",
       "         'space': 88,\n",
       "         'became': 88,\n",
       "         'shearson': 88,\n",
       "         'seek': 88,\n",
       "         'form': 88,\n",
       "         'created': 87,\n",
       "         'caused': 87,\n",
       "         'note': 87,\n",
       "         ...})"
      ]
     },
     "execution_count": 5,
     "metadata": {},
     "output_type": "execute_result"
    }
   ],
   "source": [
    "from collections import Counter\n",
    "\n",
    "Counter(word for d in ptb_train for word in d[\"sentence\"].split())"
   ]
  },
  {
   "cell_type": "markdown",
   "id": "a6eaec09",
   "metadata": {
    "id": "a6eaec09"
   },
   "source": [
    "#### Now let's create a dictionary of the word probabilites (in the format of `{word: Prob(word)}`in the following function. We will use these probabilities to estimate sequence probabilities for a given sequence, as mentioned above."
   ]
  },
  {
   "cell_type": "code",
   "execution_count": 7,
   "id": "0e015a74",
   "metadata": {
    "id": "0e015a74"
   },
   "outputs": [],
   "source": [
    "from collections import defaultdict, Counter\n",
    "\n",
    "def get_word_probability_dict(train_dataset: datasets.arrow_dataset.Dataset):\n",
    "    '''\n",
    "    args:\n",
    "        train_dataset: a Dataset object that can be iterated to get all the sentences\n",
    "    output:\n",
    "        word_prob_dict: a dictionary containing the word probabilities (and outputing zero for non-seen tokens)\n",
    "    '''\n",
    "    # TODO: get word probabilities across all available tokens in the train_dataset\n",
    "    # YOUR CODE HERE\n",
    "    word_prob_dict = Counter(word for d in ptb_train for word in d[\"sentence\"].split())\n",
    "    \n",
    "    total = sum(word_prob_dict.values())\n",
    "    word_prob_dict = {k: v / total for k, v in word_prob_dict.items()}\n",
    "\n",
    "    return word_prob_dict\n",
    "\n",
    "word_prob_dict = get_word_probability_dict(ptb_train)"
   ]
  },
  {
   "cell_type": "markdown",
   "id": "766d403e",
   "metadata": {
    "id": "766d403e"
   },
   "source": [
    "Let's also get a sense of how high the top-k probabilities are:"
   ]
  },
  {
   "cell_type": "code",
   "execution_count": 61,
   "id": "37d958f6",
   "metadata": {
    "id": "37d958f6",
    "scrolled": true
   },
   "outputs": [
    {
     "data": {
      "text/plain": [
       "[('the', 0.05472703188187844),\n",
       " ('<unk>', 0.0482614478434353),\n",
       " ('<stop>', 0.044881771985074446),\n",
       " ('N', 0.03495565859883598),\n",
       " ('of', 0.026222134181755948),\n",
       " ('to', 0.02546345893922917),\n",
       " ('a', 0.022772385299218552),\n",
       " ('in', 0.01950186165159423),\n",
       " ('and', 0.01888333245742053),\n",
       " (\"'s\", 0.010578331534343193),\n",
       " ('for', 0.009578443381670245),\n",
       " ('that', 0.009567662916412315),\n",
       " ('$', 0.008023361268213933),\n",
       " ('is', 0.007981586965339457),\n",
       " ('it', 0.006557217993135539),\n",
       " ('said', 0.006522181481047268),\n",
       " ('on', 0.006054578800484582),\n",
       " ('at', 0.005317464488473661),\n",
       " ('by', 0.005308031581372973),\n",
       " ('as', 0.00520157448695092)]"
      ]
     },
     "execution_count": 61,
     "metadata": {},
     "output_type": "execute_result"
    }
   ],
   "source": [
    "sorted(word_prob_dict.items(), key=lambda item: item[1], reverse=True)[:20]"
   ]
  },
  {
   "cell_type": "markdown",
   "id": "e1b408c2",
   "metadata": {
    "id": "e1b408c2"
   },
   "source": [
    "#### Now let's analyze the Unigram language model for different sequences. We first create a function that can output the probability for a given string."
   ]
  },
  {
   "cell_type": "code",
   "execution_count": 62,
   "id": "fc167228",
   "metadata": {
    "id": "fc167228"
   },
   "outputs": [],
   "source": [
    "def unigram_lm_seq_probability(input_sentence: str,\n",
    "                               word_prob_dict: dict):\n",
    "    '''\n",
    "    args:\n",
    "        input_sentence: The input sequence string. Here we assume\n",
    "        word_prob_dict: A dictionary containing the probability for a given token\n",
    "    output:\n",
    "        probability: The probability of the input_sentence according to the Unigram language model\n",
    "    '''\n",
    "    # TODO: get sequence probability using unigram probabilities\n",
    "    # YOUR CODE HERE\n",
    "    probability = np.prod([word_prob_dict[word] for word in input_sentence.split()])\n",
    "    return probability"
   ]
  },
  {
   "cell_type": "markdown",
   "id": "3427e046",
   "metadata": {
    "id": "3427e046"
   },
   "source": [
    "#### Let's investigate a major issue with Unigram language model. What are the probabilities for the two following sequences?\n",
    "- the the the the \\<stop>\n",
    "- i love computer science \\<stop>\n",
    "\n",
    "DIscussion: How can we avoid having large probability values for sequences like `the the the <stop>`"
   ]
  },
  {
   "cell_type": "code",
   "execution_count": 63,
   "id": "2c753d2d",
   "metadata": {
    "id": "2c753d2d"
   },
   "outputs": [
    {
     "name": "stdout",
     "output_type": "stream",
     "text": [
      "probability for seq1 is 4.0260352626148156e-07, and for seq2 is 2.3386075741772593e-17\n"
     ]
    }
   ],
   "source": [
    "seq1 = \"the the the the <stop>\"\n",
    "seq2 = \"i love computer science <stop>\"\n",
    "\n",
    "prob_seq1 = unigram_lm_seq_probability(seq1, word_prob_dict)\n",
    "prob_seq2 = unigram_lm_seq_probability(seq2, word_prob_dict)\n",
    "print(f\"probability for seq1 is {prob_seq1}, and for seq2 is {prob_seq2}\")"
   ]
  },
  {
   "cell_type": "markdown",
   "id": "06747969",
   "metadata": {
    "id": "06747969"
   },
   "source": [
    "#### Now let's formally evaluate the Unigram model in terms of perplexity. We first compute the entropy as the average negative log-likelihood:\n",
    "$$H(W_{test}∣M)= \\frac{1}{|W_{test}|} \\sum_{w\\in W_{test}} −log_2P(w∣M)$$\n",
    ", where $W_{test}$ is the input sequence and M is the Unigram language model. (note that the logarithm is in base 2).\n",
    "\n",
    "#### We provide **`get_unigram_lm_entropy`** function to perform the entropy calculation."
   ]
  },
  {
   "cell_type": "code",
   "execution_count": 69,
   "id": "aa48300f",
   "metadata": {
    "id": "aa48300f"
   },
   "outputs": [],
   "source": [
    "def get_unigram_lm_entropy(input_sentence: str,\n",
    "                           word_prob_dict: dict):\n",
    "    '''\n",
    "    args:\n",
    "        input_sentence: the input string that we would like to have its respective entropy value.\n",
    "        word_prob_dict: A dictionary containing the probability for a given token\n",
    "    output:\n",
    "        entropy: entropy value as defined above\n",
    "    '''\n",
    "    entropy = np.mean([-np.log2(max(word_prob_dict[word], 1e-6)) for word in input_sentence.split() if word in word_prob_dict]) # prevent divide-by-zero error\n",
    "    return entropy"
   ]
  },
  {
   "cell_type": "markdown",
   "id": "b07afa63",
   "metadata": {
    "id": "b07afa63"
   },
   "source": [
    "Now compute the average entropy for all the sentences in the `ptb_test` given above function, and then compute the average entropy. Then compute the perplexity as $2^{\\bar{H}}$, where $\\bar{H}$ is the average entropy over the test dataset."
   ]
  },
  {
   "cell_type": "code",
   "execution_count": 70,
   "id": "ac66be2c",
   "metadata": {
    "id": "ac66be2c"
   },
   "outputs": [
    {
     "name": "stdout",
     "output_type": "stream",
     "text": [
      "The perplexity for the Unigram language model is 680.0022049565422\n"
     ]
    }
   ],
   "source": [
    "def get_unigram_lm_perplexity(test_dataset: datasets.arrow_dataset.Dataset,\n",
    "                              word_prob_dict: dict):\n",
    "    '''\n",
    "    args:\n",
    "        test_dataset: the test dataset samples are used to compute the perplexity for the Unigram LM.\n",
    "        word_prob_dict: A dictionary containing the probability for a given token\n",
    "    output:\n",
    "        perplexity: entropy value as defined above\n",
    "    '''\n",
    "    # TODO: Compute perplexity on the test dataset with unigram probabilities\n",
    "    # YOUR CODE HERE\n",
    "    average_entropy = np.mean([get_unigram_lm_entropy(d[\"sentence\"], word_prob_dict) for d in test_dataset])\n",
    "    perplexity = 2 ** average_entropy\n",
    "\n",
    "    return perplexity\n",
    "\n",
    "unigram_lm_perplexity = get_unigram_lm_perplexity(ptb_test, word_prob_dict)\n",
    "print(f\"The perplexity for the Unigram language model is {unigram_lm_perplexity}\")"
   ]
  },
  {
   "cell_type": "markdown",
   "id": "4a3cec0a",
   "metadata": {
    "id": "4a3cec0a"
   },
   "source": [
    "As discussed in the lectures, the models with lower perplexities are desired; however, we should be careful when comparing language models with different vocabualry sizes.\n",
    "#### In the `ptb_train` dataset, replace every token that is appearing less than 10 times with the `<unk>` token. (Note: the same token replacement should be done for the test dataset). What is the Unigram language model perplexity for the new dataset?\n",
    "Discussion: What would happen to the vocabulary size and perplexity as we increase the rare token threshold to higher values? (instead of 10 here)"
   ]
  },
  {
   "cell_type": "code",
   "execution_count": 71,
   "id": "3a14c853",
   "metadata": {
    "id": "3a14c853"
   },
   "outputs": [
    {
     "name": "stderr",
     "output_type": "stream",
     "text": [
      "Map: 100%|██████████| 33306/33306 [00:55<00:00, 598.56 examples/s]\n",
      "Map: 100%|██████████| 8343/8343 [00:14<00:00, 590.54 examples/s]\n"
     ]
    }
   ],
   "source": [
    "def remove_rare_token(train_dataset: datasets.arrow_dataset.Dataset,\n",
    "                      test_dataset: datasets.arrow_dataset.Dataset,\n",
    "                      rare_token_threshold: int):\n",
    "    '''\n",
    "    Note that the tokens that are considered rare here, are identified based on the train_dataset, so that\n",
    "    we have the same token mapping (to <unk>) for both the train and test datasets.\n",
    "    args:\n",
    "        train_dataset: the input dataset where its rare tokens has to be replaced with <unk> token.\n",
    "        rare_token_threshold: every word that is appearing less than this threshold in the train dataset will\n",
    "                              be replace with the <unk> token\n",
    "    output:\n",
    "        cleaned_train_dataset: the cleaned train dataset where rare tokens are replace with <unk> token.\n",
    "        cleaned_test_dataset: the cleaned test dataset where rare tokens are replace with <unk> token.\n",
    "    '''\n",
    "    all_tokens = \" \".join([i[\"sentence\"] for i in train_dataset]).split()\n",
    "    word_frequency_dict = Counter(all_tokens)\n",
    "    rare_tokens = [k for k, v in word_frequency_dict.items() if v < rare_token_threshold]\n",
    "    def rare_removal(input_sample):\n",
    "        modified_sample = input_sample\n",
    "        # TODO: replace rare tokens with `<unk>`\n",
    "        # YOUR CODE HERE\n",
    "        modified_sample[\"sentence\"] = \" \".join([\"<unk>\" if word in rare_tokens else word for word in modified_sample[\"sentence\"].split()])\n",
    "        return modified_sample\n",
    "\n",
    "    cleaned_train_dataset = train_dataset.map(rare_removal)\n",
    "    cleaned_test_dataset = test_dataset.map(rare_removal)\n",
    "\n",
    "    return cleaned_train_dataset, cleaned_test_dataset\n",
    "\n",
    "cleaned_train_dataset, cleaned_test_dataset = remove_rare_token(train_dataset=ptb_train,\n",
    "                                                                test_dataset=ptb_test,\n",
    "                                                                rare_token_threshold=10)\n"
   ]
  },
  {
   "cell_type": "markdown",
   "id": "6f09a7d3",
   "metadata": {
    "id": "6f09a7d3"
   },
   "source": [
    "#### Compute the test perplexity (`cleaned_test_dataset`) given token probabilities on a train dataset (`cleaned_train_dataset`)"
   ]
  },
  {
   "cell_type": "code",
   "execution_count": 72,
   "id": "d2083f50",
   "metadata": {
    "id": "d2083f50"
   },
   "outputs": [
    {
     "name": "stdout",
     "output_type": "stream",
     "text": [
      "The perplexity for the Unigram language model after replacing rare tokens is  483.8065984609044\n"
     ]
    }
   ],
   "source": [
    "cleaned_word_prob_dict = get_word_probability_dict(cleaned_train_dataset)\n",
    "cleaned_unigram_lm_perplexity = get_unigram_lm_perplexity(cleaned_test_dataset, cleaned_word_prob_dict)\n",
    "\n",
    "print(\"The perplexity for the Unigram language model after replacing rare tokens is \",\n",
    "      cleaned_unigram_lm_perplexity)"
   ]
  },
  {
   "cell_type": "markdown",
   "id": "4abe9eac",
   "metadata": {
    "id": "4abe9eac"
   },
   "source": [
    "## 1.2 Bi-gram Language Model <a name='bigram_lm'></a>\n",
    "In the Bi-gram language model, we pick/generate next token conditioned only on the previous token. Therefore, for an arbitrary sequence $x_1x_2~...x_n$, its respective probability becomes:\n",
    "$$p(x_1x_2~...x_n) = p(x_1) ~\\Pi_{i=2} ^n p(x_i|x_{i-1})$$\n",
    "Let's use the same dataset (`Penn Treebank`) to evaluate this model's perplexity. (We use the dataset that already has the `<stop>` token at the end).\n",
    "\n",
    "We estimate $p(x_i|x_{i-1})$ as the $\\frac{count(x_{i-1},~x_i)}{count(x_{i-1})}$ according to the training dataset frequencies."
   ]
  },
  {
   "cell_type": "code",
   "execution_count": 73,
   "id": "f96966fc",
   "metadata": {
    "id": "f96966fc"
   },
   "outputs": [],
   "source": [
    "def get_first_order_conditional_probabilities(train_dataset: datasets.arrow_dataset.Dataset):\n",
    "    '''\n",
    "    In this function the conditional probabilities have to be computed based train_dataset. The output of the\n",
    "    function is a dictionary having keys like (x_{i-1}, x_i) as a tuple and the value being p(x_i|x_{i-1}).\n",
    "    args:\n",
    "        train_dataset: a Dataset object that can be iterated to get all the sentences\n",
    "    output:\n",
    "        word_prob_dict:\n",
    "        first_order_condition_prob: a dictionary having containing the first order conditional probabilities\n",
    "                                    as discussed above.\n",
    "        word_prob_dict: a dictionary containing the word probabilities\n",
    "    '''\n",
    "    first_order_condition_prob = defaultdict(float) # in order to get zeroes\n",
    "    # let's first get the word frequencies (later used for computation of conditional probabilities)\n",
    "    word_prob_dict = get_word_probability_dict(train_dataset)\n",
    "\n",
    "    all_tokens = \" \".join([i[\"sentence\"] for i in train_dataset]).split()\n",
    "    word_frequency_dict = Counter(all_tokens)\n",
    "\n",
    "    # TODO: Get all bigrams and bigram probabilities\n",
    "    all_bigrams = []\n",
    "    for sample in train_dataset:\n",
    "        # YOUR CODE HERE\n",
    "        words = sample[\"sentence\"].split()\n",
    "        all_bigrams.extend([(words[i], words[i + 1]) for i in range(len(words) - 1)])\n",
    "        \n",
    "\n",
    "    bigram_frequency_dict = Counter(all_bigrams)\n",
    "    # YOUR CODE HERE\n",
    "    first_order_condition_prob = {k: v / word_frequency_dict[k[0]] for k, v in bigram_frequency_dict.items()}\n",
    "\n",
    "    return word_prob_dict, first_order_condition_prob\n",
    "\n",
    "word_prob_dict, first_order_condition_prob = get_first_order_conditional_probabilities(ptb_train)"
   ]
  },
  {
   "cell_type": "markdown",
   "id": "c89cb406",
   "metadata": {
    "id": "c89cb406"
   },
   "source": [
    "#### Now let's analyze the Bi-gram language model for different sequences. We first create a function that can output the probability for a given string."
   ]
  },
  {
   "cell_type": "code",
   "execution_count": 77,
   "id": "e459cdc4",
   "metadata": {
    "id": "e459cdc4"
   },
   "outputs": [],
   "source": [
    "def bigram_lm_seq_probability(input_sentence: str,\n",
    "                              word_prob_dict: dict,\n",
    "                              first_order_condition_prob: dict):\n",
    "    '''\n",
    "    args:\n",
    "        input_sentence: The input sequence string. Here we assume\n",
    "        word_prob_dict: a dictionary containing the word probabilities\n",
    "        first_order_condition_prob: a dictionary containing the first order conditional probabilities\n",
    "                                    as discussed in the previous function.\n",
    "    output:\n",
    "        probability: The probability of the input_sentence according to the Bi-gram language model\n",
    "    '''\n",
    "    # YOUR CODE HERE\n",
    "    words = input_sentence.split()\n",
    "    probability = word_prob_dict[words[0]] * np.prod([0 if (words[i], words[i + 1]) not in first_order_condition_prob else first_order_condition_prob[(words[i], words[i + 1])] for i in range(len(words) - 1)])\n",
    "\n",
    "    return probability"
   ]
  },
  {
   "cell_type": "markdown",
   "id": "a87509ef",
   "metadata": {
    "id": "a87509ef"
   },
   "source": [
    "Let's investigate a major issue with higher order language models.\n",
    "#### Compute the probabilities for all the sequences in `ptb_test` dataset, and compute the minimum value among these probablities. What would be the perplexity for the dataset given these values?\n",
    "Discussion: How can we avoid this **overfitting** to train dataset?"
   ]
  },
  {
   "cell_type": "code",
   "execution_count": 78,
   "id": "3d9a0460",
   "metadata": {
    "id": "3d9a0460"
   },
   "outputs": [
    {
     "name": "stdout",
     "output_type": "stream",
     "text": [
      "91.2621359223301% of samples in the test set have zero probability!\n"
     ]
    }
   ],
   "source": [
    "# TODO: get bigram probabilities on test dataset\n",
    "# YOUR CODE HERE\n",
    "bigram_test_probabilities = [bigram_lm_seq_probability(d[\"sentence\"], word_prob_dict, first_order_condition_prob) for d in ptb_test]\n",
    "\n",
    "print(f\"{bigram_test_probabilities.count(0)/len(ptb_test)*100}% of samples in the test set have zero probability!\")"
   ]
  },
  {
   "cell_type": "markdown",
   "id": "9ced914f",
   "metadata": {
    "id": "9ced914f"
   },
   "source": [
    "### Smoothing\n",
    "As we saw above, due to having new pair of consecutive words in the test dataset, we might have zero probabilities for some sequences. Therefore, as discussed in the lectures, in order to have a meaningful perplexity for N-gram language models, we need to smooth the probabilities to have non-zero values for non-seen sequences. In this exercise, we use Laplace smoothing as defined below:\n",
    "$$P(x_i|x_{i-1}) = \\frac{count(x_{i-1},~x_i) + \\alpha}{count(x_{i-1}) + \\alpha ~|V|}$$\n",
    ", where $\\alpha$ is the smoothing parameter, and $|V|$ is the (train dataset) vocabulary size.\n",
    "\n",
    "#### Let's recompute the conditional probabilities using Laplace smoothing."
   ]
  },
  {
   "cell_type": "code",
   "execution_count": 80,
   "id": "5d808944",
   "metadata": {
    "id": "5d808944"
   },
   "outputs": [],
   "source": [
    "def get_smoothed_first_order_conditional_probabilities(train_dataset: datasets.arrow_dataset.Dataset,\n",
    "                                                       smoothing_alpha: float):\n",
    "    '''\n",
    "    In this function the conditional probabilities have to be computed based on train_dataset. The output\n",
    "    of the function is a dictionary having keys like (x_{i-1}, x_i) as a tuple and the\n",
    "    value being p(x_i|x_{i-1}).\n",
    "    args:\n",
    "        train_dataset: a Dataset object that can be iterated to get all the sentences\n",
    "        smoothing_alpha: The alpha parameter used in the Laplace smoothing.\n",
    "    output:\n",
    "        word_prob_dict: a dictionary containing the word probabilities\n",
    "        first_order_condition_prob: a dictionary containing the smoothed first order\n",
    "                                    conditional probabilities as discussed above.\n",
    "    '''\n",
    "    first_order_condition_prob = defaultdict(float)  # Note that we shouldn't get zeros for unseen events.\n",
    "    # let's first get the word probabilities (later used for computation of conditional probabilities)\n",
    "    word_prob_dict = get_word_probability_dict(train_dataset)\n",
    "\n",
    "    all_tokens = \" \".join([i[\"sentence\"] for i in train_dataset]).split()\n",
    "    word_frequency_dict = Counter(all_tokens)\n",
    "    vocab_size = len(word_frequency_dict)\n",
    "\n",
    "    all_bigrams = []\n",
    "    for sample in train_dataset:\n",
    "        words = sample[\"sentence\"].split()\n",
    "        all_bigrams.extend([(words[i], words[i + 1]) for i in range(len(words) - 1)])\n",
    "        \n",
    "    bigram_frequency_dict = Counter(all_bigrams)\n",
    "\n",
    "    # TODO: get bigram probabilities\n",
    "    # YOUR CODE HERE\n",
    "    first_order_condition_prob = {k: (v + smoothing_alpha) / (word_frequency_dict[k[0]] + smoothing_alpha * vocab_size) for k, v in bigram_frequency_dict.items()}\n",
    "\n",
    "    return word_prob_dict, first_order_condition_prob"
   ]
  },
  {
   "cell_type": "code",
   "execution_count": 82,
   "id": "3008240c",
   "metadata": {
    "id": "3008240c"
   },
   "outputs": [],
   "source": [
    "def smoothed_bigram_lm_seq_probability(input_sentence: str,\n",
    "                                       word_prob_dict: dict,\n",
    "                                       word_frequency_dict: dict,\n",
    "                                       first_order_condition_prob: dict,\n",
    "                                       smoothing_alpha: float):\n",
    "    '''\n",
    "    args:\n",
    "        input_sentence: The input sequence string. Here we assume\n",
    "        word_prob_dict: a dictionary containing the word probabilities\n",
    "        word_frequency_dict: a dictionary containing the frequency for every word in vocabulary\n",
    "        first_order_condition_prob: a dictionary containing the first order conditional probabilities\n",
    "                                    as discussed in the previous function.\n",
    "        smoothing_alpha: The alpha parameter used in the Laplace smoothing.\n",
    "    output:\n",
    "        probability: The probability of the input_sentence according to the Bi-gram language model\n",
    "    '''\n",
    "    vocab_size = len(word_prob_dict)\n",
    "    token_list = input_sentence.split()\n",
    "    bigram_list = [(s1, s2) for s1, s2 in zip(token_list, token_list[1:])]\n",
    "\n",
    "    # TODO: compute sentence probability\n",
    "    # YOUR CODE HERE\n",
    "\n",
    "    probability = word_prob_dict[token_list[0]] * np.prod([0 if (s1, s2) not in first_order_condition_prob else first_order_condition_prob[(s1, s2)] for s1, s2 in bigram_list])\n",
    "\n",
    "    return probability"
   ]
  },
  {
   "cell_type": "markdown",
   "id": "4cd77e6c",
   "metadata": {
    "id": "4cd77e6c"
   },
   "source": [
    "#### Assuming $\\alpha=0.01$ for the smoothing, use the previous function and `bigram_lm_seq_probability` to compute the sequence probabilities for all the sentences in the `ptb_test` dataset."
   ]
  },
  {
   "cell_type": "code",
   "execution_count": null,
   "id": "e2c76c94",
   "metadata": {
    "id": "e2c76c94"
   },
   "outputs": [],
   "source": [
    "smoothed_bigram_test_probabilities = []\n",
    "\n",
    "word_frequency_dict = Counter(\" \".join([i[\"sentence\"] for i in ptb_train]).split())\n",
    "(word_prob_dict, smoothed_first_order_condition_prob) = get_smoothed_first_order_conditional_probabilities(ptb_train, 0.01)\n",
    "\n",
    "# TODO: get smoothed bigram probabilities\n",
    "# YOUR CODE HERE\n",
    "smoothed_bigram_test_probabilities =...\n",
    "\n",
    "print(f\"{smoothed_bigram_test_probabilities.count(0)/len(ptb_test)*100}% of samples in the test set have zero probability!\")"
   ]
  },
  {
   "cell_type": "markdown",
   "id": "8f8b38b8",
   "metadata": {
    "id": "8f8b38b8"
   },
   "source": [
    "If the perplexity for a given sequence is computed as below, compute the Bigram language model perplexity over `ptb_test` dataset over all the sentences ($\\alpha=0.01)$:\n",
    "$$Perplexity(x_1x_2...x_n) = p(x_1x_2...x_n)^{-1/n}$$\n",
    ", where $p(x_1x_2...x_n)$ is the probability assigned to $x_1x_2...x_n$ sequence by the language model."
   ]
  },
  {
   "cell_type": "code",
   "execution_count": null,
   "id": "7e3665f1",
   "metadata": {
    "id": "7e3665f1"
   },
   "outputs": [],
   "source": [
    "bigram_lm_perplexity = -1\n",
    "\n",
    "log_perplex_list = []\n",
    "for idx in range(len(ptb_test)):\n",
    "    # TODO: get bigram perplexities\n",
    "    # YOUR CODE HERE\n",
    "    ...\n",
    "bigram_lm_perplexity = 2**np.mean(log_perplex_list)\n",
    "\n",
    "print(f\"Bigram language model perplexity is {bigram_lm_perplexity}\")"
   ]
  },
  {
   "cell_type": "markdown",
   "id": "edd753ef",
   "metadata": {
    "id": "edd753ef"
   },
   "source": [
    "Repeat the same steps but for `cleaned_train_dataset` and `cleaned_test_dataset` datasets where rare tokens (with frequency less than 10) are replaced with `<unk>` token. Do we have a better or a worse perplexity compared to the previous computed perplexity?"
   ]
  },
  {
   "cell_type": "code",
   "execution_count": null,
   "id": "92b98f8b",
   "metadata": {
    "id": "92b98f8b"
   },
   "outputs": [],
   "source": [
    "cleaned_word_frequency_dict = Counter(\" \".join([i[\"sentence\"] for i in cleaned_train_dataset]).split())\n",
    "(cleaned_word_prob_dict,\n",
    " cleaned_smoothed_first_order_condition_prob) = get_smoothed_first_order_conditional_probabilities(cleaned_train_dataset, 0.01)\n",
    "\n",
    "# TODO: get smoothed bigram probabilities on the test set\n",
    "# YOUR CODE HERE\n",
    "cleaned_smoothed_bigram_test_probabilities = ...\n",
    "\n",
    "log_perplex_list = []\n",
    "for idx in range(len(cleaned_test_dataset)):\n",
    "    # TODO: get sentence log perplexities\n",
    "    # YOUR CODE HERE\n",
    "    ...\n",
    "\n",
    "cleaned_bigram_lm_perplexity = 2**np.mean(log_perplex_list)\n",
    "\n",
    "print(f\"(cleaned) Bigram language model perplexity is {cleaned_bigram_lm_perplexity}\")"
   ]
  },
  {
   "cell_type": "markdown",
   "id": "e2ea844a",
   "metadata": {
    "id": "e2ea844a"
   },
   "source": [
    "## 1.3 Tri-gram Language Model <a name='trigram_lm'></a>\n",
    "In the Tri-gram language model, we pick/generate next token conditioned only on the two previous tokens. Therefore, for an arbitrary sequence $x_1x_2~...x_n$, its respective probability becomes:\n",
    "$$p(x_1x_2~...x_n) = p(x_1) p(x_2|x_1) ~\\Pi_{i=3} ^n p(x_i|x_{i-2}x_{i-1})$$\n",
    "Let's use the same dataset (`Penn Treebank`) to evaluate this model's perplexity. (We use the dataset that already has the `<stop>` token at the end of each sentence).\n",
    "\n",
    "\n",
    "We estimate $p(x_i|x_{i-1}x_{i-2})$ using the Laplace smoothing with $\\alpha=3 \\cdot 10^{-3}$. First let's write a function that computes these conditional probabilities for the Tri-gram language model."
   ]
  },
  {
   "cell_type": "code",
   "execution_count": null,
   "id": "abdf0b35",
   "metadata": {
    "id": "abdf0b35"
   },
   "outputs": [],
   "source": [
    "def get_smoothed_second_order_conditional_probabilities(train_dataset: datasets.arrow_dataset.Dataset,\n",
    "                                                        smoothing_alpha: float):\n",
    "    '''\n",
    "    In this function the conditional probabilities have to be computed based on train_dataset. The output\n",
    "    of the function is a dictionary having keys like (x_{i-2}, x_{i-1}, x_i) as a tuple and the\n",
    "    value being p(x_i | x_{i-2} x_{i-1}).\n",
    "    args:\n",
    "        train_dataset: a Dataset object that can be iterated to get all the sentences\n",
    "        smoothing_alpha: The alpha parameter used in the Laplace smoothing.\n",
    "    output:\n",
    "        word_prob_dict: a dictionary containing the word probabilities\n",
    "        first_order_condition_prob: a dictionary containing the smoothed first order\n",
    "                                    conditional probabilities.\n",
    "        second_order_condition_prob: a dictionary containing the smoothed second order\n",
    "                                     conditional probabilities.\n",
    "    '''\n",
    "    smoothed_second_order_condition_prob = defaultdict(float)  # Note that we shouldn't get zeros for unseen probabilies.\n",
    "\n",
    "    # let's first get the 0th and 1st order conditional probabilities\n",
    "    (word_prob_dict, first_order_condition_prob) = get_smoothed_first_order_conditional_probabilities(\n",
    "        train_dataset, smoothing_alpha)\n",
    "\n",
    "    all_tokens = \" \".join([i[\"sentence\"] for i in train_dataset]).split()\n",
    "    word_frequency_dict = Counter(all_tokens)\n",
    "    vocab_size = len(word_frequency_dict)\n",
    "\n",
    "    # TODO: Get bigram probabilities\n",
    "    all_bigrams = []\n",
    "    for sample in train_dataset:\n",
    "        # YOUR CODE HERE\n",
    "        ...\n",
    "    bigram_frequency_dict = Counter(all_bigrams)\n",
    "\n",
    "\n",
    "    # TODO: Get trigram probabilities\n",
    "    all_trigrams = []\n",
    "    for sample in train_dataset:\n",
    "        # YOUR CODE HERE\n",
    "        ...\n",
    "    trigram_frequency_dict = Counter(all_trigrams)\n",
    "\n",
    "\n",
    "    # TODO: Get smoothed probabilities\n",
    "    # YOUR CODE HERE\n",
    "    smoothed_second_order_condition_prob = ...\n",
    "\n",
    "    return word_prob_dict, first_order_condition_prob, smoothed_second_order_condition_prob\n"
   ]
  },
  {
   "cell_type": "markdown",
   "id": "936a664f",
   "metadata": {
    "id": "936a664f"
   },
   "source": [
    "#### Now let's analyze the Tri-gram language model for different sequences. We first create a function that can output the probability for a given string."
   ]
  },
  {
   "cell_type": "code",
   "execution_count": null,
   "id": "3f6a692c",
   "metadata": {
    "id": "3f6a692c"
   },
   "outputs": [],
   "source": [
    "def smoothed_trigram_lm_seq_probability(input_sentence: str,\n",
    "                                        word_prob_dict: dict,\n",
    "                                        word_frequency_dict: dict,\n",
    "                                        bigram_frequency_dict: dict,\n",
    "                                        first_order_condition_prob: dict,\n",
    "                                        second_order_condition_prob: dict,\n",
    "                                        smoothing_alpha: float):\n",
    "    '''\n",
    "    args:\n",
    "        input_sentence: The input sequence string. Here we assume\n",
    "        word_prob_dict: a dictionary containing the word probabilities\n",
    "        word_frequency_dict: a dictionary containing the frequency for every word in vocabulary\n",
    "        bigram_frequency_dict: a dictionary containing the frequency for every bigram in vocabulary\n",
    "        first_order_condition_prob: a dictionary containing the first order conditional probabilities\n",
    "                                    as discussed earlier.\n",
    "        second_order_condition_prob: a dictionary containing the second order conditional probabilities\n",
    "                                     as discussed in the previous function.\n",
    "    output:\n",
    "        probability: The probability of the input_sentence according to the Bi-gram language model\n",
    "    '''\n",
    "\n",
    "    # TODO: compute smoothed trigram sequence probabilities\n",
    "    # YOUR CODE HERE\n",
    "\n",
    "    probability = ...\n",
    "\n",
    "    return probability"
   ]
  },
  {
   "cell_type": "markdown",
   "id": "16865742",
   "metadata": {
    "id": "16865742"
   },
   "source": [
    "#### Now let's compute the probability for sequences in the test dataset, assuming $\\alpha=3\\cdot10^{-3}$ has been used in the Laplace smoothing."
   ]
  },
  {
   "cell_type": "code",
   "execution_count": null,
   "id": "36feefd8",
   "metadata": {
    "id": "36feefd8"
   },
   "outputs": [],
   "source": [
    "smoothed_trigram_test_probabilities = []\n",
    "\n",
    "word_frequency_dict = Counter(\" \".join([i[\"sentence\"] for i in ptb_train]).split())\n",
    "\n",
    "all_bigrams = []\n",
    "for sample in ptb_train:\n",
    "    # TODO: get all bigrams\n",
    "    # YOUR CODE HERE\n",
    "    ...\n",
    "bigram_frequency_dict = Counter(all_bigrams)\n",
    "\n",
    "(word_prob_dict,\n",
    " smoothed_first_order_condition_prob,\n",
    " smoothed_second_order_condition_prob) = get_smoothed_second_order_conditional_probabilities(ptb_train, 3e-3)\n",
    "\n",
    "# TODO: get smoothed trigram probabilities on ptb_test dataset. Set `smoothing_alpha=3e-3`.\n",
    "# YOUR CODE HERE\n",
    "smoothed_trigram_test_probabilities = ...\n",
    "\n",
    "\n",
    "\n",
    "print(f\"{smoothed_trigram_test_probabilities.count(0)/len(ptb_test)*100}% of samples in the test set have zero probability!\")"
   ]
  },
  {
   "cell_type": "markdown",
   "id": "26ddd040",
   "metadata": {
    "id": "26ddd040"
   },
   "source": [
    "Now we compute the perplexity on the `ptb_test` dataset for the tri-gram language model."
   ]
  },
  {
   "cell_type": "code",
   "execution_count": null,
   "id": "25ed3d70",
   "metadata": {
    "id": "25ed3d70"
   },
   "outputs": [],
   "source": [
    "trigram_lm_perplexity = -1\n",
    "\n",
    "# YOUR CODE HERE\n",
    "log_perplex_list = []\n",
    "for idx in range(len(ptb_test)):\n",
    "    ...\n",
    "    # TODO: get trigram sentence probabilities\n",
    "    # YOUR CODE HERE\n",
    "\n",
    "trigram_lm_perplexity = 2**np.mean(log_perplex_list)\n",
    "\n",
    "print(f\"Trigram language model perplexity is {trigram_lm_perplexity}\")"
   ]
  },
  {
   "cell_type": "markdown",
   "id": "e34c59c8",
   "metadata": {
    "id": "e34c59c8"
   },
   "source": [
    "Repeat the same steps but for `cleaned_train_dataset` and `cleaned_test_dataset` datasets where rare tokens (with frequency less than 10) are replaced with `<unk>` token. Do we have a better or a worse perplexity compared to the previous computed perplexity?"
   ]
  },
  {
   "cell_type": "code",
   "execution_count": null,
   "id": "41b456be",
   "metadata": {
    "id": "41b456be"
   },
   "outputs": [],
   "source": [
    "cleaned_word_frequency_dict = Counter(\" \".join([i[\"sentence\"] for i in cleaned_train_dataset]).split())\n",
    "\n",
    "all_bigrams = []\n",
    "for sample in cleaned_train_dataset:\n",
    "    # TODO: add all bigrams into `all_bigrams`\n",
    "    # YOUR CODE HERE\n",
    "    ...\n",
    "cleaned_bigram_frequency_dict = Counter(all_bigrams)\n",
    "\n",
    "\n",
    "(cleaned_word_prob_dict,\n",
    " cleaned_first_order_condition_prob,\n",
    " cleaned_second_order_condition_prob\n",
    ") = get_smoothed_second_order_conditional_probabilities(cleaned_train_dataset, 3e-3)\n",
    "\n",
    "\n",
    "# TODO: get trigram sequence probabilities on `cleaned_test_dataset` using `smoothed_trigram_lm_seq_probability`\n",
    "cleaned_smoothed_trigram_test_probabilities = ...\n",
    "\n",
    "\n",
    "# compute perplexities\n",
    "log_perplex_list = []\n",
    "for idx in range(len(cleaned_test_dataset)):\n",
    "    sentence_prob = cleaned_smoothed_trigram_test_probabilities[idx]\n",
    "    if sentence_prob==0:\n",
    "        continue\n",
    "    sentence_length = len(cleaned_test_dataset[idx][\"sentence\"].split())\n",
    "    log_perplex_list.append(-np.log2(sentence_prob)/sentence_length)\n",
    "cleaned_Trigram_lm_perplexity = 2**np.mean(log_perplex_list)\n",
    "\n",
    "print(f\"(cleaned) Trigram language model perplexity is {cleaned_Trigram_lm_perplexity}\")"
   ]
  },
  {
   "cell_type": "markdown",
   "id": "2d8e69cc",
   "metadata": {
    "id": "2d8e69cc"
   },
   "source": [
    "#### Discussion\n",
    " - How are the three discussed models performance compare to each other?\n",
    " - What is the cost of using N-gram language models for even larger N values?\n",
    " - What is the effect of vocabulary size on models' perplexities? Can we compare models with different vocabulary sizes?\n",
    " - What is the perplexity of a language model (vocabulary size of |V|) that given any context (i.e., $x_1 x_2 ... x_{n-1}$) assigns uniform probabilities (for all the tokens in the vocabulary) for the next token?"
   ]
  },
  {
   "cell_type": "markdown",
   "id": "641578b1",
   "metadata": {
    "id": "641578b1"
   },
   "source": [
    "## 2. Task B: Neural Language Models <a name='neural_lm'></a>\n",
    "\n",
    "In this exercise, we will better understand the functioning of some simple neural language models. We first start with a fixed-window neural language model. In the following subsection, we will investigate an RNN-based language model."
   ]
  },
  {
   "cell_type": "markdown",
   "id": "88cee765",
   "metadata": {
    "id": "88cee765"
   },
   "source": [
    "### 2.1 Fixed-Window Neural Language Model <a name='fixed_window_lm'></a>\n",
    "This language model take as input a constant number of tokens, and then outputs a probability distribution for the next token. In this section, we assume the underlying model is a Multi-layer Perceptron (MLP) with a single hidden layer. This model doesn't have the sparsity issue of N-gram language models, but is always limited to a fixed window of tokens.\n",
    "\n",
    "In this section, we don't include the training of the model but rather we use a pretrained model on the same training dataset. We evaluate the language model over the `ptb_test` dataset, to show the power of neural language models, when compared to N-gram language models.\n",
    "\n",
    "More importantly, we use PyTorch modules in this section, so that you get more familiar with its capabilities. Throughout this exercise, we use a `window_size=3` for this model.\n",
    "\n"
   ]
  },
  {
   "cell_type": "markdown",
   "id": "6808da1e",
   "metadata": {
    "id": "6808da1e"
   },
   "source": [
    "Let's first create a dataset of all consecutive tokens of length `window_size` from the `ptb_train` dataset. you can read more about PyTorch datasets and how to create a custom dataset  [here](https://pytorch.org/tutorials/beginner/basics/data_tutorial.html#creating-a-custom-dataset-for-your-files)."
   ]
  },
  {
   "cell_type": "code",
   "execution_count": 10,
   "id": "70f5c3bf",
   "metadata": {
    "id": "70f5c3bf"
   },
   "outputs": [],
   "source": [
    "from torch.utils.data import Dataset, DataLoader\n",
    "\n",
    "window_size = 3\n",
    "vocabulary_size = 10000\n",
    "word_emb_dim = 100\n",
    "hidden_dim = 100\n",
    "\n",
    "\n",
    "class FixedWindowDataset(Dataset):\n",
    "    # read more about custom datasets at https://pytorch.org/tutorials/beginner/basics/data_tutorial.html\n",
    "    def __init__(self,\n",
    "                 train_dataset: datasets.arrow_dataset.Dataset,\n",
    "                 test_dataset: datasets.arrow_dataset.Dataset,\n",
    "                 window_size: int,\n",
    "                 vocabulary_size: int\n",
    "                ):\n",
    "        self.prepared_train_dataset = self.prepare_fixed_window_lm_dataset(train_dataset, window_size + 1)\n",
    "        self.prepared_test_dataset = self.prepare_fixed_window_lm_dataset(test_dataset, window_size + 1)\n",
    "\n",
    "        dataset_vocab = self.get_dataset_vocabulary(train_dataset)\n",
    "        # defining a dictionary that simply maps tokens to their respective index in the embedding matrix\n",
    "        self.word_to_index = {word: idx for idx,word in enumerate(dataset_vocab)}\n",
    "        self.index_to_word = {idx: word for idx,word in enumerate(dataset_vocab)}\n",
    "\n",
    "        assert vocabulary_size >= len(dataset_vocab) , f\"The dataset vocab size is {len(dataset_vocab)}!\"\n",
    "\n",
    "    def __len__(self):\n",
    "        return len(self.prepared_train_dataset)\n",
    "\n",
    "    def get_encoded_test_samples(self):\n",
    "        all_token_lists = [sample.split() for sample in self.prepared_test_dataset]\n",
    "        all_token_ids = [[self.word_to_index.get(word, self.word_to_index[\"<unk>\"])\n",
    "                          for word in token_list[:-1]]\n",
    "                         for token_list in all_token_lists\n",
    "                        ]\n",
    "        all_next_token_ids = [self.word_to_index.get(token_list[-1], self.word_to_index[\"<unk>\"]) for\n",
    "                              token_list in all_token_lists]\n",
    "        return torch.tensor(all_token_ids), torch.tensor(all_next_token_ids)\n",
    "\n",
    "    def __getitem__(self, idx):\n",
    "        # here we need to transform the data to the format we expect at the model input\n",
    "        token_list = self.prepared_train_dataset[idx].split()\n",
    "        # having a fallback to <unk> token if an unseen word is encoded.\n",
    "        token_ids = [self.word_to_index.get(word, self.word_to_index[\"<unk>\"]) for word in token_list[:-1]]\n",
    "        next_token_id = self.word_to_index.get(token_list[-1], self.word_to_index[\"<unk>\"])\n",
    "        return torch.tensor(token_ids), torch.tensor(next_token_id)\n",
    "\n",
    "    def decode_idx_to_word(self, token_id):\n",
    "        return [self.index_to_word[id_.item()] for id_ in token_id]\n",
    "\n",
    "    def get_dataset_vocabulary(self, train_dataset: datasets.arrow_dataset.Dataset):\n",
    "        vocab = sorted(set(\" \".join([sample[\"sentence\"] for sample in train_dataset]).split()))\n",
    "        # we also add a <start> token to include initial tokens in the sentences in the dataset\n",
    "        vocab += [\"<start>\"]\n",
    "        return vocab\n",
    "\n",
    "    @staticmethod\n",
    "    def prepare_fixed_window_lm_dataset(target_dataset: datasets.arrow_dataset.Dataset,\n",
    "                                        window_size: int):\n",
    "        '''\n",
    "        Please note that for the very first tokens, they will be added like \"<start> <start> Token#1\".\n",
    "        args:\n",
    "            target_dataset: the target dataset where its consecutive tokens of length 'window_size' should be extracted\n",
    "            window_size: the window size for the language model\n",
    "        output:\n",
    "            prepared_dataset: a list of strings each containing 'window_size' tokens.\n",
    "        '''\n",
    "\n",
    "        prepared_dataset = []\n",
    "\n",
    "        # YOUR CODE HERE\n",
    "        # TODO: (1) filter out sequences with length less than `window_size`\n",
    "        #       (2) prepend \"<start>\" tokens at the beginning of sequences\n",
    "        #       (3) add all sub-sequence with length as `window_size` into prepared_dataset\n",
    "\n",
    "        for sample in target_dataset:\n",
    "            if len(sample[\"sentence\"].split()) < window_size:\n",
    "                continue\n",
    "\n",
    "            words = sample[\"sentence\"].split()\n",
    "            words = [\"<start>\"] * (window_size - 1) + words\n",
    "\n",
    "            for i in range(len(words) - window_size + 1):\n",
    "                prepared_dataset.append(\" \".join(words[i:i + window_size]))\n",
    "\n",
    "        return prepared_dataset\n",
    "\n"
   ]
  },
  {
   "cell_type": "code",
   "execution_count": 11,
   "id": "524f4a18",
   "metadata": {
    "id": "524f4a18"
   },
   "outputs": [],
   "source": [
    "fixed_window_dataset = FixedWindowDataset(ptb_train, ptb_test, window_size, vocabulary_size)\n",
    "\n",
    "# let's create a simple dataloader for this dataset\n",
    "train_dataloader =  DataLoader(fixed_window_dataset, batch_size=8, shuffle=True)"
   ]
  },
  {
   "cell_type": "markdown",
   "id": "5b44e90d",
   "metadata": {
    "id": "5b44e90d"
   },
   "source": [
    "Now, let's define the underlying PyTorch model for the language model. You can read more about PyTorch models [here](https://pytorch.org/tutorials/beginner/introyt/modelsyt_tutorial.html).\n",
    "\n",
    "**Note**: Here in the forward pass, we compute the negative log-likelihood after passing through the MLP layers. Here we use `torch.nn.LogSoftmax`, as it's numerically more stable than doing seperately `softmax` followed by taking its logarithm."
   ]
  },
  {
   "cell_type": "code",
   "execution_count": 12,
   "id": "e3ea691f",
   "metadata": {
    "id": "e3ea691f"
   },
   "outputs": [],
   "source": [
    "import torch.optim as optim\n",
    "\n",
    "class Fixed_window_language_model(torch.nn.Module):\n",
    "    def __init__(self, emb_dim, hidden_dim, window_size, vocab_size=10000):\n",
    "        super().__init__()\n",
    "\n",
    "        self.window_size = window_size\n",
    "        self.emb_dim = emb_dim\n",
    "        self.word_embeddings = torch.nn.Embedding(vocab_size, emb_dim) # word embeddings\n",
    "        self.linear1 = torch.nn.Linear(window_size * emb_dim, hidden_dim) # first linear layer\n",
    "        self.activation_func = torch.tanh # the activation function\n",
    "        self.linear2 = torch.nn.Linear(hidden_dim, vocab_size) # second linear layer\n",
    "\n",
    "        self.log_softmax = torch.nn.LogSoftmax(dim=1)\n",
    "        self.criterion = torch.nn.NLLLoss()\n",
    "\n",
    "    def forward(self, input_ids, labels):\n",
    "        inputs_embeds = self.word_embeddings(input_ids)\n",
    "        concat_input_embed = inputs_embeds.reshape(-1, self.emb_dim * self.window_size)\n",
    "        hidden_state = self.activation_func( self.linear1(concat_input_embed) )\n",
    "        logits = self.log_softmax( self.linear2(hidden_state) )\n",
    "        loss = self.criterion(logits, labels)\n",
    "\n",
    "        return loss\n"
   ]
  },
  {
   "cell_type": "markdown",
   "id": "4dae5397",
   "metadata": {
    "id": "4dae5397"
   },
   "source": [
    "Now let's see how easy it is to train a model with PyTorch! (we provide a trained model in the cell after train, so that you can just start using the model without going through the time-consuming training)"
   ]
  },
  {
   "cell_type": "code",
   "execution_count": 13,
   "id": "93779901",
   "metadata": {
    "id": "93779901"
   },
   "outputs": [],
   "source": [
    "# defining the model\n",
    "model_fixed_window = Fixed_window_language_model(emb_dim=word_emb_dim, hidden_dim=hidden_dim,\n",
    "                                                 window_size=window_size, vocab_size=vocabulary_size)\n",
    "\n",
    "# defining the optimizer\n",
    "optimizer = optim.SGD(model_fixed_window.parameters(),\n",
    "                      lr=0.005,\n",
    "                      momentum=0.9)"
   ]
  },
  {
   "cell_type": "code",
   "execution_count": 14,
   "id": "77626d29",
   "metadata": {
    "id": "77626d29",
    "scrolled": true
   },
   "outputs": [
    {
     "name": "stdout",
     "output_type": "stream",
     "text": [
      "[1,  5000] loss: 6.787\n",
      "[1, 10000] loss: 6.256\n",
      "[1, 15000] loss: 6.133\n",
      "[1, 20000] loss: 6.064\n",
      "[1, 25000] loss: 6.025\n",
      "[1, 30000] loss: 5.951\n",
      "[1, 35000] loss: 5.942\n",
      "[1, 40000] loss: 5.911\n",
      "[1, 45000] loss: 5.847\n",
      "[1, 50000] loss: 5.842\n",
      "[1, 55000] loss: 5.825\n",
      "[1, 60000] loss: 5.792\n",
      "[1, 65000] loss: 5.754\n",
      "[1, 70000] loss: 5.758\n",
      "[1, 75000] loss: 5.738\n",
      "[1, 80000] loss: 5.741\n",
      "[1, 85000] loss: 5.740\n",
      "[1, 90000] loss: 5.706\n",
      "[2,  5000] loss: 5.555\n",
      "[2, 10000] loss: 5.561\n",
      "[2, 15000] loss: 5.604\n",
      "[2, 20000] loss: 5.571\n",
      "[2, 25000] loss: 5.550\n",
      "[2, 30000] loss: 5.580\n",
      "[2, 35000] loss: 5.557\n",
      "[2, 40000] loss: 5.543\n",
      "[2, 45000] loss: 5.539\n",
      "[2, 50000] loss: 5.562\n",
      "[2, 55000] loss: 5.539\n"
     ]
    },
    {
     "ename": "KeyboardInterrupt",
     "evalue": "",
     "output_type": "error",
     "traceback": [
      "\u001b[1;31m---------------------------------------------------------------------------\u001b[0m",
      "\u001b[1;31mKeyboardInterrupt\u001b[0m                         Traceback (most recent call last)",
      "Cell \u001b[1;32mIn[14], line 12\u001b[0m\n\u001b[0;32m      9\u001b[0m optimizer\u001b[38;5;241m.\u001b[39mzero_grad()\n\u001b[0;32m     11\u001b[0m \u001b[38;5;66;03m# forward + backward + optimize\u001b[39;00m\n\u001b[1;32m---> 12\u001b[0m loss \u001b[38;5;241m=\u001b[39m \u001b[43mmodel_fixed_window\u001b[49m\u001b[43m(\u001b[49m\u001b[43mcontext\u001b[49m\u001b[43m,\u001b[49m\u001b[43m \u001b[49m\u001b[43mtarget\u001b[49m\u001b[43m)\u001b[49m\n\u001b[0;32m     13\u001b[0m loss\u001b[38;5;241m.\u001b[39mbackward()\n\u001b[0;32m     14\u001b[0m optimizer\u001b[38;5;241m.\u001b[39mstep()\n",
      "File \u001b[1;32mc:\\Users\\sebge\\miniconda3\\envs\\modern_nlp\\lib\\site-packages\\torch\\nn\\modules\\module.py:1739\u001b[0m, in \u001b[0;36mModule._wrapped_call_impl\u001b[1;34m(self, *args, **kwargs)\u001b[0m\n\u001b[0;32m   1737\u001b[0m     \u001b[38;5;28;01mreturn\u001b[39;00m \u001b[38;5;28mself\u001b[39m\u001b[38;5;241m.\u001b[39m_compiled_call_impl(\u001b[38;5;241m*\u001b[39margs, \u001b[38;5;241m*\u001b[39m\u001b[38;5;241m*\u001b[39mkwargs)  \u001b[38;5;66;03m# type: ignore[misc]\u001b[39;00m\n\u001b[0;32m   1738\u001b[0m \u001b[38;5;28;01melse\u001b[39;00m:\n\u001b[1;32m-> 1739\u001b[0m     \u001b[38;5;28;01mreturn\u001b[39;00m \u001b[38;5;28mself\u001b[39m\u001b[38;5;241m.\u001b[39m_call_impl(\u001b[38;5;241m*\u001b[39margs, \u001b[38;5;241m*\u001b[39m\u001b[38;5;241m*\u001b[39mkwargs)\n",
      "File \u001b[1;32mc:\\Users\\sebge\\miniconda3\\envs\\modern_nlp\\lib\\site-packages\\torch\\nn\\modules\\module.py:1750\u001b[0m, in \u001b[0;36mModule._call_impl\u001b[1;34m(self, *args, **kwargs)\u001b[0m\n\u001b[0;32m   1745\u001b[0m \u001b[38;5;66;03m# If we don't have any hooks, we want to skip the rest of the logic in\u001b[39;00m\n\u001b[0;32m   1746\u001b[0m \u001b[38;5;66;03m# this function, and just call forward.\u001b[39;00m\n\u001b[0;32m   1747\u001b[0m \u001b[38;5;28;01mif\u001b[39;00m \u001b[38;5;129;01mnot\u001b[39;00m (\u001b[38;5;28mself\u001b[39m\u001b[38;5;241m.\u001b[39m_backward_hooks \u001b[38;5;129;01mor\u001b[39;00m \u001b[38;5;28mself\u001b[39m\u001b[38;5;241m.\u001b[39m_backward_pre_hooks \u001b[38;5;129;01mor\u001b[39;00m \u001b[38;5;28mself\u001b[39m\u001b[38;5;241m.\u001b[39m_forward_hooks \u001b[38;5;129;01mor\u001b[39;00m \u001b[38;5;28mself\u001b[39m\u001b[38;5;241m.\u001b[39m_forward_pre_hooks\n\u001b[0;32m   1748\u001b[0m         \u001b[38;5;129;01mor\u001b[39;00m _global_backward_pre_hooks \u001b[38;5;129;01mor\u001b[39;00m _global_backward_hooks\n\u001b[0;32m   1749\u001b[0m         \u001b[38;5;129;01mor\u001b[39;00m _global_forward_hooks \u001b[38;5;129;01mor\u001b[39;00m _global_forward_pre_hooks):\n\u001b[1;32m-> 1750\u001b[0m     \u001b[38;5;28;01mreturn\u001b[39;00m forward_call(\u001b[38;5;241m*\u001b[39margs, \u001b[38;5;241m*\u001b[39m\u001b[38;5;241m*\u001b[39mkwargs)\n\u001b[0;32m   1752\u001b[0m result \u001b[38;5;241m=\u001b[39m \u001b[38;5;28;01mNone\u001b[39;00m\n\u001b[0;32m   1753\u001b[0m called_always_called_hooks \u001b[38;5;241m=\u001b[39m \u001b[38;5;28mset\u001b[39m()\n",
      "Cell \u001b[1;32mIn[12], line 21\u001b[0m, in \u001b[0;36mFixed_window_language_model.forward\u001b[1;34m(self, input_ids, labels)\u001b[0m\n\u001b[0;32m     19\u001b[0m concat_input_embed \u001b[38;5;241m=\u001b[39m inputs_embeds\u001b[38;5;241m.\u001b[39mreshape(\u001b[38;5;241m-\u001b[39m\u001b[38;5;241m1\u001b[39m, \u001b[38;5;28mself\u001b[39m\u001b[38;5;241m.\u001b[39memb_dim \u001b[38;5;241m*\u001b[39m \u001b[38;5;28mself\u001b[39m\u001b[38;5;241m.\u001b[39mwindow_size)\n\u001b[0;32m     20\u001b[0m hidden_state \u001b[38;5;241m=\u001b[39m \u001b[38;5;28mself\u001b[39m\u001b[38;5;241m.\u001b[39mactivation_func( \u001b[38;5;28mself\u001b[39m\u001b[38;5;241m.\u001b[39mlinear1(concat_input_embed) )\n\u001b[1;32m---> 21\u001b[0m logits \u001b[38;5;241m=\u001b[39m \u001b[38;5;28mself\u001b[39m\u001b[38;5;241m.\u001b[39mlog_softmax( \u001b[38;5;28;43mself\u001b[39;49m\u001b[38;5;241;43m.\u001b[39;49m\u001b[43mlinear2\u001b[49m\u001b[43m(\u001b[49m\u001b[43mhidden_state\u001b[49m\u001b[43m)\u001b[49m )\n\u001b[0;32m     22\u001b[0m loss \u001b[38;5;241m=\u001b[39m \u001b[38;5;28mself\u001b[39m\u001b[38;5;241m.\u001b[39mcriterion(logits, labels)\n\u001b[0;32m     24\u001b[0m \u001b[38;5;28;01mreturn\u001b[39;00m loss\n",
      "File \u001b[1;32mc:\\Users\\sebge\\miniconda3\\envs\\modern_nlp\\lib\\site-packages\\torch\\nn\\modules\\module.py:1739\u001b[0m, in \u001b[0;36mModule._wrapped_call_impl\u001b[1;34m(self, *args, **kwargs)\u001b[0m\n\u001b[0;32m   1737\u001b[0m     \u001b[38;5;28;01mreturn\u001b[39;00m \u001b[38;5;28mself\u001b[39m\u001b[38;5;241m.\u001b[39m_compiled_call_impl(\u001b[38;5;241m*\u001b[39margs, \u001b[38;5;241m*\u001b[39m\u001b[38;5;241m*\u001b[39mkwargs)  \u001b[38;5;66;03m# type: ignore[misc]\u001b[39;00m\n\u001b[0;32m   1738\u001b[0m \u001b[38;5;28;01melse\u001b[39;00m:\n\u001b[1;32m-> 1739\u001b[0m     \u001b[38;5;28;01mreturn\u001b[39;00m \u001b[38;5;28mself\u001b[39m\u001b[38;5;241m.\u001b[39m_call_impl(\u001b[38;5;241m*\u001b[39margs, \u001b[38;5;241m*\u001b[39m\u001b[38;5;241m*\u001b[39mkwargs)\n",
      "File \u001b[1;32mc:\\Users\\sebge\\miniconda3\\envs\\modern_nlp\\lib\\site-packages\\torch\\nn\\modules\\module.py:1750\u001b[0m, in \u001b[0;36mModule._call_impl\u001b[1;34m(self, *args, **kwargs)\u001b[0m\n\u001b[0;32m   1745\u001b[0m \u001b[38;5;66;03m# If we don't have any hooks, we want to skip the rest of the logic in\u001b[39;00m\n\u001b[0;32m   1746\u001b[0m \u001b[38;5;66;03m# this function, and just call forward.\u001b[39;00m\n\u001b[0;32m   1747\u001b[0m \u001b[38;5;28;01mif\u001b[39;00m \u001b[38;5;129;01mnot\u001b[39;00m (\u001b[38;5;28mself\u001b[39m\u001b[38;5;241m.\u001b[39m_backward_hooks \u001b[38;5;129;01mor\u001b[39;00m \u001b[38;5;28mself\u001b[39m\u001b[38;5;241m.\u001b[39m_backward_pre_hooks \u001b[38;5;129;01mor\u001b[39;00m \u001b[38;5;28mself\u001b[39m\u001b[38;5;241m.\u001b[39m_forward_hooks \u001b[38;5;129;01mor\u001b[39;00m \u001b[38;5;28mself\u001b[39m\u001b[38;5;241m.\u001b[39m_forward_pre_hooks\n\u001b[0;32m   1748\u001b[0m         \u001b[38;5;129;01mor\u001b[39;00m _global_backward_pre_hooks \u001b[38;5;129;01mor\u001b[39;00m _global_backward_hooks\n\u001b[0;32m   1749\u001b[0m         \u001b[38;5;129;01mor\u001b[39;00m _global_forward_hooks \u001b[38;5;129;01mor\u001b[39;00m _global_forward_pre_hooks):\n\u001b[1;32m-> 1750\u001b[0m     \u001b[38;5;28;01mreturn\u001b[39;00m forward_call(\u001b[38;5;241m*\u001b[39margs, \u001b[38;5;241m*\u001b[39m\u001b[38;5;241m*\u001b[39mkwargs)\n\u001b[0;32m   1752\u001b[0m result \u001b[38;5;241m=\u001b[39m \u001b[38;5;28;01mNone\u001b[39;00m\n\u001b[0;32m   1753\u001b[0m called_always_called_hooks \u001b[38;5;241m=\u001b[39m \u001b[38;5;28mset\u001b[39m()\n",
      "File \u001b[1;32mc:\\Users\\sebge\\miniconda3\\envs\\modern_nlp\\lib\\site-packages\\torch\\nn\\modules\\linear.py:125\u001b[0m, in \u001b[0;36mLinear.forward\u001b[1;34m(self, input)\u001b[0m\n\u001b[0;32m    124\u001b[0m \u001b[38;5;28;01mdef\u001b[39;00m\u001b[38;5;250m \u001b[39m\u001b[38;5;21mforward\u001b[39m(\u001b[38;5;28mself\u001b[39m, \u001b[38;5;28minput\u001b[39m: Tensor) \u001b[38;5;241m-\u001b[39m\u001b[38;5;241m>\u001b[39m Tensor:\n\u001b[1;32m--> 125\u001b[0m     \u001b[38;5;28;01mreturn\u001b[39;00m \u001b[43mF\u001b[49m\u001b[38;5;241;43m.\u001b[39;49m\u001b[43mlinear\u001b[49m\u001b[43m(\u001b[49m\u001b[38;5;28;43minput\u001b[39;49m\u001b[43m,\u001b[49m\u001b[43m \u001b[49m\u001b[38;5;28;43mself\u001b[39;49m\u001b[38;5;241;43m.\u001b[39;49m\u001b[43mweight\u001b[49m\u001b[43m,\u001b[49m\u001b[43m \u001b[49m\u001b[38;5;28;43mself\u001b[39;49m\u001b[38;5;241;43m.\u001b[39;49m\u001b[43mbias\u001b[49m\u001b[43m)\u001b[49m\n",
      "\u001b[1;31mKeyboardInterrupt\u001b[0m: "
     ]
    }
   ],
   "source": [
    "for epoch in range(2):  # loop over the dataset multiple times\n",
    "\n",
    "    running_loss = 0.0\n",
    "    for i, data in enumerate(train_dataloader):\n",
    "        # get the inputs; data is a tuple of (context, target)\n",
    "        context, target = data\n",
    "\n",
    "        # zero the parameter gradients\n",
    "        optimizer.zero_grad()\n",
    "\n",
    "        # forward + backward + optimize\n",
    "        loss = model_fixed_window(context, target)\n",
    "        loss.backward()\n",
    "        optimizer.step()\n",
    "\n",
    "        # print statistics\n",
    "        running_loss += loss.item()\n",
    "        if i % 5000 == 4999. :    # print every 5000 mini-batches\n",
    "            print(f'[{epoch + 1}, {i + 1:5d}] loss: {running_loss / 5000:.3f}')\n",
    "            running_loss = 0.0\n",
    "\n",
    "print('Finished Training')\n",
    "\n",
    "# saving the trained model\n",
    "torch.save(model_fixed_window.state_dict(), \"fixed_window_model.pt\")"
   ]
  },
  {
   "cell_type": "markdown",
   "id": "0483dd01",
   "metadata": {
    "id": "0483dd01"
   },
   "source": [
    "We provide a trained model, so that you can start using it right away"
   ]
  },
  {
   "cell_type": "code",
   "execution_count": 15,
   "id": "54ba51b1",
   "metadata": {
    "id": "54ba51b1"
   },
   "outputs": [
    {
     "data": {
      "text/plain": [
       "<All keys matched successfully>"
      ]
     },
     "execution_count": 15,
     "metadata": {},
     "output_type": "execute_result"
    }
   ],
   "source": [
    "fixed_window_checkpoint_file = \"fixed_window_model.pt\"\n",
    "model_fixed_window.load_state_dict(torch.load(fixed_window_checkpoint_file))"
   ]
  },
  {
   "cell_type": "code",
   "execution_count": 16,
   "id": "b806f375",
   "metadata": {
    "id": "b806f375"
   },
   "outputs": [],
   "source": [
    "# context and 'target' ids (target is the next word after the context)\n",
    "test_token_ids, test_target_ids = fixed_window_dataset.get_encoded_test_samples()"
   ]
  },
  {
   "cell_type": "markdown",
   "id": "f87e283d",
   "metadata": {
    "id": "f87e283d"
   },
   "source": [
    "We now have the `test_token_ids`, `test_target_ids` tensors for the test dataset. The `test_token_ids` are the context ids and `test_target_ids` are the respective **next token** (a.k.a. target here) for these contexts.\n",
    "#### Using the trained model, implement a function that can output the loss for the discussed test dataset. How can we generally decide if the model is overfitted to the train dataset or not?"
   ]
  },
  {
   "cell_type": "code",
   "execution_count": null,
   "id": "e352e019",
   "metadata": {
    "id": "e352e019"
   },
   "outputs": [],
   "source": [
    "def generate_test_dataset_loss(model: torch.nn.Module,\n",
    "                               test_token_ids: torch.Tensor,\n",
    "                               test_target_ids: torch.Tensor):\n",
    "    '''\n",
    "    args:\n",
    "        model: fixed-window language model\n",
    "        test_token_ids: the context ids in a single tensor.\n",
    "        test_target_ids: the target ids (next token after the context) in a single tensor.\n",
    "    output:\n",
    "        avg_test_loss: The average loss of model over test dataset.\n",
    "    '''\n",
    "    batch_size = 4\n",
    "    test_loss = []\n",
    "\n",
    "\n",
    "    # YOUR CODE HERE\n",
    "\n",
    "    return avg_test_loss\n",
    "\n",
    "\n",
    "test_dataset_loss = generate_test_dataset_loss(model_fixed_window, test_token_ids, test_target_ids)\n",
    "print(f\"Test dataset loss is {test_dataset_loss}\")"
   ]
  },
  {
   "cell_type": "markdown",
   "id": "085d7476",
   "metadata": {
    "id": "085d7476"
   },
   "source": [
    "#### Using the trained fixed-window model, implement a function that can output entropy for a given sequence."
   ]
  },
  {
   "cell_type": "code",
   "execution_count": null,
   "id": "db54e454",
   "metadata": {
    "id": "db54e454"
   },
   "outputs": [],
   "source": [
    "def get_seqeuence_entropy_fixed_window_lm(model: torch.nn.Module,\n",
    "                                              input_sequence: str,\n",
    "                                              window_size: int,\n",
    "                                              word_to_idx: dict):\n",
    "    '''\n",
    "    Note that e.g., in order to get the first token probability, you need to pass a sequence\n",
    "    like \"<start> <start> <start>\" (prefix padding) to the neural model. In a similar fashion, we need to pass\n",
    "    \"<start> <start> TOKEN#1\" for getting the probability of the second token.\n",
    "    args:\n",
    "        model: fixed-window language model\n",
    "        input_sequence: the sequence for which we want to calculate the probability\n",
    "        window_size: the size of window for the language model\n",
    "        word_to_idx: a mapping from words to the embedding indices (to encode tokens before being\n",
    "                     passed to model). You can get this dict from 'fixed_window_dataset.word_to_index'\n",
    "    output:\n",
    "        sequence_entropy: the entropy for the input sequence using the trained model\n",
    "    '''\n",
    "    modified_sentence = \"<start> \" * (window_size) + input_sequence\n",
    "\n",
    "    token_list = modified_sentence.split()\n",
    "    encoded_context = []\n",
    "    encoded_target = []\n",
    "\n",
    "    for idx in range(len(token_list)-window_size):\n",
    "        # TODO: add items into encoded_context and encoded_target.\n",
    "        # YOUR CODE HERE\n",
    "        encoded_context.append(...)\n",
    "        encoded_target.append(...)\n",
    "\n",
    "    encoded_context = torch.tensor(encoded_context)\n",
    "    encoded_target = torch.tensor(encoded_target)\n",
    "\n",
    "    # TODO: passing the context (and respective labels) to the fixed-window LM to get average NLL.\n",
    "    # YOUR CODE HERE\n",
    "    with torch.no_grad():\n",
    "        sequence_entropy = ...\n",
    "\n",
    "    return sequence_entropy"
   ]
  },
  {
   "cell_type": "markdown",
   "id": "7d055835",
   "metadata": {
    "id": "7d055835"
   },
   "source": [
    "#### Compute the perplexity for the trained fixed-window language model over `ptb_test` dataset using the previous function. How does it perform compared to N-gram language models we discussed earlier?"
   ]
  },
  {
   "cell_type": "code",
   "execution_count": null,
   "id": "f4289886",
   "metadata": {
    "id": "f4289886"
   },
   "outputs": [],
   "source": [
    "perplexity = -1\n",
    "\n",
    "# YOUR CODE HERE\n",
    "\n",
    "print(f\"The fixed-window model perplexity over test dataset is {perplexity}\")"
   ]
  },
  {
   "cell_type": "markdown",
   "id": "240c3d89",
   "metadata": {
    "id": "240c3d89"
   },
   "source": [
    "### 2.2 RNN-based Language Model <a name='rnn_lm'></a>\n",
    "To address the need for a neural architecture that can proceed with any length input (as opposed to the fixed-window model that can only process a fixed number of tokens), we implement the Recurrent Neural Network (RNN). The core idea behind is that we can apply the same weight W repeatedly.\n",
    "\n",
    "An advatange of RNN model compared to fixed-window langauage model is that we can pass a given sentence at once, instead of passing it in many windows of size `window_size`. Moreover, the language model has the ability to look behind further that a fixed number of tokens.\n",
    "\n",
    " As we already did a neural model training exercise for the previous neural model, we only provide a trained LM at this section, so that you can focus only on the analysis part.\n",
    "\n",
    "You can find the dataset structure as well as the RNN architecture in the `rnn_utils.py` file."
   ]
  },
  {
   "cell_type": "code",
   "execution_count": null,
   "id": "fc631bc1",
   "metadata": {
    "id": "fc631bc1"
   },
   "outputs": [],
   "source": [
    "from rnn_utils import RNNDataset, RNN_language_model\n",
    "\n",
    "vocabulary_size = 10000\n",
    "word_emb_dim = 200\n",
    "hidden_dim = 200\n",
    "\n",
    "rnn_dataset = RNNDataset(ptb_train, ptb_test, vocabulary_size)\n",
    "\n",
    "# if gpu is available, we puts the model on it\n",
    "device = torch.device(\"cuda:0\" if torch.cuda.is_available() else \"cpu\")\n",
    "\n",
    "# Here we need a <pad> token for the RNN model, in order to have a batch of sequences with difference sizes\n",
    "pad_idx = rnn_dataset.pad_idx # the index for <pad> token\n",
    "rnn_model = RNN_language_model(vocab_size=vocabulary_size, emb_dim=word_emb_dim, hidden_dim=hidden_dim,\n",
    "                               pad_idx=pad_idx)\n",
    "rnn_model.to(device)"
   ]
  },
  {
   "cell_type": "markdown",
   "id": "25137a9f",
   "metadata": {
    "id": "25137a9f"
   },
   "source": [
    "load the model weights using the state_dict in `rnn_model.pt` file."
   ]
  },
  {
   "cell_type": "code",
   "execution_count": null,
   "id": "52adb1f9",
   "metadata": {
    "id": "52adb1f9"
   },
   "outputs": [],
   "source": [
    "# YOUR CODE HERE\n",
    "# TODO: Load the model state_dict and map to the correct device"
   ]
  },
  {
   "cell_type": "markdown",
   "id": "f06eb967",
   "metadata": {
    "id": "f06eb967"
   },
   "source": [
    "As the training of an RNN model is time-consuming, we provide a trained language model on this dataset (`rnn_model.pt`), so that you can just analyze the model performance here.\n",
    "As mentioned above, as RNN can get sequences with varying lengths, the input sequences should be padded with a special token like `<pad>`, so that we can create a batch of sentences. The output of the defined RNN model (see the architecture detail `rnn_utils.py`) is the model's entropy over the input data.\n",
    "\n",
    "#### First get the encoded test samples of `ptb_test` dataset, and then pass these (already padded) sentences to the RNN model to get the respective entropy values. Compute the perplexity of the model and compare it with previous approaches.\n",
    "**HINT**: Read `get_encoded_test_samples` method of `rnn_dataset` and all model attribution and methods from `RNN_language_model`, e.g. how to perform forward pass and loss computations.\n"
   ]
  },
  {
   "cell_type": "code",
   "execution_count": null,
   "id": "09d7b99f",
   "metadata": {
    "id": "09d7b99f"
   },
   "outputs": [],
   "source": [
    "test_perplexity = -1\n",
    "\n",
    "test_token_ids = rnn_dataset.get_encoded_test_samples()\n",
    "\n",
    "test_loss = []\n",
    "eval_batch_size = 8\n",
    "\n",
    "with torch.no_grad():\n",
    "    for data_idx in range(0, test_token_ids.shape[0], eval_batch_size):\n",
    "        # TODO: get one test batch with batch_size = eval_batch_size\n",
    "        context_batch = ...\n",
    "\n",
    "        batch_max_seq_length = (context_batch!=rnn_dataset.pad_idx).sum(dim=1).max().item()\n",
    "        context_batch = context_batch[:, :batch_max_seq_length]\n",
    "\n",
    "        # TODO: get loss on one batch with rnn_model\n",
    "        batch_loss = ...\n",
    "        test_loss.append(batch_loss.item())\n",
    "avg_test_loss = np.array(test_loss).mean()\n",
    "test_perplexity = np.exp(avg_test_loss)\n",
    "\n",
    "print(f\"The model perplexity is {test_perplexity}\")"
   ]
  }
 ],
 "metadata": {
  "colab": {
   "provenance": []
  },
  "kernelspec": {
   "display_name": "modern_nlp",
   "language": "python",
   "name": "python3"
  },
  "language_info": {
   "codemirror_mode": {
    "name": "ipython",
    "version": 3
   },
   "file_extension": ".py",
   "mimetype": "text/x-python",
   "name": "python",
   "nbconvert_exporter": "python",
   "pygments_lexer": "ipython3",
   "version": "3.10.11"
  }
 },
 "nbformat": 4,
 "nbformat_minor": 5
}
